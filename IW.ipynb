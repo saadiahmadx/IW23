{
  "cells": [
    {
      "cell_type": "markdown",
      "metadata": {
        "id": "view-in-github",
        "colab_type": "text"
      },
      "source": [
        "<a href=\"https://colab.research.google.com/github/saadiahmadx/IW23/blob/main/IW.ipynb\" target=\"_parent\"><img src=\"https://colab.research.google.com/assets/colab-badge.svg\" alt=\"Open In Colab\"/></a>"
      ]
    },
    {
      "cell_type": "markdown",
      "metadata": {
        "id": "0i2upx58l0wS"
      },
      "source": [
        "# Brainstorm\n",
        "\n"
      ]
    },
    {
      "cell_type": "markdown",
      "metadata": {
        "id": "NOXPMlp-Gqtd"
      },
      "source": [
        "Constitution Ideas:\n",
        "* target-only (has mention; control)\n",
        "* hateful keyword\n",
        "*  -->\n",
        "\n",
        "google trends: \"black lives matter\":\n",
        "* May 3 - Dec 26, 2020 (1% to 1%)\n",
        "* May 17 - Aug 22 (spike onset to decay; has longer tail)\n",
        "\n",
        "google trends: \"looting\":\n",
        "* May 17 - June 20 (spike onset to decay; no tail)\n",
        "\n",
        "google trends: \"blue lives matter\":\n",
        "* May 17 - July 11 (spike onset to decay; long tail)\n",
        "\n",
        "Annotation Strategy:\n",
        "1. Select tweets by oversampling tweets with BLM or \"hate\" keywords\n",
        "2. 2 annnotators read texts, sample 50 tweets, go over and discuss with me, revisit 50 tweets for changes, go over, done\n",
        "3. annotators annotate 3k tweets\n",
        "4. Note inter-rater score and Cohen's Kappa score\n",
        "5. Select data classified the same by BOTH annotators"
      ]
    },
    {
      "cell_type": "markdown",
      "metadata": {
        "id": "c95JcqzxQKGN"
      },
      "source": [
        "\n",
        "# Add and clean dataset"
      ]
    },
    {
      "cell_type": "markdown",
      "metadata": {
        "id": "yL5IafhpSoss"
      },
      "source": [
        "**Dataset info:**\n",
        "* 9165 tweets\n",
        "* data collection period: 05/27 to 7/26 (2 months)\n",
        "* excluded users <150 followers (reduce bot spam tweets)\n",
        "* hate-speech specific tweets targeted via hashtags: BLM, ChangeTheSystem, AtlantaProtest, JusticeForGeorgeFloyd, BlueLivesMatter\n",
        "\n",
        "**Annotation criteria**\n",
        "* mention of hateful text\n",
        "* mention of non-hateful text\n",
        "* 5 undergrad/grad annotators, 100% agreement of at least 2/3 annotators selects tweet for final annotation, if agreement of last 2 annotators then final labeled, otherwise remove tweet from consideration\n",
        "\n"
      ]
    },
    {
      "cell_type": "code",
      "execution_count": 8,
      "metadata": {
        "colab": {
          "base_uri": "https://localhost:8080/"
        },
        "id": "pLECiKNK8B0d",
        "outputId": "cceac4eb-be12-4a6f-8e7f-37a5c50dfd5a"
      },
      "outputs": [
        {
          "output_type": "stream",
          "name": "stdout",
          "text": [
            "Looking in indexes: https://pypi.org/simple, https://us-python.pkg.dev/colab-wheels/public/simple/\n",
            "Collecting contractions\n",
            "  Downloading contractions-0.1.73-py2.py3-none-any.whl (8.7 kB)\n",
            "Collecting textsearch>=0.0.21\n",
            "  Downloading textsearch-0.0.24-py2.py3-none-any.whl (7.6 kB)\n",
            "Collecting anyascii\n",
            "  Downloading anyascii-0.3.1-py3-none-any.whl (287 kB)\n",
            "\u001b[2K     \u001b[90m━━━━━━━━━━━━━━━━━━━━━━━━━━━━━━━━━━━━━━━\u001b[0m \u001b[32m287.5/287.5 KB\u001b[0m \u001b[31m6.2 MB/s\u001b[0m eta \u001b[36m0:00:00\u001b[0m\n",
            "\u001b[?25hCollecting pyahocorasick\n",
            "  Downloading pyahocorasick-2.0.0-cp39-cp39-manylinux_2_5_x86_64.manylinux1_x86_64.whl (103 kB)\n",
            "\u001b[2K     \u001b[90m━━━━━━━━━━━━━━━━━━━━━━━━━━━━━━━━━━━━━━\u001b[0m \u001b[32m103.2/103.2 KB\u001b[0m \u001b[31m12.4 MB/s\u001b[0m eta \u001b[36m0:00:00\u001b[0m\n",
            "\u001b[?25hInstalling collected packages: pyahocorasick, anyascii, textsearch, contractions\n",
            "Successfully installed anyascii-0.3.1 contractions-0.1.73 pyahocorasick-2.0.0 textsearch-0.0.24\n"
          ]
        }
      ],
      "source": [
        "pip install contractions"
      ]
    },
    {
      "cell_type": "code",
      "execution_count": 9,
      "metadata": {
        "colab": {
          "base_uri": "https://localhost:8080/"
        },
        "id": "8bgjip_c-72h",
        "outputId": "68c004ce-b807-4eff-820a-17d5180e0fab"
      },
      "outputs": [
        {
          "output_type": "stream",
          "name": "stdout",
          "text": [
            "Looking in indexes: https://pypi.org/simple, https://us-python.pkg.dev/colab-wheels/public/simple/\n",
            "Requirement already satisfied: nltk in /usr/local/lib/python3.9/dist-packages (3.7)\n",
            "Requirement already satisfied: tqdm in /usr/local/lib/python3.9/dist-packages (from nltk) (4.65.0)\n",
            "Requirement already satisfied: click in /usr/local/lib/python3.9/dist-packages (from nltk) (8.1.3)\n",
            "Requirement already satisfied: joblib in /usr/local/lib/python3.9/dist-packages (from nltk) (1.2.0)\n",
            "Requirement already satisfied: regex>=2021.8.3 in /usr/local/lib/python3.9/dist-packages (from nltk) (2022.6.2)\n"
          ]
        }
      ],
      "source": [
        "pip install nltk"
      ]
    },
    {
      "cell_type": "code",
      "execution_count": 10,
      "metadata": {
        "colab": {
          "base_uri": "https://localhost:8080/"
        },
        "id": "MagetBdeUQE-",
        "outputId": "977d53ac-5105-4df9-c7c2-25a5ce09abb2"
      },
      "outputs": [
        {
          "output_type": "stream",
          "name": "stderr",
          "text": [
            "[nltk_data] Downloading package punkt to /root/nltk_data...\n",
            "[nltk_data]   Package punkt is already up-to-date!\n",
            "[nltk_data] Downloading package stopwords to /root/nltk_data...\n",
            "[nltk_data]   Package stopwords is already up-to-date!\n"
          ]
        },
        {
          "output_type": "execute_result",
          "data": {
            "text/plain": [
              "True"
            ]
          },
          "metadata": {},
          "execution_count": 10
        }
      ],
      "source": [
        "import nltk\n",
        "import pandas as pd\n",
        "import ast\n",
        "from IPython.display import display\n",
        "nltk.download('punkt')\n",
        "nltk.download('stopwords')"
      ]
    },
    {
      "cell_type": "code",
      "execution_count": 11,
      "metadata": {
        "id": "e42JTWpHl2WR"
      },
      "outputs": [],
      "source": [
        "url = 'https://raw.githubusercontent.com/saadiahmadx/IW23/main/TweetBLM.csv'\n",
        "df = pd.read_csv(url)\n",
        "updated_df = df"
      ]
    },
    {
      "cell_type": "markdown",
      "metadata": {
        "id": "6ddexRstfygw"
      },
      "source": [
        "info. gathering + basic dataset cleaning "
      ]
    },
    {
      "cell_type": "code",
      "execution_count": 12,
      "metadata": {
        "colab": {
          "base_uri": "https://localhost:8080/"
        },
        "id": "MZIp_HKJJJWG",
        "outputId": "dae5a5ac-63b2-421c-a6e9-ee0cfa1e691e"
      },
      "outputs": [
        {
          "output_type": "stream",
          "name": "stdout",
          "text": [
            "n = 9165 \n",
            "\n",
            "0    0.663502\n",
            "1    0.336498\n",
            "Name: hate label, dtype: float64 (normalized) \n",
            "\n",
            "Twitter for iPhone     0.338791\n",
            "Twitter for Android    0.311722\n",
            "Twitter Web App        0.274722\n",
            "Twitter for iPad       0.046169\n",
            "TweetDeck              0.004802\n",
            "                         ...   \n",
            "SYSTHUB                0.000109\n",
            "WordPress.com          0.000109\n",
            "Biden Cabinet App      0.000109\n",
            "Echofon                0.000109\n",
            "dlvr.it                0.000109\n",
            "Name: source, Length: 79, dtype: float64 (normalized) \n",
            "\n",
            "(2020-03-23 12:21:40, 2020-08-10 11:00:00]              0.133333\n",
            "(2009-02-11 03:50:00, 2009-07-01 02:28:20]              0.060447\n",
            "(2019-11-04 13:43:20, 2020-03-23 12:21:40]              0.053028\n",
            "(2019-06-17 15:05:00, 2019-11-04 13:43:20]              0.045063\n",
            "(2016-10-11 00:36:40, 2017-02-27 23:15:00]              0.035352\n",
            "(2011-05-31 19:40:00, 2011-10-18 18:18:20]              0.034479\n",
            "(2009-07-01 02:28:20, 2009-11-18 01:06:40]              0.033279\n",
            "(2018-09-10 17:48:20, 2019-01-28 16:26:40]              0.032188\n",
            "(2017-12-04 20:31:40, 2018-04-23 19:10:00]              0.031860\n",
            "(2019-01-28 16:26:40, 2019-06-17 15:05:00]              0.030987\n",
            "(2018-04-23 19:10:00, 2018-09-10 17:48:20]              0.029351\n",
            "(2011-01-11 21:01:40, 2011-05-31 19:40:00]              0.028478\n",
            "(2011-10-18 18:18:20, 2012-03-06 16:56:40]              0.028151\n",
            "(2012-03-06 16:56:40, 2012-07-24 15:35:00]              0.027059\n",
            "(2017-02-27 23:15:00, 2017-07-17 21:53:20]              0.026732\n",
            "(2013-09-17 11:30:00, 2014-02-04 10:08:20]              0.026732\n",
            "(2016-01-05 03:20:00, 2016-05-24 01:58:20]              0.025750\n",
            "(2015-08-18 04:41:40, 2016-01-05 03:20:00]              0.025205\n",
            "(2014-02-04 10:08:20, 2014-06-24 08:46:40]              0.024986\n",
            "(2012-07-24 15:35:00, 2012-12-11 14:13:20]              0.024223\n",
            "(2014-06-24 08:46:40, 2014-11-11 07:25:00]              0.023786\n",
            "(2012-12-11 14:13:20, 2013-04-30 12:51:40]              0.022913\n",
            "(2017-07-17 21:53:20, 2017-12-04 20:31:40]              0.022804\n",
            "(2016-05-24 01:58:20, 2016-10-11 00:36:40]              0.022695\n",
            "(2013-04-30 12:51:40, 2013-09-17 11:30:00]              0.021931\n",
            "(2009-11-18 01:06:40, 2010-04-06 23:45:00]              0.021604\n",
            "(2015-03-31 06:03:20, 2015-08-18 04:41:40]              0.019967\n",
            "(2008-09-24 05:11:40, 2009-02-11 03:50:00]              0.019422\n",
            "(2014-11-11 07:25:00, 2015-03-31 06:03:20]              0.019094\n",
            "(2010-04-06 23:45:00, 2010-08-24 22:23:20]              0.019094\n",
            "(2010-08-24 22:23:20, 2011-01-11 21:01:40]              0.018985\n",
            "(2008-05-07 06:33:20, 2008-09-24 05:11:40]              0.004583\n",
            "(2007-12-19 07:55:00, 2008-05-07 06:33:20]              0.002728\n",
            "(2007-08-01 09:16:40, 2007-12-19 07:55:00]              0.001418\n",
            "(2007-03-14 10:38:20, 2007-08-01 09:16:40]              0.001200\n",
            "(2006-10-20 11:05:20.399999999, 2007-03-14 10:38:20]    0.000764\n",
            "Name: user_created, dtype: float64 (normalized) \n",
            "\n",
            "(2020-03-25 17:54:18.333333248, 2020-08-10 08:27:00]              0.132944\n",
            "(2019-11-09 03:21:36.666666496, 2020-03-25 17:54:18.333333248]    0.056744\n",
            "(2008-12-05 13:33:28.333333248, 2009-04-22 04:06:10]              0.050908\n",
            "(2009-04-22 04:06:10, 2009-09-06 18:38:51.666666752]              0.042802\n",
            "(2019-06-24 12:48:55, 2019-11-09 03:21:36.666666496]              0.041505\n",
            "(2011-03-11 04:49:38.333333248, 2011-07-26 19:22:20]              0.033398\n",
            "(2018-09-22 07:43:31.666666496, 2019-02-06 22:16:13.333333248]    0.031128\n",
            "(2013-06-13 20:05:48.333333248, 2013-10-29 10:38:30]              0.030480\n",
            "(2012-04-27 00:27:43.333333248, 2012-09-11 15:00:25]              0.030480\n",
            "(2017-12-21 02:38:08.333333248, 2018-05-07 17:10:50]              0.029831\n",
            "(2019-02-06 22:16:13.333333248, 2019-06-24 12:48:55]              0.029183\n",
            "(2018-05-07 17:10:50, 2018-09-22 07:43:31.666666496]              0.029183\n",
            "(2011-07-26 19:22:20, 2011-12-11 09:55:01.666666752]              0.029183\n",
            "(2014-03-16 01:11:11.666666752, 2014-07-31 15:43:53.333333248]    0.028210\n",
            "(2012-09-11 15:00:25, 2013-01-27 05:33:06.666666752]              0.026913\n",
            "(2011-12-11 09:55:01.666666752, 2012-04-27 00:27:43.333333248]    0.026913\n",
            "(2016-11-03 07:00:03.333333248, 2017-03-20 21:32:45]              0.024968\n",
            "(2009-09-06 18:38:51.666666752, 2010-01-22 09:11:33.333333248]    0.023995\n",
            "(2010-10-24 14:16:56.666666752, 2011-03-11 04:49:38.333333248]    0.023671\n",
            "(2010-01-22 09:11:33.333333248, 2010-06-08 23:44:15]              0.023671\n",
            "(2014-12-16 06:16:35, 2015-05-02 20:49:16.666666752]              0.023671\n",
            "(2015-09-17 11:21:58.333333248, 2016-02-02 01:54:40]              0.023671\n",
            "(2016-02-02 01:54:40, 2016-06-18 16:27:21.666666496]              0.022698\n",
            "(2017-03-20 21:32:45, 2017-08-05 12:05:26.666666496]              0.022374\n",
            "(2015-05-02 20:49:16.666666752, 2015-09-17 11:21:58.333333248]    0.022374\n",
            "(2013-01-27 05:33:06.666666752, 2013-06-13 20:05:48.333333248]    0.021401\n",
            "(2016-06-18 16:27:21.666666496, 2016-11-03 07:00:03.333333248]    0.020752\n",
            "(2013-10-29 10:38:30, 2014-03-16 01:11:11.666666752]              0.019455\n",
            "(2014-07-31 15:43:53.333333248, 2014-12-16 06:16:35]              0.018482\n",
            "(2017-08-05 12:05:26.666666496, 2017-12-21 02:38:08.333333248]    0.017834\n",
            "(2010-06-08 23:44:15, 2010-10-24 14:16:56.666666752]              0.017510\n",
            "(2008-07-20 23:00:46.666666752, 2008-12-05 13:33:28.333333248]    0.012646\n",
            "(2008-03-05 08:28:05, 2008-07-20 23:00:46.666666752]              0.005837\n",
            "(2007-01-12 13:56:30.179999999, 2007-06-04 03:22:41.666666752]    0.002918\n",
            "(2007-10-19 17:55:23.333333248, 2008-03-05 08:28:05]              0.000973\n",
            "(2007-06-04 03:22:41.666666752, 2007-10-19 17:55:23.333333248]    0.000324\n",
            "Name: user_created, dtype: float64 (hate only, normalized) \n",
            "\n",
            "['BlackLivesMatter']                                                                      0.531094\n",
            "['BLM']                                                                                   0.080950\n",
            "['MeToo', 'BLM']                                                                          0.028597\n",
            "['HBDMaheshBabu', 'TwitterBestFandom']                                                    0.022999\n",
            "['PortlandPolice']                                                                        0.016039\n",
            "                                                                                            ...   \n",
            "['abolishthecarceralstate', 'today', 'Bronx', 'Brooklyn', 'Manhattan', 'StatenIsland']    0.000151\n",
            "['BLM', 'WhitePrivilege', 'WWG1GWA']                                                      0.000151\n",
            "['PoliceBrutality', 'blm']                                                                0.000151\n",
            "['Earworm']                                                                               0.000151\n",
            "['austinprotests', 'livestream', 'backtheblue']                                           0.000151\n",
            "Name: hashtags, Length: 825, dtype: float64 (normalized) \n",
            "\n"
          ]
        }
      ],
      "source": [
        "print ('n =', df['hate label'].count(), '\\n')\n",
        "print(df['hate label'].value_counts(normalize=True), '(normalized) \\n')\n",
        "print(df['source'].value_counts(normalize=True), '(normalized) \\n')\n",
        "\n",
        "#convert user_created dates to numeric\n",
        "updated_df['user_created'] = pd.to_datetime(df['user_created'], errors='coerce', dayfirst=True)\n",
        "\n",
        "#collection period, 1mo before, 6mo, 1yr, 5yr\n",
        "custom_bins = ['2020-08-10 11:00:00', '2020-05-26 00:00:00', '2020-04-26 00:00:00', '2019-11-26 00:00:00', '2019-05-26 00:00:00', '2015-05-26 00:00:00']\n",
        "custom_bins = pd.to_datetime(custom_bins.reverse())\n",
        "print(updated_df['user_created'].value_counts(normalize=True, bins=36), '(normalized) \\n')\n",
        "updated_df1 = updated_df.loc[updated_df['hate label'] == 1]\n",
        "print(updated_df1['user_created'].value_counts(normalize=True, bins=36), '(hate only, normalized) \\n')\n",
        "#df.loc[df['column_name'] == some_value]\n",
        "print(updated_df['hashtags'].value_counts(normalize=True), '(normalized) \\n')\n",
        "# def convert_hashtag_string(s):\n",
        "#   t = ast.literal_eval(s)\n",
        "#   t = [n.strip() for n in t]\n",
        "#   return t\n",
        "# all_hashtags = []\n",
        "# for index, row in df['hashtags'].iteritems():\n",
        "#   print(row)\n",
        "#   if (row):\n",
        "#     h = convert_hashtag_string(str(row).replace('\\'', '\"'))\n",
        "#     all_hashtags = all_hashtags + h\n",
        "# df_hashtag = pd.Series(all_hashtags)\n",
        "# print(df_hashtag.value_counts(normalize=True))"
      ]
    },
    {
      "cell_type": "markdown",
      "metadata": {
        "id": "stfGs8jmf646"
      },
      "source": [
        "tweet preprocessing"
      ]
    },
    {
      "cell_type": "code",
      "execution_count": 13,
      "metadata": {
        "colab": {
          "base_uri": "https://localhost:8080/"
        },
        "id": "iJ7yRvYAf6KO",
        "outputId": "09daf341-c380-4ef5-fbf3-4e61e21a51d0"
      },
      "outputs": [
        {
          "output_type": "stream",
          "name": "stdout",
          "text": [
            " Original Tweet:\n",
            " RT @AgainWoodsy: 🍏🍏 Don't like mentally retarded & weird @JoeBiden #BlackLivesMatter activists screaming like big girls in a shopping store. https://t.co/KlhxJoSoLu \n",
            "\n",
            " Processed Tweet:\n",
            " ['like', 'mentally', 'retarded', 'weird', 'activists', 'screaming', 'like', 'big', 'girls', 'shopping', 'store'] \n",
            " Processed Tweet (light):\n",
            " 🍏🍏 don't like mentally retarded & weird activists screaming like big girls in a shopping store. \n",
            "\n",
            "Media Link: https://t.co/KlhxJoSoLu \n",
            "Retweet: ['AgainWoodsy'] \n",
            "Mentions: ['AgainWoodsy', 'JoeBiden'] \n",
            "Hashtags: ['BlackLivesMatter']\n"
          ]
        }
      ],
      "source": [
        "import re, string, unicodedata\n",
        "import contractions\n",
        "import nltk\n",
        "import inflect\n",
        "from nltk import word_tokenize, sent_tokenize\n",
        "from nltk.corpus import stopwords\n",
        "from nltk.stem import LancasterStemmer, WordNetLemmatizer\n",
        "from nltk.util import ngrams\n",
        "\n",
        "text='RT @AgainWoodsy: 🍏🍏 Don\\'t like mentally retarded & weird @JoeBiden #BlackLivesMatter activists screaming like big girls in a shopping store. https://t.co/KlhxJoSoLu'\n",
        "\n",
        "def get_media_url(tweet):\n",
        "  media_link = 'https://t.co/' + re.findall(\"https://t.co/([a-zA-Z0-9_]{1,50})\", tweet)[0]\n",
        "  return media_link\n",
        "\n",
        "def get_retweet(tweet):\n",
        "  return re.findall(\"RT @([a-zA-Z0-9_]{1,50})\", tweet)\n",
        "\n",
        "def get_mentions(tweet):\n",
        "  return re.findall(\"@([a-zA-Z0-9_]{1,50})\", tweet)\n",
        "\n",
        "def get_hashtags(tweet):\n",
        "  return re.findall(\"#([a-zA-Z0-9_]{1,50})\", tweet)\n",
        "\n",
        "def remove_url(text):\n",
        "  return re.sub(r\"https?:[^\\s]+\", \"\", text)\n",
        "\n",
        "def remove_contractions(text):\n",
        "  return contractions.fix(text)\n",
        "\n",
        "def remove_non_ascii(words):\n",
        "    new_words = []\n",
        "    for word in words:\n",
        "        new_word = unicodedata.normalize('NFKD', word).encode('ascii', 'ignore').decode('utf-8', 'ignore')\n",
        "        new_words.append(new_word)\n",
        "    return new_words\n",
        "\n",
        "def remove_punctuation(words):\n",
        "    new_words = []\n",
        "    for word in words:\n",
        "        new_word = re.sub(r'[^\\w\\s]', '', word)\n",
        "        if new_word != '':\n",
        "            new_words.append(new_word)\n",
        "    return new_words\n",
        "\n",
        "def replace_numbers(words):\n",
        "    p = inflect.engine()\n",
        "    new_words = []\n",
        "    for word in words:\n",
        "        if word.isdigit():\n",
        "            new_word = p.number_to_words(word)\n",
        "            new_words.append(new_word)\n",
        "        else:\n",
        "            new_words.append(word)\n",
        "    return new_words\n",
        "\n",
        "def remove_stopwords(words):\n",
        "    new_words = []\n",
        "    for word in words:\n",
        "        if word not in stopwords.words('english'):\n",
        "            new_words.append(word)\n",
        "    return new_words\n",
        "\n",
        "def normalize(words):\n",
        "    words = remove_non_ascii(words)\n",
        "    words = remove_punctuation(words)\n",
        "    words = replace_numbers(words)\n",
        "    words = remove_stopwords(words)\n",
        "    return words\n",
        "\n",
        "def process_tweet(tweet):\n",
        "  p_tweet = tweet\n",
        "  p_tweet = remove_url(p_tweet)\n",
        "  p_tweet = remove_contractions(p_tweet)\n",
        "  retweet = get_retweet(p_tweet)\n",
        "  if (retweet):\n",
        "    p_tweet = p_tweet.replace('RT @' + retweet[0] + ': ', '')\n",
        "  p_tweet = p_tweet.lower()\n",
        "  mentions = get_mentions(p_tweet)\n",
        "  if (mentions):\n",
        "    for i in range(len(mentions)):\n",
        "      p_tweet = p_tweet.replace(' @' + mentions[i], '')\n",
        "  hashtags = get_hashtags(p_tweet)\n",
        "  if (hashtags):\n",
        "    for i in range(len(hashtags)):\n",
        "      p_tweet = p_tweet.replace(' #' + hashtags[i], '')\n",
        "  \n",
        "  words = nltk.word_tokenize(p_tweet)\n",
        "  #print('\\nwords:', words)\n",
        "\n",
        "  words = normalize(words)\n",
        "  return words\n",
        "\n",
        "def process_tweet_light(tweet):\n",
        "  p_tweet = tweet\n",
        "  p_tweet = remove_url(p_tweet)\n",
        "  retweet = get_retweet(p_tweet)\n",
        "  if (retweet):\n",
        "    p_tweet = p_tweet.replace('RT @' + retweet[0] + ': ', '')\n",
        "  p_tweet = p_tweet.lower()\n",
        "  mentions = get_mentions(p_tweet)\n",
        "  if (mentions):\n",
        "    for i in range(len(mentions)):\n",
        "      p_tweet = p_tweet.replace(' @' + mentions[i], '')\n",
        "  hashtags = get_hashtags(p_tweet)\n",
        "  if (hashtags):\n",
        "    for i in range(len(hashtags)):\n",
        "      p_tweet = p_tweet.replace(' #' + hashtags[i], '')\n",
        "\n",
        "  # words = nltk.word_tokenize(p_tweet)\n",
        "  # words = remove_non_ascii(words)\n",
        "  return p_tweet\n",
        "\n",
        "print(' Original Tweet:\\n', text, '\\n\\n', 'Processed Tweet:\\n', process_tweet(text), '\\n', 'Processed Tweet (light):\\n', process_tweet_light(text))\n",
        "print('\\nMedia Link:', get_media_url(text), '\\nRetweet:', get_retweet(text), '\\nMentions:', get_mentions(text), '\\nHashtags:', get_hashtags(text))"
      ]
    },
    {
      "cell_type": "code",
      "execution_count": 14,
      "metadata": {
        "id": "SCo_Fzew-6jh"
      },
      "outputs": [],
      "source": [
        "all_mentions = []\n",
        "all_hashtags = []\n",
        "all_unigrams = []\n",
        "all_bigrams = []\n",
        "updated_df.drop(['hashtags', 'source', 'user_created', 'user_friends', 'user_favourites', 'is_retweet'], axis=1, inplace=True)\n",
        "updated_df_light = updated_df\n",
        "for index, row in df['text'].iteritems():\n",
        "  all_mentions += get_mentions(row.lower())\n",
        "  all_hashtags += get_hashtags(row.lower())\n",
        "  processed = process_tweet(row)\n",
        "  all_unigrams += processed\n",
        "  all_bigrams += list(ngrams(processed, 2))\n",
        "  updated_df.at[index, 'text'] = processed\n",
        "  updated_df_light.at[index, 'text'] = process_tweet_light(row)\n"
      ]
    },
    {
      "cell_type": "code",
      "execution_count": 16,
      "metadata": {
        "colab": {
          "base_uri": "https://localhost:8080/",
          "height": 423
        },
        "id": "si29KSOnVExE",
        "outputId": "e28f9067-b48f-4613-95bb-c1f6ad3b20c4"
      },
      "outputs": [
        {
          "output_type": "display_data",
          "data": {
            "text/plain": [
              "                                                   text  hate label\n",
              "0     now should know that and that if they don't ta...           0\n",
              "1     tonight we interview and you can tune in from ...           0\n",
              "2     some officers advance close to the crowd, atte...           0\n",
              "3     he’s not in the wwe hof because of his skin co...           0\n",
              "4     @shaunking ...going through it now fighting fo...           0\n",
              "...                                                 ...         ...\n",
              "9160  watch “segregated by design” by on  -- watch t...           1\n",
              "9161  #dawnbutler to be fair, she’s always known tha...           1\n",
              "9162  #hislifemattered have any of you heard offer c...           1\n",
              "9163  like this whole niranga situation makes me ret...           1\n",
              "9164  these people suck. violent thugs good at bitch...           1\n",
              "\n",
              "[9165 rows x 2 columns]"
            ],
            "text/html": [
              "\n",
              "  <div id=\"df-f6bb944f-c2b0-42df-8195-9de37996ab01\">\n",
              "    <div class=\"colab-df-container\">\n",
              "      <div>\n",
              "<style scoped>\n",
              "    .dataframe tbody tr th:only-of-type {\n",
              "        vertical-align: middle;\n",
              "    }\n",
              "\n",
              "    .dataframe tbody tr th {\n",
              "        vertical-align: top;\n",
              "    }\n",
              "\n",
              "    .dataframe thead th {\n",
              "        text-align: right;\n",
              "    }\n",
              "</style>\n",
              "<table border=\"1\" class=\"dataframe\">\n",
              "  <thead>\n",
              "    <tr style=\"text-align: right;\">\n",
              "      <th></th>\n",
              "      <th>text</th>\n",
              "      <th>hate label</th>\n",
              "    </tr>\n",
              "  </thead>\n",
              "  <tbody>\n",
              "    <tr>\n",
              "      <th>0</th>\n",
              "      <td>now should know that and that if they don't ta...</td>\n",
              "      <td>0</td>\n",
              "    </tr>\n",
              "    <tr>\n",
              "      <th>1</th>\n",
              "      <td>tonight we interview and you can tune in from ...</td>\n",
              "      <td>0</td>\n",
              "    </tr>\n",
              "    <tr>\n",
              "      <th>2</th>\n",
              "      <td>some officers advance close to the crowd, atte...</td>\n",
              "      <td>0</td>\n",
              "    </tr>\n",
              "    <tr>\n",
              "      <th>3</th>\n",
              "      <td>he’s not in the wwe hof because of his skin co...</td>\n",
              "      <td>0</td>\n",
              "    </tr>\n",
              "    <tr>\n",
              "      <th>4</th>\n",
              "      <td>@shaunking ...going through it now fighting fo...</td>\n",
              "      <td>0</td>\n",
              "    </tr>\n",
              "    <tr>\n",
              "      <th>...</th>\n",
              "      <td>...</td>\n",
              "      <td>...</td>\n",
              "    </tr>\n",
              "    <tr>\n",
              "      <th>9160</th>\n",
              "      <td>watch “segregated by design” by on  -- watch t...</td>\n",
              "      <td>1</td>\n",
              "    </tr>\n",
              "    <tr>\n",
              "      <th>9161</th>\n",
              "      <td>#dawnbutler to be fair, she’s always known tha...</td>\n",
              "      <td>1</td>\n",
              "    </tr>\n",
              "    <tr>\n",
              "      <th>9162</th>\n",
              "      <td>#hislifemattered have any of you heard offer c...</td>\n",
              "      <td>1</td>\n",
              "    </tr>\n",
              "    <tr>\n",
              "      <th>9163</th>\n",
              "      <td>like this whole niranga situation makes me ret...</td>\n",
              "      <td>1</td>\n",
              "    </tr>\n",
              "    <tr>\n",
              "      <th>9164</th>\n",
              "      <td>these people suck. violent thugs good at bitch...</td>\n",
              "      <td>1</td>\n",
              "    </tr>\n",
              "  </tbody>\n",
              "</table>\n",
              "<p>9165 rows × 2 columns</p>\n",
              "</div>\n",
              "      <button class=\"colab-df-convert\" onclick=\"convertToInteractive('df-f6bb944f-c2b0-42df-8195-9de37996ab01')\"\n",
              "              title=\"Convert this dataframe to an interactive table.\"\n",
              "              style=\"display:none;\">\n",
              "        \n",
              "  <svg xmlns=\"http://www.w3.org/2000/svg\" height=\"24px\"viewBox=\"0 0 24 24\"\n",
              "       width=\"24px\">\n",
              "    <path d=\"M0 0h24v24H0V0z\" fill=\"none\"/>\n",
              "    <path d=\"M18.56 5.44l.94 2.06.94-2.06 2.06-.94-2.06-.94-.94-2.06-.94 2.06-2.06.94zm-11 1L8.5 8.5l.94-2.06 2.06-.94-2.06-.94L8.5 2.5l-.94 2.06-2.06.94zm10 10l.94 2.06.94-2.06 2.06-.94-2.06-.94-.94-2.06-.94 2.06-2.06.94z\"/><path d=\"M17.41 7.96l-1.37-1.37c-.4-.4-.92-.59-1.43-.59-.52 0-1.04.2-1.43.59L10.3 9.45l-7.72 7.72c-.78.78-.78 2.05 0 2.83L4 21.41c.39.39.9.59 1.41.59.51 0 1.02-.2 1.41-.59l7.78-7.78 2.81-2.81c.8-.78.8-2.07 0-2.86zM5.41 20L4 18.59l7.72-7.72 1.47 1.35L5.41 20z\"/>\n",
              "  </svg>\n",
              "      </button>\n",
              "      \n",
              "  <style>\n",
              "    .colab-df-container {\n",
              "      display:flex;\n",
              "      flex-wrap:wrap;\n",
              "      gap: 12px;\n",
              "    }\n",
              "\n",
              "    .colab-df-convert {\n",
              "      background-color: #E8F0FE;\n",
              "      border: none;\n",
              "      border-radius: 50%;\n",
              "      cursor: pointer;\n",
              "      display: none;\n",
              "      fill: #1967D2;\n",
              "      height: 32px;\n",
              "      padding: 0 0 0 0;\n",
              "      width: 32px;\n",
              "    }\n",
              "\n",
              "    .colab-df-convert:hover {\n",
              "      background-color: #E2EBFA;\n",
              "      box-shadow: 0px 1px 2px rgba(60, 64, 67, 0.3), 0px 1px 3px 1px rgba(60, 64, 67, 0.15);\n",
              "      fill: #174EA6;\n",
              "    }\n",
              "\n",
              "    [theme=dark] .colab-df-convert {\n",
              "      background-color: #3B4455;\n",
              "      fill: #D2E3FC;\n",
              "    }\n",
              "\n",
              "    [theme=dark] .colab-df-convert:hover {\n",
              "      background-color: #434B5C;\n",
              "      box-shadow: 0px 1px 3px 1px rgba(0, 0, 0, 0.15);\n",
              "      filter: drop-shadow(0px 1px 2px rgba(0, 0, 0, 0.3));\n",
              "      fill: #FFFFFF;\n",
              "    }\n",
              "  </style>\n",
              "\n",
              "      <script>\n",
              "        const buttonEl =\n",
              "          document.querySelector('#df-f6bb944f-c2b0-42df-8195-9de37996ab01 button.colab-df-convert');\n",
              "        buttonEl.style.display =\n",
              "          google.colab.kernel.accessAllowed ? 'block' : 'none';\n",
              "\n",
              "        async function convertToInteractive(key) {\n",
              "          const element = document.querySelector('#df-f6bb944f-c2b0-42df-8195-9de37996ab01');\n",
              "          const dataTable =\n",
              "            await google.colab.kernel.invokeFunction('convertToInteractive',\n",
              "                                                     [key], {});\n",
              "          if (!dataTable) return;\n",
              "\n",
              "          const docLinkHtml = 'Like what you see? Visit the ' +\n",
              "            '<a target=\"_blank\" href=https://colab.research.google.com/notebooks/data_table.ipynb>data table notebook</a>'\n",
              "            + ' to learn more about interactive tables.';\n",
              "          element.innerHTML = '';\n",
              "          dataTable['output_type'] = 'display_data';\n",
              "          await google.colab.output.renderOutput(dataTable, element);\n",
              "          const docLink = document.createElement('div');\n",
              "          docLink.innerHTML = docLinkHtml;\n",
              "          element.appendChild(docLink);\n",
              "        }\n",
              "      </script>\n",
              "    </div>\n",
              "  </div>\n",
              "  "
            ]
          },
          "metadata": {}
        }
      ],
      "source": [
        "display(updated_df)"
      ]
    },
    {
      "cell_type": "code",
      "source": [
        "from google.colab import drive\n",
        "drive.mount('drive')\n",
        "\n",
        "df.to_csv('/content/drive/My Drive/IW_COLAB/df.csv', encoding='utf-8', index=False)\n",
        "updated_df.to_csv('/content/drive/My Drive/IW_COLAB/updated_df.csv', encoding='utf-8', index=False)\n",
        "updated_df_light.to_csv('/content/drive/My Drive/IW_COLAB/updated_df_light.csv', encoding='utf-8', index=False)"
      ],
      "metadata": {
        "colab": {
          "base_uri": "https://localhost:8080/",
          "height": 442
        },
        "id": "1DSW9n4gg0YB",
        "outputId": "fa86135f-c8b0-4990-a42a-ceeb25303284"
      },
      "execution_count": 17,
      "outputs": [
        {
          "output_type": "error",
          "ename": "MessageError",
          "evalue": "ignored",
          "traceback": [
            "\u001b[0;31m---------------------------------------------------------------------------\u001b[0m",
            "\u001b[0;31mMessageError\u001b[0m                              Traceback (most recent call last)",
            "\u001b[0;32m<ipython-input-17-ac69bc0d28cb>\u001b[0m in \u001b[0;36m<module>\u001b[0;34m\u001b[0m\n\u001b[1;32m      1\u001b[0m \u001b[0;32mfrom\u001b[0m \u001b[0mgoogle\u001b[0m\u001b[0;34m.\u001b[0m\u001b[0mcolab\u001b[0m \u001b[0;32mimport\u001b[0m \u001b[0mdrive\u001b[0m\u001b[0;34m\u001b[0m\u001b[0;34m\u001b[0m\u001b[0m\n\u001b[0;32m----> 2\u001b[0;31m \u001b[0mdrive\u001b[0m\u001b[0;34m.\u001b[0m\u001b[0mmount\u001b[0m\u001b[0;34m(\u001b[0m\u001b[0;34m'drive'\u001b[0m\u001b[0;34m)\u001b[0m\u001b[0;34m\u001b[0m\u001b[0;34m\u001b[0m\u001b[0m\n\u001b[0m\u001b[1;32m      3\u001b[0m \u001b[0;34m\u001b[0m\u001b[0m\n\u001b[1;32m      4\u001b[0m \u001b[0mdf\u001b[0m\u001b[0;34m.\u001b[0m\u001b[0mto_csv\u001b[0m\u001b[0;34m(\u001b[0m\u001b[0;34m'/content/drive/My Drive/IW_COLAB/df.csv'\u001b[0m\u001b[0;34m,\u001b[0m \u001b[0mencoding\u001b[0m\u001b[0;34m=\u001b[0m\u001b[0;34m'utf-8'\u001b[0m\u001b[0;34m,\u001b[0m \u001b[0mindex\u001b[0m\u001b[0;34m=\u001b[0m\u001b[0;32mFalse\u001b[0m\u001b[0;34m)\u001b[0m\u001b[0;34m\u001b[0m\u001b[0;34m\u001b[0m\u001b[0m\n\u001b[1;32m      5\u001b[0m \u001b[0mupdated_df\u001b[0m\u001b[0;34m.\u001b[0m\u001b[0mto_csv\u001b[0m\u001b[0;34m(\u001b[0m\u001b[0;34m'/content/drive/My Drive/IW_COLAB/updated_df.csv'\u001b[0m\u001b[0;34m,\u001b[0m \u001b[0mencoding\u001b[0m\u001b[0;34m=\u001b[0m\u001b[0;34m'utf-8'\u001b[0m\u001b[0;34m,\u001b[0m \u001b[0mindex\u001b[0m\u001b[0;34m=\u001b[0m\u001b[0;32mFalse\u001b[0m\u001b[0;34m)\u001b[0m\u001b[0;34m\u001b[0m\u001b[0;34m\u001b[0m\u001b[0m\n",
            "\u001b[0;32m/usr/local/lib/python3.9/dist-packages/google/colab/drive.py\u001b[0m in \u001b[0;36mmount\u001b[0;34m(mountpoint, force_remount, timeout_ms, readonly)\u001b[0m\n\u001b[1;32m     98\u001b[0m \u001b[0;32mdef\u001b[0m \u001b[0mmount\u001b[0m\u001b[0;34m(\u001b[0m\u001b[0mmountpoint\u001b[0m\u001b[0;34m,\u001b[0m \u001b[0mforce_remount\u001b[0m\u001b[0;34m=\u001b[0m\u001b[0;32mFalse\u001b[0m\u001b[0;34m,\u001b[0m \u001b[0mtimeout_ms\u001b[0m\u001b[0;34m=\u001b[0m\u001b[0;36m120000\u001b[0m\u001b[0;34m,\u001b[0m \u001b[0mreadonly\u001b[0m\u001b[0;34m=\u001b[0m\u001b[0;32mFalse\u001b[0m\u001b[0;34m)\u001b[0m\u001b[0;34m:\u001b[0m\u001b[0;34m\u001b[0m\u001b[0;34m\u001b[0m\u001b[0m\n\u001b[1;32m     99\u001b[0m   \u001b[0;34m\"\"\"Mount your Google Drive at the specified mountpoint path.\"\"\"\u001b[0m\u001b[0;34m\u001b[0m\u001b[0;34m\u001b[0m\u001b[0m\n\u001b[0;32m--> 100\u001b[0;31m   return _mount(\n\u001b[0m\u001b[1;32m    101\u001b[0m       \u001b[0mmountpoint\u001b[0m\u001b[0;34m,\u001b[0m\u001b[0;34m\u001b[0m\u001b[0;34m\u001b[0m\u001b[0m\n\u001b[1;32m    102\u001b[0m       \u001b[0mforce_remount\u001b[0m\u001b[0;34m=\u001b[0m\u001b[0mforce_remount\u001b[0m\u001b[0;34m,\u001b[0m\u001b[0;34m\u001b[0m\u001b[0;34m\u001b[0m\u001b[0m\n",
            "\u001b[0;32m/usr/local/lib/python3.9/dist-packages/google/colab/drive.py\u001b[0m in \u001b[0;36m_mount\u001b[0;34m(mountpoint, force_remount, timeout_ms, ephemeral, readonly)\u001b[0m\n\u001b[1;32m    121\u001b[0m       'TBE_EPHEM_CREDS_ADDR'] if ephemeral else _os.environ['TBE_CREDS_ADDR']\n\u001b[1;32m    122\u001b[0m   \u001b[0;32mif\u001b[0m \u001b[0mephemeral\u001b[0m\u001b[0;34m:\u001b[0m\u001b[0;34m\u001b[0m\u001b[0;34m\u001b[0m\u001b[0m\n\u001b[0;32m--> 123\u001b[0;31m     _message.blocking_request(\n\u001b[0m\u001b[1;32m    124\u001b[0m         'request_auth', request={'authType': 'dfs_ephemeral'}, timeout_sec=None)\n\u001b[1;32m    125\u001b[0m \u001b[0;34m\u001b[0m\u001b[0m\n",
            "\u001b[0;32m/usr/local/lib/python3.9/dist-packages/google/colab/_message.py\u001b[0m in \u001b[0;36mblocking_request\u001b[0;34m(request_type, request, timeout_sec, parent)\u001b[0m\n\u001b[1;32m    169\u001b[0m   request_id = send_request(\n\u001b[1;32m    170\u001b[0m       request_type, request, parent=parent, expect_reply=True)\n\u001b[0;32m--> 171\u001b[0;31m   \u001b[0;32mreturn\u001b[0m \u001b[0mread_reply_from_input\u001b[0m\u001b[0;34m(\u001b[0m\u001b[0mrequest_id\u001b[0m\u001b[0;34m,\u001b[0m \u001b[0mtimeout_sec\u001b[0m\u001b[0;34m)\u001b[0m\u001b[0;34m\u001b[0m\u001b[0;34m\u001b[0m\u001b[0m\n\u001b[0m",
            "\u001b[0;32m/usr/local/lib/python3.9/dist-packages/google/colab/_message.py\u001b[0m in \u001b[0;36mread_reply_from_input\u001b[0;34m(message_id, timeout_sec)\u001b[0m\n\u001b[1;32m    100\u001b[0m         reply.get('colab_msg_id') == message_id):\n\u001b[1;32m    101\u001b[0m       \u001b[0;32mif\u001b[0m \u001b[0;34m'error'\u001b[0m \u001b[0;32min\u001b[0m \u001b[0mreply\u001b[0m\u001b[0;34m:\u001b[0m\u001b[0;34m\u001b[0m\u001b[0;34m\u001b[0m\u001b[0m\n\u001b[0;32m--> 102\u001b[0;31m         \u001b[0;32mraise\u001b[0m \u001b[0mMessageError\u001b[0m\u001b[0;34m(\u001b[0m\u001b[0mreply\u001b[0m\u001b[0;34m[\u001b[0m\u001b[0;34m'error'\u001b[0m\u001b[0;34m]\u001b[0m\u001b[0;34m)\u001b[0m\u001b[0;34m\u001b[0m\u001b[0;34m\u001b[0m\u001b[0m\n\u001b[0m\u001b[1;32m    103\u001b[0m       \u001b[0;32mreturn\u001b[0m \u001b[0mreply\u001b[0m\u001b[0;34m.\u001b[0m\u001b[0mget\u001b[0m\u001b[0;34m(\u001b[0m\u001b[0;34m'data'\u001b[0m\u001b[0;34m,\u001b[0m \u001b[0;32mNone\u001b[0m\u001b[0;34m)\u001b[0m\u001b[0;34m\u001b[0m\u001b[0;34m\u001b[0m\u001b[0m\n\u001b[1;32m    104\u001b[0m \u001b[0;34m\u001b[0m\u001b[0m\n",
            "\u001b[0;31mMessageError\u001b[0m: Error: credential propagation was unsuccessful"
          ]
        }
      ]
    },
    {
      "cell_type": "markdown",
      "metadata": {
        "id": "xSQPyV2SVE1a"
      },
      "source": [
        "# Stats"
      ]
    },
    {
      "cell_type": "code",
      "execution_count": null,
      "metadata": {
        "colab": {
          "base_uri": "https://localhost:8080/"
        },
        "id": "rdLPZ_v6n0E_",
        "outputId": "4a38b273-02b8-4d8f-fe76-ff3389051b73"
      },
      "outputs": [
        {
          "name": "stdout",
          "output_type": "stream",
          "text": [
            "Hashtags:\n",
            "\n",
            " blacklivesmatter    0.228274\n",
            "blm                 0.141146\n",
            "antifa              0.014360\n",
            "portland            0.009970\n",
            "portlandprotests    0.009301\n",
            "                      ...   \n",
            "heaux               0.000074\n",
            "stra                0.000074\n",
            "anklagejetzt        0.000074\n",
            "justiceformbobda    0.000074\n",
            "lord                0.000074\n",
            "Length: 3274, dtype: float64 (normalized)\n",
            "\n",
            "Mentions:\n",
            "\n",
            " realdonaldtrump    0.016663\n",
            "dawnbutlerbrent    0.012922\n",
            "mrandyngo          0.006574\n",
            "joebiden           0.006348\n",
            "youtube            0.005214\n",
            "                     ...   \n",
            "heartafire777      0.000113\n",
            "ayecesar_          0.000113\n",
            "epochtimes         0.000113\n",
            "news_ntd           0.000113\n",
            "kepler186f_in      0.000113\n",
            "Length: 5693, dtype: float64 (normalized)\n",
            "\n",
            "Unigrams:\n",
            "\n",
            " black               0.013832\n",
            "blacklivesmatter    0.010665\n",
            "people              0.009582\n",
            "amp                 0.007669\n",
            "police              0.007220\n",
            "                      ...   \n",
            "maryland            0.000013\n",
            "renta               0.000013\n",
            "westminster         0.000013\n",
            "youstand            0.000013\n",
            "bitching            0.000013\n",
            "Length: 14761, dtype: float64 (normalized)\n",
            "\n",
            "Bigrams:\n",
            "\n",
            " (black, lives)               0.003948\n",
            "(lives, matter)              0.003798\n",
            "(black, people)              0.001741\n",
            "(let, us)                    0.001171\n",
            "(ding, ding)                 0.001051\n",
            "                               ...   \n",
            "(another, clash)             0.000015\n",
            "(clash, protesters)          0.000015\n",
            "(protesters, militarised)    0.000015\n",
            "(militarised, federal)       0.000015\n",
            "(marxists, suck)             0.000015\n",
            "Length: 50506, dtype: float64 (normalized)\n",
            "\n"
          ]
        }
      ],
      "source": [
        "df_hashtag = pd.Series(all_hashtags)\n",
        "df_mentions = pd.Series(all_mentions)\n",
        "df_unigrams = pd.Series(all_unigrams)\n",
        "df_bigrams = pd.Series(all_bigrams)\n",
        "print('Hashtags:\\n\\n', df_hashtag.value_counts(normalize=True), '(normalized)\\n')\n",
        "print('Mentions:\\n\\n', df_mentions.value_counts(normalize=True), '(normalized)\\n')\n",
        "print('Unigrams:\\n\\n', df_unigrams.value_counts(normalize=True), '(normalized)\\n')\n",
        "print('Bigrams:\\n\\n', df_bigrams.value_counts(normalize=True), '(normalized)\\n')"
      ]
    },
    {
      "cell_type": "code",
      "execution_count": null,
      "metadata": {
        "colab": {
          "base_uri": "https://localhost:8080/",
          "height": 336
        },
        "id": "B6E5RFDt4aQH",
        "outputId": "382e1f63-2a16-44ea-ec62-d8ddad6d9ae4"
      },
      "outputs": [
        {
          "data": {
            "image/png": "[encoded data removed]",
            "text/plain": [
              "<Figure size 720x360 with 1 Axes>"
            ]
          },
          "metadata": {},
          "output_type": "display_data"
        }
      ],
      "source": [
        "import matplotlib.pyplot as plt\n",
        " \n",
        "data = {'black, lives':0.39, 'lives, matter':0.3798, 'black, people':0.1741,\n",
        "        'let, us':0.1171}\n",
        "courses = list(data.keys())\n",
        "values = list(data.values())\n",
        "fig = plt.figure(figsize = (10, 5))\n",
        "plt.bar(courses, values, color ='maroon',\n",
        "        width = 0.2)\n",
        " \n",
        "plt.xlabel(\"\")\n",
        "plt.ylabel(\"%\")\n",
        "plt.title(\"Bigrams Frequency\")\n",
        "plt.show()"
      ]
    },
    {
      "cell_type": "code",
      "execution_count": null,
      "metadata": {
        "colab": {
          "base_uri": "https://localhost:8080/",
          "height": 336
        },
        "id": "s_SNgs8Q5vsm",
        "outputId": "b496b140-b330-4ac8-e42d-50a8145695f2"
      },
      "outputs": [
        {
          "data": {
            "image/png": "[encoded data removed]",
            "text/plain": [
              "<Figure size 720x360 with 1 Axes>"
            ]
          },
          "metadata": {},
          "output_type": "display_data"
        }
      ],
      "source": [
        "data = {'black':               1.3832,\n",
        "'blacklivesmatter':    1.0665,\n",
        "'people':              0.9582,\n",
        "'amp':                 0.7669,\n",
        "'police':              0.7220}\n",
        "courses = list(data.keys())\n",
        "values = list(data.values())\n",
        "fig = plt.figure(figsize = (10, 5))\n",
        "plt.bar(courses, values, color ='maroon',\n",
        "        width = 0.2)\n",
        " \n",
        "plt.xlabel(\"\")\n",
        "plt.ylabel(\"%\")\n",
        "plt.title(\"Unigrams Frequency\")\n",
        "plt.show()"
      ]
    },
    {
      "cell_type": "code",
      "execution_count": null,
      "metadata": {
        "colab": {
          "base_uri": "https://localhost:8080/",
          "height": 336
        },
        "id": "gHOJoIay6R9e",
        "outputId": "e689e743-df14-4988-8abb-88d4532492ef"
      },
      "outputs": [
        {
          "data": {
            "image/png": "[encoded data removed]",
            "text/plain": [
              "<Figure size 720x360 with 1 Axes>"
            ]
          },
          "metadata": {},
          "output_type": "display_data"
        }
      ],
      "source": [
        "data = {'realdonaldtrump':    0.016663*100,\n",
        "'dawnbutlerbrent':    0.012922*100,\n",
        "'mrandyngo':          0.006574*100,\n",
        "'joebiden':           0.006348*100,\n",
        "'youtube':            0.005214*100}\n",
        "courses = list(data.keys())\n",
        "values = list(data.values())\n",
        "fig = plt.figure(figsize = (10, 5))\n",
        "plt.bar(courses, values, color ='green',\n",
        "        width = 0.2)\n",
        " \n",
        "plt.xlabel(\"\")\n",
        "plt.ylabel(\"%\")\n",
        "plt.title(\"Mentions Frequency\")\n",
        "plt.show()"
      ]
    },
    {
      "cell_type": "code",
      "execution_count": null,
      "metadata": {
        "colab": {
          "base_uri": "https://localhost:8080/",
          "height": 336
        },
        "id": "mzZPe-MN6pr7",
        "outputId": "f1b3bc16-99b3-476e-ad73-feb8bbbba661"
      },
      "outputs": [
        {
          "data": {
            "image/png": "[encoded data removed]",
            "text/plain": [
              "<Figure size 720x360 with 1 Axes>"
            ]
          },
          "metadata": {},
          "output_type": "display_data"
        }
      ],
      "source": [
        "data = {'blacklivesmatter':    0.228274*100,\n",
        "'blm':                 0.141146*100,\n",
        "'antifa':             0.014360*100,\n",
        "'portland':            0.009970*100,\n",
        "'portlandprotests':    0.009301*100}\n",
        "courses = list(data.keys())\n",
        "values = list(data.values())\n",
        "fig = plt.figure(figsize = (10, 5))\n",
        "plt.bar(courses, values, color ='blue',\n",
        "        width = 0.2)\n",
        " \n",
        "plt.xlabel(\"\")\n",
        "plt.ylabel(\"%\")\n",
        "plt.title(\"Hashtags Frequency\")\n",
        "plt.show()"
      ]
    },
    {
      "cell_type": "code",
      "execution_count": null,
      "metadata": {
        "colab": {
          "base_uri": "https://localhost:8080/",
          "height": 319
        },
        "id": "0m986s-F7Crn",
        "outputId": "07762dae-decd-4069-9078-2330f01e66c6"
      },
      "outputs": [
        {
          "data": {
            "text/plain": [
              "([<matplotlib.patches.Wedge at 0x7f1c851a4640>,\n",
              "  <matplotlib.patches.Wedge at 0x7f1c8526b760>],\n",
              " [Text(-0.5409884283210689, 0.9577742533722129, 'non-hate'),\n",
              "  Text(0.5409885179943636, -0.9577742027212166, 'hate')])"
            ]
          },
          "execution_count": 10,
          "metadata": {},
          "output_type": "execute_result"
        },
        {
          "data": {
            "image/png": "[encoded data removed]",
            "text/plain": [
              "<Figure size 432x288 with 1 Axes>"
            ]
          },
          "metadata": {},
          "output_type": "display_data"
        }
      ],
      "source": [
        "labels = 'non-hate','hate'\n",
        "sizes = [0.663, 0.336]\n",
        "\n",
        "fig, ax = plt.subplots()\n",
        "ax.pie(sizes, labels=labels)"
      ]
    },
    {
      "cell_type": "markdown",
      "metadata": {
        "id": "IetvuWed2P3r"
      },
      "source": [
        "# BERT Model\n",
        "\n",
        "\n",
        "1.   Convert to BERT Tokenized Embeddings\n",
        "2.   Dataset class with 80:10:10 train/test/val split\n",
        "3.   BertClassifier for Non-hate/Hate classification\n",
        "4.   Training loop with Adam optimizer, cross-entropy loss\n",
        "5.   Evaluate model on test data\n",
        "\n",
        "\n"
      ]
    },
    {
      "cell_type": "code",
      "source": [
        "# from google.colab import drive\n",
        "# drive.mount('drive')\n",
        "\n",
        "import pandas as pd\n",
        "df=pd.read_csv('/content/drive/My Drive/IW_COLAB/df.csv')\n",
        "updated_df=pd.read_csv('/content/drive/My Drive/IW_COLAB/updated_df.csv')\n",
        "updated_df_light=pd.read_csv('/content/drive/My Drive/IW_COLAB/updated_df_light.csv')"
      ],
      "metadata": {
        "id": "9Mp2soeZimez"
      },
      "execution_count": 14,
      "outputs": []
    },
    {
      "cell_type": "code",
      "execution_count": 15,
      "metadata": {
        "colab": {
          "base_uri": "https://localhost:8080/"
        },
        "id": "Tjq290vSTNXR",
        "outputId": "799e8c61-b706-401d-871a-273871356d6f"
      },
      "outputs": [
        {
          "output_type": "stream",
          "name": "stdout",
          "text": [
            "Looking in indexes: https://pypi.org/simple, https://us-python.pkg.dev/colab-wheels/public/simple/\n",
            "Collecting transformers\n",
            "  Downloading transformers-4.26.1-py3-none-any.whl (6.3 MB)\n",
            "\u001b[2K     \u001b[90m━━━━━━━━━━━━━━━━━━━━━━━━━━━━━━━━━━━━━━━━\u001b[0m \u001b[32m6.3/6.3 MB\u001b[0m \u001b[31m36.1 MB/s\u001b[0m eta \u001b[36m0:00:00\u001b[0m\n",
            "\u001b[?25hRequirement already satisfied: pyyaml>=5.1 in /usr/local/lib/python3.8/dist-packages (from transformers) (6.0)\n",
            "Requirement already satisfied: regex!=2019.12.17 in /usr/local/lib/python3.8/dist-packages (from transformers) (2022.6.2)\n",
            "Requirement already satisfied: packaging>=20.0 in /usr/local/lib/python3.8/dist-packages (from transformers) (23.0)\n",
            "Requirement already satisfied: requests in /usr/local/lib/python3.8/dist-packages (from transformers) (2.25.1)\n",
            "Requirement already satisfied: numpy>=1.17 in /usr/local/lib/python3.8/dist-packages (from transformers) (1.22.4)\n",
            "Collecting huggingface-hub<1.0,>=0.11.0\n",
            "  Downloading huggingface_hub-0.12.1-py3-none-any.whl (190 kB)\n",
            "\u001b[2K     \u001b[90m━━━━━━━━━━━━━━━━━━━━━━━━━━━━━━━━━━━━━━\u001b[0m \u001b[32m190.3/190.3 KB\u001b[0m \u001b[31m22.0 MB/s\u001b[0m eta \u001b[36m0:00:00\u001b[0m\n",
            "\u001b[?25hRequirement already satisfied: tqdm>=4.27 in /usr/local/lib/python3.8/dist-packages (from transformers) (4.64.1)\n",
            "Requirement already satisfied: filelock in /usr/local/lib/python3.8/dist-packages (from transformers) (3.9.0)\n",
            "Collecting tokenizers!=0.11.3,<0.14,>=0.11.1\n",
            "  Downloading tokenizers-0.13.2-cp38-cp38-manylinux_2_17_x86_64.manylinux2014_x86_64.whl (7.6 MB)\n",
            "\u001b[2K     \u001b[90m━━━━━━━━━━━━━━━━━━━━━━━━━━━━━━━━━━━━━━━━\u001b[0m \u001b[32m7.6/7.6 MB\u001b[0m \u001b[31m54.2 MB/s\u001b[0m eta \u001b[36m0:00:00\u001b[0m\n",
            "\u001b[?25hRequirement already satisfied: typing-extensions>=3.7.4.3 in /usr/local/lib/python3.8/dist-packages (from huggingface-hub<1.0,>=0.11.0->transformers) (4.5.0)\n",
            "Requirement already satisfied: chardet<5,>=3.0.2 in /usr/local/lib/python3.8/dist-packages (from requests->transformers) (4.0.0)\n",
            "Requirement already satisfied: urllib3<1.27,>=1.21.1 in /usr/local/lib/python3.8/dist-packages (from requests->transformers) (1.24.3)\n",
            "Requirement already satisfied: idna<3,>=2.5 in /usr/local/lib/python3.8/dist-packages (from requests->transformers) (2.10)\n",
            "Requirement already satisfied: certifi>=2017.4.17 in /usr/local/lib/python3.8/dist-packages (from requests->transformers) (2022.12.7)\n",
            "Installing collected packages: tokenizers, huggingface-hub, transformers\n",
            "Successfully installed huggingface-hub-0.12.1 tokenizers-0.13.2 transformers-4.26.1\n"
          ]
        }
      ],
      "source": [
        "pip install transformers"
      ]
    },
    {
      "cell_type": "code",
      "execution_count": 16,
      "metadata": {
        "id": "qOtnJ0fi2ZjN"
      },
      "outputs": [],
      "source": [
        "df_bert = updated_df\n",
        "df_bert_raw = df #raw tweets\n",
        "df_bert_light = updated_df_light #light preprocessing (remove RT, #, @ ONLY)\n",
        "                                \n",
        "from nltk.tokenize.treebank import TreebankWordDetokenizer\n",
        "#detokenize original word tokens for BertTokenizer lol\n",
        "df_bert['hate label'] = df_bert['hate label'].astype(str)\n",
        "for index, row in df['text'].iteritems():\n",
        "  df_bert.at[index, 'text'] = TreebankWordDetokenizer().detokenize(row)\n",
        "  if df_bert.at[index, 'hate label'] == 0:\n",
        "    df_bert.at[index, 'hate label'] = 'non-hate'\n",
        "  else: \n",
        "    df_bert.at[index, 'hate label'] = 'hate'\n"
      ]
    },
    {
      "cell_type": "code",
      "execution_count": 17,
      "metadata": {
        "id": "3uIsA9GWbiOJ",
        "colab": {
          "base_uri": "https://localhost:8080/",
          "height": 197,
          "referenced_widgets": [
            "392c5559a375499096e2a70dbdce3a4e",
            "772bcdd7dee24be088b43d37c778a17b",
            "05cf747662dd40c386bcd69695b7d4d2",
            "277d1b83b91d4c629c7661f07fc8fea8",
            "f8e7669cb6e341e5922a98be5ae156fd",
            "14e504d55a1d4d43a69b7f16d62e9b5f",
            "acef13e0109a46c8995e4178f5f0a233",
            "2a133bb981124ad1b834eb4df7995b50",
            "59e2cc6814504b1fabd78ff98261228c",
            "a389c2ef7ad743af82acf49812e2d8b6",
            "fc1b7192001a42d991ab267a18f43833",
            "28a12fa566e6422f8daa13f4c8d2fb13",
            "edc790afb8f84bb6a738f7a5acc99d5d",
            "48ee48f71f164a6f938d5c3e29c0c95f",
            "047f686a1b784f8ea2ef960180df25f9",
            "d5a73df7d30d423db45897d2315cd905",
            "2e85a93986364ab8ac1d4235b5fbf2c4",
            "1ec51764054a4a6b9be13a60e367df70",
            "b88922caf4ef4753b2f75502c78b1171",
            "603238aa9c8f43bcb2a6637089efa1d5",
            "fcf01433ae7946e99adf315f327f7254",
            "2402056bf03c430e90425df14c6bc993",
            "8228fc91fa8d4bd996d85fb817aa71d4",
            "e14ea295acee414fa372ea80c5e5174f",
            "4e06eff61a7b4e00a678ead1ce0bb831",
            "6f661e89e21b45e5b875e11466eed23c",
            "a72f0d3ae6094ebfba0e7050d1007f23",
            "19cb3d1678024833bf7ed3e682704af8",
            "1b7b37ad297241058c11a8261519cf90",
            "f5fdcfc767234da8bf926581e9e4e96f",
            "705eb856ce534a94b6041625062f7e6a",
            "9234b5c14e15448aa61b8d34d15241ea",
            "24f35158bd4840caa176241342f8240e"
          ]
        },
        "outputId": "eb4cff95-9ec1-4a1d-f6af-51f66215515b"
      },
      "outputs": [
        {
          "output_type": "display_data",
          "data": {
            "text/plain": [
              "Downloading (…)solve/main/vocab.txt:   0%|          | 0.00/213k [00:00<?, ?B/s]"
            ],
            "application/vnd.jupyter.widget-view+json": {
              "version_major": 2,
              "version_minor": 0,
              "model_id": "392c5559a375499096e2a70dbdce3a4e"
            }
          },
          "metadata": {}
        },
        {
          "output_type": "display_data",
          "data": {
            "text/plain": [
              "Downloading (…)okenizer_config.json:   0%|          | 0.00/29.0 [00:00<?, ?B/s]"
            ],
            "application/vnd.jupyter.widget-view+json": {
              "version_major": 2,
              "version_minor": 0,
              "model_id": "28a12fa566e6422f8daa13f4c8d2fb13"
            }
          },
          "metadata": {}
        },
        {
          "output_type": "display_data",
          "data": {
            "text/plain": [
              "Downloading (…)lve/main/config.json:   0%|          | 0.00/570 [00:00<?, ?B/s]"
            ],
            "application/vnd.jupyter.widget-view+json": {
              "version_major": 2,
              "version_minor": 0,
              "model_id": "8228fc91fa8d4bd996d85fb817aa71d4"
            }
          },
          "metadata": {}
        }
      ],
      "source": [
        "import torch\n",
        "import numpy as np\n",
        "from transformers import BertTokenizer\n",
        "\n",
        "tokenizer = BertTokenizer.from_pretrained('bert-base-cased')\n",
        "labels = {'non-hate':0, 'hate':1}\n",
        "\n",
        "class Dataset(torch.utils.data.Dataset):\n",
        "    def __init__(self, df_bert):\n",
        "\n",
        "        self.labels = [labels[label] for label in df_bert['hate label']]\n",
        "        self.texts = [tokenizer(text, \n",
        "                               padding='max_length', max_length = 512, truncation=True,\n",
        "                                return_tensors=\"pt\") for text in df_bert['text']]\n",
        "\n",
        "    def classes(self):\n",
        "        return self.labels\n",
        "\n",
        "    def __len__(self):\n",
        "        return len(self.labels)\n",
        "\n",
        "    def get_batch_labels(self, idx):\n",
        "        # Fetch a batch of labels\n",
        "        return np.array(self.labels[idx])\n",
        "\n",
        "    def get_batch_texts(self, idx):\n",
        "        # Fetch a batch of inputs\n",
        "        return self.texts[idx]\n",
        "\n",
        "    def __getitem__(self, idx):\n",
        "\n",
        "        batch_texts = self.get_batch_texts(idx)\n",
        "        batch_y = self.get_batch_labels(idx)\n",
        "\n",
        "        return batch_texts, batch_y\n"
      ]
    },
    {
      "cell_type": "code",
      "execution_count": 18,
      "metadata": {
        "colab": {
          "base_uri": "https://localhost:8080/"
        },
        "id": "blbDFFwAc0qz",
        "outputId": "7e23ef3a-dc27-482c-c818-0a3698eb234b"
      },
      "outputs": [
        {
          "output_type": "stream",
          "name": "stdout",
          "text": [
            "7332 916 917\n"
          ]
        }
      ],
      "source": [
        "# training/validation/test set => 80:10:10\n",
        "np.random.seed(112)\n",
        "df_train, df_val, df_test = np.split(df_bert.sample(frac=1, random_state=42), \n",
        "                                     [int(.8*len(df_bert)), int(.9*len(df_bert))])\n",
        "\n",
        "print(len(df_train),len(df_val), len(df_test))"
      ]
    },
    {
      "cell_type": "code",
      "execution_count": 19,
      "metadata": {
        "id": "FTwQ0sDpdXRT"
      },
      "outputs": [],
      "source": [
        "from torch import nn\n",
        "from transformers import BertModel\n",
        "\n",
        "class BertClassifier(nn.Module):\n",
        "\n",
        "    def __init__(self, dropout=0.5):\n",
        "\n",
        "        super(BertClassifier, self).__init__()\n",
        "\n",
        "        self.bert = BertModel.from_pretrained('bert-base-cased')\n",
        "        self.dropout = nn.Dropout(dropout)\n",
        "        self.linear = nn.Linear(768, 2)\n",
        "        self.relu = nn.ReLU()\n",
        "\n",
        "    def forward(self, input_id, mask):\n",
        "\n",
        "        _, pooled_output = self.bert(input_ids= input_id, attention_mask=mask,return_dict=False)\n",
        "        dropout_output = self.dropout(pooled_output)\n",
        "        linear_output = self.linear(dropout_output)\n",
        "        final_layer = self.relu(linear_output)\n",
        "\n",
        "        return final_layer"
      ]
    },
    {
      "cell_type": "code",
      "execution_count": null,
      "metadata": {
        "colab": {
          "base_uri": "https://localhost:8080/"
        },
        "id": "HIjFBiClwxah",
        "outputId": "fd7bab02-bde3-487b-9d14-1d0802e7fcb2"
      },
      "outputs": [
        {
          "metadata": {
            "tags": null
          },
          "name": "stderr",
          "output_type": "stream",
          "text": [
            "Some weights of the model checkpoint at bert-base-cased were not used when initializing BertModel: ['cls.predictions.transform.dense.weight', 'cls.predictions.decoder.weight', 'cls.predictions.transform.LayerNorm.bias', 'cls.predictions.transform.dense.bias', 'cls.seq_relationship.weight', 'cls.predictions.transform.LayerNorm.weight', 'cls.predictions.bias', 'cls.seq_relationship.bias']\n",
            "- This IS expected if you are initializing BertModel from the checkpoint of a model trained on another task or with another architecture (e.g. initializing a BertForSequenceClassification model from a BertForPreTraining model).\n",
            "- This IS NOT expected if you are initializing BertModel from the checkpoint of a model that you expect to be exactly identical (initializing a BertForSequenceClassification model from a BertForSequenceClassification model).\n"
          ]
        },
        {
          "metadata": {
            "tags": null
          },
          "name": "stdout",
          "output_type": "stream",
          "text": [
            "No saved model checkpoint loaded, starting from scratch...\n"
          ]
        },
        {
          "output_type": "stream",
          "name": "stderr",
          "text": [
            " 48%|████▊     | 1747/3666 [6:05:05<6:28:16, 12.14s/it]"
          ]
        }
      ],
      "source": [
        "from torch.optim import Adam\n",
        "from tqdm import tqdm\n",
        "\n",
        "#1 - processed tweet 2 - light processed 3 - raw\n",
        "def save(model, optimizer, epoch):\n",
        "    PATH = '/content/drive/My Drive/IW_COLAB/models/BLM_BERT_1ep{}.pth'.format(epoch)\n",
        "    torch.save({\n",
        "            'epoch': epoch,\n",
        "            'model_state_dict': model.state_dict(),\n",
        "            'optimizer_state_dict': optimizer.state_dict(),\n",
        "            }, PATH)\n",
        "\n",
        "def train(model, train_data, val_data, learning_rate, epochs):\n",
        "\n",
        "    train, val = Dataset(train_data), Dataset(val_data)\n",
        "\n",
        "    train_dataloader = torch.utils.data.DataLoader(train, batch_size=2, shuffle=True)\n",
        "    val_dataloader = torch.utils.data.DataLoader(val, batch_size=2)\n",
        "\n",
        "    use_cuda = torch.cuda.is_available()\n",
        "    device = torch.device('cuda' if use_cuda else 'cpu')\n",
        "\n",
        "    criterion = nn.CrossEntropyLoss()\n",
        "    optimizer = Adam(model.parameters(), lr= learning_rate)\n",
        "\n",
        "    try:\n",
        "      checkpoint = torch.load(PATH)\n",
        "      model.load_state_dict(checkpoint['model_state_dict'])\n",
        "      optimizer.load_state_dict(checkpoint['optimizer_state_dict'])\n",
        "      epoch_num = checkpoint['epoch']\n",
        "    except FileNotFoundError:\n",
        "      print(\"No saved model checkpoint loaded, starting from scratch...\")\n",
        "\n",
        "    if use_cuda:\n",
        "\n",
        "            model = model.cuda()\n",
        "            criterion = criterion.cuda()\n",
        "\n",
        "    for epoch_num in range(epochs):\n",
        "\n",
        "            total_acc_train = 0\n",
        "            total_loss_train = 0\n",
        "\n",
        "            for train_input, train_label in tqdm(train_dataloader):\n",
        "\n",
        "                train_label = train_label.to(device)\n",
        "                mask = train_input['attention_mask'].to(device)\n",
        "                input_id = train_input['input_ids'].squeeze(1).to(device)\n",
        "\n",
        "                output = model(input_id, mask)\n",
        "                \n",
        "                batch_loss = criterion(output, train_label.long())\n",
        "                total_loss_train += batch_loss.item()\n",
        "                \n",
        "                acc = (output.argmax(dim=1) == train_label).sum().item()\n",
        "                total_acc_train += acc\n",
        "\n",
        "                model.zero_grad()\n",
        "                batch_loss.backward()\n",
        "                optimizer.step()\n",
        "            \n",
        "            total_acc_val = 0\n",
        "            total_loss_val = 0\n",
        "\n",
        "            with torch.no_grad():\n",
        "\n",
        "                for val_input, val_label in val_dataloader:\n",
        "\n",
        "                    val_label = val_label.to(device)\n",
        "                    mask = val_input['attention_mask'].to(device)\n",
        "                    input_id = val_input['input_ids'].squeeze(1).to(device)\n",
        "\n",
        "                    output = model(input_id, mask)\n",
        "\n",
        "                    batch_loss = criterion(output, val_label.long())\n",
        "                    total_loss_val += batch_loss.item()\n",
        "                    \n",
        "                    acc = (output.argmax(dim=1) == val_label).sum().item()\n",
        "                    total_acc_val += acc\n",
        "            \n",
        "            print(\n",
        "                f'Epochs: {epoch_num + 1} | Train Loss: {total_loss_train / len(train_data): .3f} \\\n",
        "                | Train Accuracy: {total_acc_train / len(train_data): .3f} \\\n",
        "                | Val Loss: {total_loss_val / len(val_data): .3f} \\\n",
        "                | Val Accuracy: {total_acc_val / len(val_data): .3f}')\n",
        "            \n",
        "            save(model, optimizer, epochs)\n",
        "                  \n",
        "EPOCHS = 5\n",
        "model = BertClassifier()\n",
        "LR = 1e-6\n",
        "              \n",
        "train(model, df_train, df_val, LR, EPOCHS)"
      ]
    },
    {
      "cell_type": "code",
      "execution_count": null,
      "metadata": {
        "id": "oIB3RGDYyhie"
      },
      "outputs": [],
      "source": [
        "def evaluate(model, test_data):\n",
        "\n",
        "    test = Dataset(test_data)\n",
        "\n",
        "    test_dataloader = torch.utils.data.DataLoader(test, batch_size=2)\n",
        "\n",
        "    use_cuda = torch.cuda.is_available()\n",
        "    device = torch.device(\"cuda\" if use_cuda else \"cpu\")\n",
        "\n",
        "    if use_cuda:\n",
        "\n",
        "        model = model.cuda()\n",
        "\n",
        "    total_acc_test = 0\n",
        "    with torch.no_grad():\n",
        "\n",
        "        for test_input, test_label in test_dataloader:\n",
        "\n",
        "              test_label = test_label.to(device)\n",
        "              mask = test_input['attention_mask'].to(device)\n",
        "              input_id = test_input['input_ids'].squeeze(1).to(device)\n",
        "\n",
        "              output = model(input_id, mask)\n",
        "\n",
        "              acc = (output.argmax(dim=1) == test_label).sum().item()\n",
        "              total_acc_test += acc\n",
        "    \n",
        "    print(f'Test Accuracy: {total_acc_test / len(test_data): .3f}')\n",
        "    \n",
        "evaluate(model, df_test)"
      ]
    }
  ],
  "metadata": {
    "colab": {
      "provenance": [],
      "authorship_tag": "ABX9TyN/e6KRz5C9W8VIEp+K6b+7",
      "include_colab_link": true
    },
    "kernelspec": {
      "display_name": "Python 3",
      "name": "python3"
    },
    "language_info": {
      "name": "python"
    },
    "widgets": {
      "application/vnd.jupyter.widget-state+json": {
        "392c5559a375499096e2a70dbdce3a4e": {
          "model_module": "@jupyter-widgets/controls",
          "model_name": "HBoxModel",
          "model_module_version": "1.5.0",
          "state": {
            "_dom_classes": [],
            "_model_module": "@jupyter-widgets/controls",
            "_model_module_version": "1.5.0",
            "_model_name": "HBoxModel",
            "_view_count": null,
            "_view_module": "@jupyter-widgets/controls",
            "_view_module_version": "1.5.0",
            "_view_name": "HBoxView",
            "box_style": "",
            "children": [
              "IPY_MODEL_772bcdd7dee24be088b43d37c778a17b",
              "IPY_MODEL_05cf747662dd40c386bcd69695b7d4d2",
              "IPY_MODEL_277d1b83b91d4c629c7661f07fc8fea8"
            ],
            "layout": "IPY_MODEL_f8e7669cb6e341e5922a98be5ae156fd"
          }
        },
        "772bcdd7dee24be088b43d37c778a17b": {
          "model_module": "@jupyter-widgets/controls",
          "model_name": "HTMLModel",
          "model_module_version": "1.5.0",
          "state": {
            "_dom_classes": [],
            "_model_module": "@jupyter-widgets/controls",
            "_model_module_version": "1.5.0",
            "_model_name": "HTMLModel",
            "_view_count": null,
            "_view_module": "@jupyter-widgets/controls",
            "_view_module_version": "1.5.0",
            "_view_name": "HTMLView",
            "description": "",
            "description_tooltip": null,
            "layout": "IPY_MODEL_14e504d55a1d4d43a69b7f16d62e9b5f",
            "placeholder": "​",
            "style": "IPY_MODEL_acef13e0109a46c8995e4178f5f0a233",
            "value": "Downloading (…)solve/main/vocab.txt: 100%"
          }
        },
        "05cf747662dd40c386bcd69695b7d4d2": {
          "model_module": "@jupyter-widgets/controls",
          "model_name": "FloatProgressModel",
          "model_module_version": "1.5.0",
          "state": {
            "_dom_classes": [],
            "_model_module": "@jupyter-widgets/controls",
            "_model_module_version": "1.5.0",
            "_model_name": "FloatProgressModel",
            "_view_count": null,
            "_view_module": "@jupyter-widgets/controls",
            "_view_module_version": "1.5.0",
            "_view_name": "ProgressView",
            "bar_style": "success",
            "description": "",
            "description_tooltip": null,
            "layout": "IPY_MODEL_2a133bb981124ad1b834eb4df7995b50",
            "max": 213450,
            "min": 0,
            "orientation": "horizontal",
            "style": "IPY_MODEL_59e2cc6814504b1fabd78ff98261228c",
            "value": 213450
          }
        },
        "277d1b83b91d4c629c7661f07fc8fea8": {
          "model_module": "@jupyter-widgets/controls",
          "model_name": "HTMLModel",
          "model_module_version": "1.5.0",
          "state": {
            "_dom_classes": [],
            "_model_module": "@jupyter-widgets/controls",
            "_model_module_version": "1.5.0",
            "_model_name": "HTMLModel",
            "_view_count": null,
            "_view_module": "@jupyter-widgets/controls",
            "_view_module_version": "1.5.0",
            "_view_name": "HTMLView",
            "description": "",
            "description_tooltip": null,
            "layout": "IPY_MODEL_a389c2ef7ad743af82acf49812e2d8b6",
            "placeholder": "​",
            "style": "IPY_MODEL_fc1b7192001a42d991ab267a18f43833",
            "value": " 213k/213k [00:00&lt;00:00, 1.41MB/s]"
          }
        },
        "f8e7669cb6e341e5922a98be5ae156fd": {
          "model_module": "@jupyter-widgets/base",
          "model_name": "LayoutModel",
          "model_module_version": "1.2.0",
          "state": {
            "_model_module": "@jupyter-widgets/base",
            "_model_module_version": "1.2.0",
            "_model_name": "LayoutModel",
            "_view_count": null,
            "_view_module": "@jupyter-widgets/base",
            "_view_module_version": "1.2.0",
            "_view_name": "LayoutView",
            "align_content": null,
            "align_items": null,
            "align_self": null,
            "border": null,
            "bottom": null,
            "display": null,
            "flex": null,
            "flex_flow": null,
            "grid_area": null,
            "grid_auto_columns": null,
            "grid_auto_flow": null,
            "grid_auto_rows": null,
            "grid_column": null,
            "grid_gap": null,
            "grid_row": null,
            "grid_template_areas": null,
            "grid_template_columns": null,
            "grid_template_rows": null,
            "height": null,
            "justify_content": null,
            "justify_items": null,
            "left": null,
            "margin": null,
            "max_height": null,
            "max_width": null,
            "min_height": null,
            "min_width": null,
            "object_fit": null,
            "object_position": null,
            "order": null,
            "overflow": null,
            "overflow_x": null,
            "overflow_y": null,
            "padding": null,
            "right": null,
            "top": null,
            "visibility": null,
            "width": null
          }
        },
        "14e504d55a1d4d43a69b7f16d62e9b5f": {
          "model_module": "@jupyter-widgets/base",
          "model_name": "LayoutModel",
          "model_module_version": "1.2.0",
          "state": {
            "_model_module": "@jupyter-widgets/base",
            "_model_module_version": "1.2.0",
            "_model_name": "LayoutModel",
            "_view_count": null,
            "_view_module": "@jupyter-widgets/base",
            "_view_module_version": "1.2.0",
            "_view_name": "LayoutView",
            "align_content": null,
            "align_items": null,
            "align_self": null,
            "border": null,
            "bottom": null,
            "display": null,
            "flex": null,
            "flex_flow": null,
            "grid_area": null,
            "grid_auto_columns": null,
            "grid_auto_flow": null,
            "grid_auto_rows": null,
            "grid_column": null,
            "grid_gap": null,
            "grid_row": null,
            "grid_template_areas": null,
            "grid_template_columns": null,
            "grid_template_rows": null,
            "height": null,
            "justify_content": null,
            "justify_items": null,
            "left": null,
            "margin": null,
            "max_height": null,
            "max_width": null,
            "min_height": null,
            "min_width": null,
            "object_fit": null,
            "object_position": null,
            "order": null,
            "overflow": null,
            "overflow_x": null,
            "overflow_y": null,
            "padding": null,
            "right": null,
            "top": null,
            "visibility": null,
            "width": null
          }
        },
        "acef13e0109a46c8995e4178f5f0a233": {
          "model_module": "@jupyter-widgets/controls",
          "model_name": "DescriptionStyleModel",
          "model_module_version": "1.5.0",
          "state": {
            "_model_module": "@jupyter-widgets/controls",
            "_model_module_version": "1.5.0",
            "_model_name": "DescriptionStyleModel",
            "_view_count": null,
            "_view_module": "@jupyter-widgets/base",
            "_view_module_version": "1.2.0",
            "_view_name": "StyleView",
            "description_width": ""
          }
        },
        "2a133bb981124ad1b834eb4df7995b50": {
          "model_module": "@jupyter-widgets/base",
          "model_name": "LayoutModel",
          "model_module_version": "1.2.0",
          "state": {
            "_model_module": "@jupyter-widgets/base",
            "_model_module_version": "1.2.0",
            "_model_name": "LayoutModel",
            "_view_count": null,
            "_view_module": "@jupyter-widgets/base",
            "_view_module_version": "1.2.0",
            "_view_name": "LayoutView",
            "align_content": null,
            "align_items": null,
            "align_self": null,
            "border": null,
            "bottom": null,
            "display": null,
            "flex": null,
            "flex_flow": null,
            "grid_area": null,
            "grid_auto_columns": null,
            "grid_auto_flow": null,
            "grid_auto_rows": null,
            "grid_column": null,
            "grid_gap": null,
            "grid_row": null,
            "grid_template_areas": null,
            "grid_template_columns": null,
            "grid_template_rows": null,
            "height": null,
            "justify_content": null,
            "justify_items": null,
            "left": null,
            "margin": null,
            "max_height": null,
            "max_width": null,
            "min_height": null,
            "min_width": null,
            "object_fit": null,
            "object_position": null,
            "order": null,
            "overflow": null,
            "overflow_x": null,
            "overflow_y": null,
            "padding": null,
            "right": null,
            "top": null,
            "visibility": null,
            "width": null
          }
        },
        "59e2cc6814504b1fabd78ff98261228c": {
          "model_module": "@jupyter-widgets/controls",
          "model_name": "ProgressStyleModel",
          "model_module_version": "1.5.0",
          "state": {
            "_model_module": "@jupyter-widgets/controls",
            "_model_module_version": "1.5.0",
            "_model_name": "ProgressStyleModel",
            "_view_count": null,
            "_view_module": "@jupyter-widgets/base",
            "_view_module_version": "1.2.0",
            "_view_name": "StyleView",
            "bar_color": null,
            "description_width": ""
          }
        },
        "a389c2ef7ad743af82acf49812e2d8b6": {
          "model_module": "@jupyter-widgets/base",
          "model_name": "LayoutModel",
          "model_module_version": "1.2.0",
          "state": {
            "_model_module": "@jupyter-widgets/base",
            "_model_module_version": "1.2.0",
            "_model_name": "LayoutModel",
            "_view_count": null,
            "_view_module": "@jupyter-widgets/base",
            "_view_module_version": "1.2.0",
            "_view_name": "LayoutView",
            "align_content": null,
            "align_items": null,
            "align_self": null,
            "border": null,
            "bottom": null,
            "display": null,
            "flex": null,
            "flex_flow": null,
            "grid_area": null,
            "grid_auto_columns": null,
            "grid_auto_flow": null,
            "grid_auto_rows": null,
            "grid_column": null,
            "grid_gap": null,
            "grid_row": null,
            "grid_template_areas": null,
            "grid_template_columns": null,
            "grid_template_rows": null,
            "height": null,
            "justify_content": null,
            "justify_items": null,
            "left": null,
            "margin": null,
            "max_height": null,
            "max_width": null,
            "min_height": null,
            "min_width": null,
            "object_fit": null,
            "object_position": null,
            "order": null,
            "overflow": null,
            "overflow_x": null,
            "overflow_y": null,
            "padding": null,
            "right": null,
            "top": null,
            "visibility": null,
            "width": null
          }
        },
        "fc1b7192001a42d991ab267a18f43833": {
          "model_module": "@jupyter-widgets/controls",
          "model_name": "DescriptionStyleModel",
          "model_module_version": "1.5.0",
          "state": {
            "_model_module": "@jupyter-widgets/controls",
            "_model_module_version": "1.5.0",
            "_model_name": "DescriptionStyleModel",
            "_view_count": null,
            "_view_module": "@jupyter-widgets/base",
            "_view_module_version": "1.2.0",
            "_view_name": "StyleView",
            "description_width": ""
          }
        },
        "28a12fa566e6422f8daa13f4c8d2fb13": {
          "model_module": "@jupyter-widgets/controls",
          "model_name": "HBoxModel",
          "model_module_version": "1.5.0",
          "state": {
            "_dom_classes": [],
            "_model_module": "@jupyter-widgets/controls",
            "_model_module_version": "1.5.0",
            "_model_name": "HBoxModel",
            "_view_count": null,
            "_view_module": "@jupyter-widgets/controls",
            "_view_module_version": "1.5.0",
            "_view_name": "HBoxView",
            "box_style": "",
            "children": [
              "IPY_MODEL_edc790afb8f84bb6a738f7a5acc99d5d",
              "IPY_MODEL_48ee48f71f164a6f938d5c3e29c0c95f",
              "IPY_MODEL_047f686a1b784f8ea2ef960180df25f9"
            ],
            "layout": "IPY_MODEL_d5a73df7d30d423db45897d2315cd905"
          }
        },
        "edc790afb8f84bb6a738f7a5acc99d5d": {
          "model_module": "@jupyter-widgets/controls",
          "model_name": "HTMLModel",
          "model_module_version": "1.5.0",
          "state": {
            "_dom_classes": [],
            "_model_module": "@jupyter-widgets/controls",
            "_model_module_version": "1.5.0",
            "_model_name": "HTMLModel",
            "_view_count": null,
            "_view_module": "@jupyter-widgets/controls",
            "_view_module_version": "1.5.0",
            "_view_name": "HTMLView",
            "description": "",
            "description_tooltip": null,
            "layout": "IPY_MODEL_2e85a93986364ab8ac1d4235b5fbf2c4",
            "placeholder": "​",
            "style": "IPY_MODEL_1ec51764054a4a6b9be13a60e367df70",
            "value": "Downloading (…)okenizer_config.json: 100%"
          }
        },
        "48ee48f71f164a6f938d5c3e29c0c95f": {
          "model_module": "@jupyter-widgets/controls",
          "model_name": "FloatProgressModel",
          "model_module_version": "1.5.0",
          "state": {
            "_dom_classes": [],
            "_model_module": "@jupyter-widgets/controls",
            "_model_module_version": "1.5.0",
            "_model_name": "FloatProgressModel",
            "_view_count": null,
            "_view_module": "@jupyter-widgets/controls",
            "_view_module_version": "1.5.0",
            "_view_name": "ProgressView",
            "bar_style": "success",
            "description": "",
            "description_tooltip": null,
            "layout": "IPY_MODEL_b88922caf4ef4753b2f75502c78b1171",
            "max": 29,
            "min": 0,
            "orientation": "horizontal",
            "style": "IPY_MODEL_603238aa9c8f43bcb2a6637089efa1d5",
            "value": 29
          }
        },
        "047f686a1b784f8ea2ef960180df25f9": {
          "model_module": "@jupyter-widgets/controls",
          "model_name": "HTMLModel",
          "model_module_version": "1.5.0",
          "state": {
            "_dom_classes": [],
            "_model_module": "@jupyter-widgets/controls",
            "_model_module_version": "1.5.0",
            "_model_name": "HTMLModel",
            "_view_count": null,
            "_view_module": "@jupyter-widgets/controls",
            "_view_module_version": "1.5.0",
            "_view_name": "HTMLView",
            "description": "",
            "description_tooltip": null,
            "layout": "IPY_MODEL_fcf01433ae7946e99adf315f327f7254",
            "placeholder": "​",
            "style": "IPY_MODEL_2402056bf03c430e90425df14c6bc993",
            "value": " 29.0/29.0 [00:00&lt;00:00, 270B/s]"
          }
        },
        "d5a73df7d30d423db45897d2315cd905": {
          "model_module": "@jupyter-widgets/base",
          "model_name": "LayoutModel",
          "model_module_version": "1.2.0",
          "state": {
            "_model_module": "@jupyter-widgets/base",
            "_model_module_version": "1.2.0",
            "_model_name": "LayoutModel",
            "_view_count": null,
            "_view_module": "@jupyter-widgets/base",
            "_view_module_version": "1.2.0",
            "_view_name": "LayoutView",
            "align_content": null,
            "align_items": null,
            "align_self": null,
            "border": null,
            "bottom": null,
            "display": null,
            "flex": null,
            "flex_flow": null,
            "grid_area": null,
            "grid_auto_columns": null,
            "grid_auto_flow": null,
            "grid_auto_rows": null,
            "grid_column": null,
            "grid_gap": null,
            "grid_row": null,
            "grid_template_areas": null,
            "grid_template_columns": null,
            "grid_template_rows": null,
            "height": null,
            "justify_content": null,
            "justify_items": null,
            "left": null,
            "margin": null,
            "max_height": null,
            "max_width": null,
            "min_height": null,
            "min_width": null,
            "object_fit": null,
            "object_position": null,
            "order": null,
            "overflow": null,
            "overflow_x": null,
            "overflow_y": null,
            "padding": null,
            "right": null,
            "top": null,
            "visibility": null,
            "width": null
          }
        },
        "2e85a93986364ab8ac1d4235b5fbf2c4": {
          "model_module": "@jupyter-widgets/base",
          "model_name": "LayoutModel",
          "model_module_version": "1.2.0",
          "state": {
            "_model_module": "@jupyter-widgets/base",
            "_model_module_version": "1.2.0",
            "_model_name": "LayoutModel",
            "_view_count": null,
            "_view_module": "@jupyter-widgets/base",
            "_view_module_version": "1.2.0",
            "_view_name": "LayoutView",
            "align_content": null,
            "align_items": null,
            "align_self": null,
            "border": null,
            "bottom": null,
            "display": null,
            "flex": null,
            "flex_flow": null,
            "grid_area": null,
            "grid_auto_columns": null,
            "grid_auto_flow": null,
            "grid_auto_rows": null,
            "grid_column": null,
            "grid_gap": null,
            "grid_row": null,
            "grid_template_areas": null,
            "grid_template_columns": null,
            "grid_template_rows": null,
            "height": null,
            "justify_content": null,
            "justify_items": null,
            "left": null,
            "margin": null,
            "max_height": null,
            "max_width": null,
            "min_height": null,
            "min_width": null,
            "object_fit": null,
            "object_position": null,
            "order": null,
            "overflow": null,
            "overflow_x": null,
            "overflow_y": null,
            "padding": null,
            "right": null,
            "top": null,
            "visibility": null,
            "width": null
          }
        },
        "1ec51764054a4a6b9be13a60e367df70": {
          "model_module": "@jupyter-widgets/controls",
          "model_name": "DescriptionStyleModel",
          "model_module_version": "1.5.0",
          "state": {
            "_model_module": "@jupyter-widgets/controls",
            "_model_module_version": "1.5.0",
            "_model_name": "DescriptionStyleModel",
            "_view_count": null,
            "_view_module": "@jupyter-widgets/base",
            "_view_module_version": "1.2.0",
            "_view_name": "StyleView",
            "description_width": ""
          }
        },
        "b88922caf4ef4753b2f75502c78b1171": {
          "model_module": "@jupyter-widgets/base",
          "model_name": "LayoutModel",
          "model_module_version": "1.2.0",
          "state": {
            "_model_module": "@jupyter-widgets/base",
            "_model_module_version": "1.2.0",
            "_model_name": "LayoutModel",
            "_view_count": null,
            "_view_module": "@jupyter-widgets/base",
            "_view_module_version": "1.2.0",
            "_view_name": "LayoutView",
            "align_content": null,
            "align_items": null,
            "align_self": null,
            "border": null,
            "bottom": null,
            "display": null,
            "flex": null,
            "flex_flow": null,
            "grid_area": null,
            "grid_auto_columns": null,
            "grid_auto_flow": null,
            "grid_auto_rows": null,
            "grid_column": null,
            "grid_gap": null,
            "grid_row": null,
            "grid_template_areas": null,
            "grid_template_columns": null,
            "grid_template_rows": null,
            "height": null,
            "justify_content": null,
            "justify_items": null,
            "left": null,
            "margin": null,
            "max_height": null,
            "max_width": null,
            "min_height": null,
            "min_width": null,
            "object_fit": null,
            "object_position": null,
            "order": null,
            "overflow": null,
            "overflow_x": null,
            "overflow_y": null,
            "padding": null,
            "right": null,
            "top": null,
            "visibility": null,
            "width": null
          }
        },
        "603238aa9c8f43bcb2a6637089efa1d5": {
          "model_module": "@jupyter-widgets/controls",
          "model_name": "ProgressStyleModel",
          "model_module_version": "1.5.0",
          "state": {
            "_model_module": "@jupyter-widgets/controls",
            "_model_module_version": "1.5.0",
            "_model_name": "ProgressStyleModel",
            "_view_count": null,
            "_view_module": "@jupyter-widgets/base",
            "_view_module_version": "1.2.0",
            "_view_name": "StyleView",
            "bar_color": null,
            "description_width": ""
          }
        },
        "fcf01433ae7946e99adf315f327f7254": {
          "model_module": "@jupyter-widgets/base",
          "model_name": "LayoutModel",
          "model_module_version": "1.2.0",
          "state": {
            "_model_module": "@jupyter-widgets/base",
            "_model_module_version": "1.2.0",
            "_model_name": "LayoutModel",
            "_view_count": null,
            "_view_module": "@jupyter-widgets/base",
            "_view_module_version": "1.2.0",
            "_view_name": "LayoutView",
            "align_content": null,
            "align_items": null,
            "align_self": null,
            "border": null,
            "bottom": null,
            "display": null,
            "flex": null,
            "flex_flow": null,
            "grid_area": null,
            "grid_auto_columns": null,
            "grid_auto_flow": null,
            "grid_auto_rows": null,
            "grid_column": null,
            "grid_gap": null,
            "grid_row": null,
            "grid_template_areas": null,
            "grid_template_columns": null,
            "grid_template_rows": null,
            "height": null,
            "justify_content": null,
            "justify_items": null,
            "left": null,
            "margin": null,
            "max_height": null,
            "max_width": null,
            "min_height": null,
            "min_width": null,
            "object_fit": null,
            "object_position": null,
            "order": null,
            "overflow": null,
            "overflow_x": null,
            "overflow_y": null,
            "padding": null,
            "right": null,
            "top": null,
            "visibility": null,
            "width": null
          }
        },
        "2402056bf03c430e90425df14c6bc993": {
          "model_module": "@jupyter-widgets/controls",
          "model_name": "DescriptionStyleModel",
          "model_module_version": "1.5.0",
          "state": {
            "_model_module": "@jupyter-widgets/controls",
            "_model_module_version": "1.5.0",
            "_model_name": "DescriptionStyleModel",
            "_view_count": null,
            "_view_module": "@jupyter-widgets/base",
            "_view_module_version": "1.2.0",
            "_view_name": "StyleView",
            "description_width": ""
          }
        },
        "8228fc91fa8d4bd996d85fb817aa71d4": {
          "model_module": "@jupyter-widgets/controls",
          "model_name": "HBoxModel",
          "model_module_version": "1.5.0",
          "state": {
            "_dom_classes": [],
            "_model_module": "@jupyter-widgets/controls",
            "_model_module_version": "1.5.0",
            "_model_name": "HBoxModel",
            "_view_count": null,
            "_view_module": "@jupyter-widgets/controls",
            "_view_module_version": "1.5.0",
            "_view_name": "HBoxView",
            "box_style": "",
            "children": [
              "IPY_MODEL_e14ea295acee414fa372ea80c5e5174f",
              "IPY_MODEL_4e06eff61a7b4e00a678ead1ce0bb831",
              "IPY_MODEL_6f661e89e21b45e5b875e11466eed23c"
            ],
            "layout": "IPY_MODEL_a72f0d3ae6094ebfba0e7050d1007f23"
          }
        },
        "e14ea295acee414fa372ea80c5e5174f": {
          "model_module": "@jupyter-widgets/controls",
          "model_name": "HTMLModel",
          "model_module_version": "1.5.0",
          "state": {
            "_dom_classes": [],
            "_model_module": "@jupyter-widgets/controls",
            "_model_module_version": "1.5.0",
            "_model_name": "HTMLModel",
            "_view_count": null,
            "_view_module": "@jupyter-widgets/controls",
            "_view_module_version": "1.5.0",
            "_view_name": "HTMLView",
            "description": "",
            "description_tooltip": null,
            "layout": "IPY_MODEL_19cb3d1678024833bf7ed3e682704af8",
            "placeholder": "​",
            "style": "IPY_MODEL_1b7b37ad297241058c11a8261519cf90",
            "value": "Downloading (…)lve/main/config.json: 100%"
          }
        },
        "4e06eff61a7b4e00a678ead1ce0bb831": {
          "model_module": "@jupyter-widgets/controls",
          "model_name": "FloatProgressModel",
          "model_module_version": "1.5.0",
          "state": {
            "_dom_classes": [],
            "_model_module": "@jupyter-widgets/controls",
            "_model_module_version": "1.5.0",
            "_model_name": "FloatProgressModel",
            "_view_count": null,
            "_view_module": "@jupyter-widgets/controls",
            "_view_module_version": "1.5.0",
            "_view_name": "ProgressView",
            "bar_style": "success",
            "description": "",
            "description_tooltip": null,
            "layout": "IPY_MODEL_f5fdcfc767234da8bf926581e9e4e96f",
            "max": 570,
            "min": 0,
            "orientation": "horizontal",
            "style": "IPY_MODEL_705eb856ce534a94b6041625062f7e6a",
            "value": 570
          }
        },
        "6f661e89e21b45e5b875e11466eed23c": {
          "model_module": "@jupyter-widgets/controls",
          "model_name": "HTMLModel",
          "model_module_version": "1.5.0",
          "state": {
            "_dom_classes": [],
            "_model_module": "@jupyter-widgets/controls",
            "_model_module_version": "1.5.0",
            "_model_name": "HTMLModel",
            "_view_count": null,
            "_view_module": "@jupyter-widgets/controls",
            "_view_module_version": "1.5.0",
            "_view_name": "HTMLView",
            "description": "",
            "description_tooltip": null,
            "layout": "IPY_MODEL_9234b5c14e15448aa61b8d34d15241ea",
            "placeholder": "​",
            "style": "IPY_MODEL_24f35158bd4840caa176241342f8240e",
            "value": " 570/570 [00:00&lt;00:00, 7.37kB/s]"
          }
        },
        "a72f0d3ae6094ebfba0e7050d1007f23": {
          "model_module": "@jupyter-widgets/base",
          "model_name": "LayoutModel",
          "model_module_version": "1.2.0",
          "state": {
            "_model_module": "@jupyter-widgets/base",
            "_model_module_version": "1.2.0",
            "_model_name": "LayoutModel",
            "_view_count": null,
            "_view_module": "@jupyter-widgets/base",
            "_view_module_version": "1.2.0",
            "_view_name": "LayoutView",
            "align_content": null,
            "align_items": null,
            "align_self": null,
            "border": null,
            "bottom": null,
            "display": null,
            "flex": null,
            "flex_flow": null,
            "grid_area": null,
            "grid_auto_columns": null,
            "grid_auto_flow": null,
            "grid_auto_rows": null,
            "grid_column": null,
            "grid_gap": null,
            "grid_row": null,
            "grid_template_areas": null,
            "grid_template_columns": null,
            "grid_template_rows": null,
            "height": null,
            "justify_content": null,
            "justify_items": null,
            "left": null,
            "margin": null,
            "max_height": null,
            "max_width": null,
            "min_height": null,
            "min_width": null,
            "object_fit": null,
            "object_position": null,
            "order": null,
            "overflow": null,
            "overflow_x": null,
            "overflow_y": null,
            "padding": null,
            "right": null,
            "top": null,
            "visibility": null,
            "width": null
          }
        },
        "19cb3d1678024833bf7ed3e682704af8": {
          "model_module": "@jupyter-widgets/base",
          "model_name": "LayoutModel",
          "model_module_version": "1.2.0",
          "state": {
            "_model_module": "@jupyter-widgets/base",
            "_model_module_version": "1.2.0",
            "_model_name": "LayoutModel",
            "_view_count": null,
            "_view_module": "@jupyter-widgets/base",
            "_view_module_version": "1.2.0",
            "_view_name": "LayoutView",
            "align_content": null,
            "align_items": null,
            "align_self": null,
            "border": null,
            "bottom": null,
            "display": null,
            "flex": null,
            "flex_flow": null,
            "grid_area": null,
            "grid_auto_columns": null,
            "grid_auto_flow": null,
            "grid_auto_rows": null,
            "grid_column": null,
            "grid_gap": null,
            "grid_row": null,
            "grid_template_areas": null,
            "grid_template_columns": null,
            "grid_template_rows": null,
            "height": null,
            "justify_content": null,
            "justify_items": null,
            "left": null,
            "margin": null,
            "max_height": null,
            "max_width": null,
            "min_height": null,
            "min_width": null,
            "object_fit": null,
            "object_position": null,
            "order": null,
            "overflow": null,
            "overflow_x": null,
            "overflow_y": null,
            "padding": null,
            "right": null,
            "top": null,
            "visibility": null,
            "width": null
          }
        },
        "1b7b37ad297241058c11a8261519cf90": {
          "model_module": "@jupyter-widgets/controls",
          "model_name": "DescriptionStyleModel",
          "model_module_version": "1.5.0",
          "state": {
            "_model_module": "@jupyter-widgets/controls",
            "_model_module_version": "1.5.0",
            "_model_name": "DescriptionStyleModel",
            "_view_count": null,
            "_view_module": "@jupyter-widgets/base",
            "_view_module_version": "1.2.0",
            "_view_name": "StyleView",
            "description_width": ""
          }
        },
        "f5fdcfc767234da8bf926581e9e4e96f": {
          "model_module": "@jupyter-widgets/base",
          "model_name": "LayoutModel",
          "model_module_version": "1.2.0",
          "state": {
            "_model_module": "@jupyter-widgets/base",
            "_model_module_version": "1.2.0",
            "_model_name": "LayoutModel",
            "_view_count": null,
            "_view_module": "@jupyter-widgets/base",
            "_view_module_version": "1.2.0",
            "_view_name": "LayoutView",
            "align_content": null,
            "align_items": null,
            "align_self": null,
            "border": null,
            "bottom": null,
            "display": null,
            "flex": null,
            "flex_flow": null,
            "grid_area": null,
            "grid_auto_columns": null,
            "grid_auto_flow": null,
            "grid_auto_rows": null,
            "grid_column": null,
            "grid_gap": null,
            "grid_row": null,
            "grid_template_areas": null,
            "grid_template_columns": null,
            "grid_template_rows": null,
            "height": null,
            "justify_content": null,
            "justify_items": null,
            "left": null,
            "margin": null,
            "max_height": null,
            "max_width": null,
            "min_height": null,
            "min_width": null,
            "object_fit": null,
            "object_position": null,
            "order": null,
            "overflow": null,
            "overflow_x": null,
            "overflow_y": null,
            "padding": null,
            "right": null,
            "top": null,
            "visibility": null,
            "width": null
          }
        },
        "705eb856ce534a94b6041625062f7e6a": {
          "model_module": "@jupyter-widgets/controls",
          "model_name": "ProgressStyleModel",
          "model_module_version": "1.5.0",
          "state": {
            "_model_module": "@jupyter-widgets/controls",
            "_model_module_version": "1.5.0",
            "_model_name": "ProgressStyleModel",
            "_view_count": null,
            "_view_module": "@jupyter-widgets/base",
            "_view_module_version": "1.2.0",
            "_view_name": "StyleView",
            "bar_color": null,
            "description_width": ""
          }
        },
        "9234b5c14e15448aa61b8d34d15241ea": {
          "model_module": "@jupyter-widgets/base",
          "model_name": "LayoutModel",
          "model_module_version": "1.2.0",
          "state": {
            "_model_module": "@jupyter-widgets/base",
            "_model_module_version": "1.2.0",
            "_model_name": "LayoutModel",
            "_view_count": null,
            "_view_module": "@jupyter-widgets/base",
            "_view_module_version": "1.2.0",
            "_view_name": "LayoutView",
            "align_content": null,
            "align_items": null,
            "align_self": null,
            "border": null,
            "bottom": null,
            "display": null,
            "flex": null,
            "flex_flow": null,
            "grid_area": null,
            "grid_auto_columns": null,
            "grid_auto_flow": null,
            "grid_auto_rows": null,
            "grid_column": null,
            "grid_gap": null,
            "grid_row": null,
            "grid_template_areas": null,
            "grid_template_columns": null,
            "grid_template_rows": null,
            "height": null,
            "justify_content": null,
            "justify_items": null,
            "left": null,
            "margin": null,
            "max_height": null,
            "max_width": null,
            "min_height": null,
            "min_width": null,
            "object_fit": null,
            "object_position": null,
            "order": null,
            "overflow": null,
            "overflow_x": null,
            "overflow_y": null,
            "padding": null,
            "right": null,
            "top": null,
            "visibility": null,
            "width": null
          }
        },
        "24f35158bd4840caa176241342f8240e": {
          "model_module": "@jupyter-widgets/controls",
          "model_name": "DescriptionStyleModel",
          "model_module_version": "1.5.0",
          "state": {
            "_model_module": "@jupyter-widgets/controls",
            "_model_module_version": "1.5.0",
            "_model_name": "DescriptionStyleModel",
            "_view_count": null,
            "_view_module": "@jupyter-widgets/base",
            "_view_module_version": "1.2.0",
            "_view_name": "StyleView",
            "description_width": ""
          }
        }
      }
    }
  },
  "nbformat": 4,
  "nbformat_minor": 0
}