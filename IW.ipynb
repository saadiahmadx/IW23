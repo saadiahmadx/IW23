{
  "cells": [
    {
      "cell_type": "markdown",
      "metadata": {
        "id": "view-in-github",
        "colab_type": "text"
      },
      "source": [
        "<a href=\"https://colab.research.google.com/github/saadiahmadx/IW23/blob/main/IW.ipynb\" target=\"_parent\"><img src=\"https://colab.research.google.com/assets/colab-badge.svg\" alt=\"Open In Colab\"/></a>"
      ]
    },
    {
      "cell_type": "markdown",
      "metadata": {
        "id": "0i2upx58l0wS"
      },
      "source": [
        "# Brainstorm\n",
        "\n"
      ]
    },
    {
      "cell_type": "markdown",
      "metadata": {
        "id": "NOXPMlp-Gqtd"
      },
      "source": [
        "Constitution Ideas:\n",
        "* target-only (has mention; control)\n",
        "* hateful keyword\n",
        "*  -->\n",
        "\n",
        "google trends: \"black lives matter\":\n",
        "* May 3 - Dec 26, 2020 (1% to 1%)\n",
        "* May 17 - Aug 22 (spike onset to decay; has longer tail)\n",
        "\n",
        "google trends: \"looting\":\n",
        "* May 17 - June 20 (spike onset to decay; no tail)\n",
        "\n",
        "google trends: \"blue lives matter\":\n",
        "* May 17 - July 11 (spike onset to decay; long tail)\n",
        "\n",
        "Annotation Strategy:\n",
        "1. Select tweets by oversampling tweets with BLM or \"hate\" keywords\n",
        "2. 2 annnotators read texts, sample 50 tweets, go over and discuss with me, revisit 50 tweets for changes, go over, done\n",
        "3. annotators annotate 3k tweets\n",
        "4. Note inter-rater score and Cohen's Kappa score\n",
        "5. Select data classified the same by BOTH annotators"
      ]
    },
    {
      "cell_type": "markdown",
      "metadata": {
        "id": "c95JcqzxQKGN"
      },
      "source": [
        "\n",
        "# Add and clean dataset"
      ]
    },
    {
      "cell_type": "markdown",
      "metadata": {
        "id": "yL5IafhpSoss"
      },
      "source": [
        "**Dataset info:**\n",
        "* 9165 tweets\n",
        "* data collection period: 05/27 to 7/26 (2 months)\n",
        "* excluded users <150 followers (reduce bot spam tweets)\n",
        "* hate-speech specific tweets targeted via hashtags: BLM, ChangeTheSystem, AtlantaProtest, JusticeForGeorgeFloyd, BlueLivesMatter\n",
        "\n",
        "**Annotation criteria**\n",
        "* mention of hateful text\n",
        "* mention of non-hateful text\n",
        "* 5 undergrad/grad annotators, 100% agreement of at least 2/3 annotators selects tweet for final annotation, if agreement of last 2 annotators then final labeled, otherwise remove tweet from consideration\n",
        "\n"
      ]
    },
    {
      "cell_type": "code",
      "execution_count": null,
      "metadata": {
        "colab": {
          "base_uri": "https://localhost:8080/"
        },
        "id": "pLECiKNK8B0d",
        "outputId": "f734a6e1-b7cb-442c-9327-65699f37fcd4"
      },
      "outputs": [
        {
          "name": "stdout",
          "output_type": "stream",
          "text": [
            "Looking in indexes: https://pypi.org/simple, https://us-python.pkg.dev/colab-wheels/public/simple/\n",
            "Collecting contractions\n",
            "  Downloading contractions-0.1.73-py2.py3-none-any.whl (8.7 kB)\n",
            "Collecting textsearch>=0.0.21\n",
            "  Downloading textsearch-0.0.24-py2.py3-none-any.whl (7.6 kB)\n",
            "Collecting anyascii\n",
            "  Downloading anyascii-0.3.1-py3-none-any.whl (287 kB)\n",
            "\u001b[2K     \u001b[90m━━━━━━━━━━━━━━━━━━━━━━━━━━━━━━━━━━━━━━━\u001b[0m \u001b[32m287.5/287.5 KB\u001b[0m \u001b[31m5.5 MB/s\u001b[0m eta \u001b[36m0:00:00\u001b[0m\n",
            "\u001b[?25hCollecting pyahocorasick\n",
            "  Downloading pyahocorasick-2.0.0-cp38-cp38-manylinux_2_5_x86_64.manylinux1_x86_64.whl (104 kB)\n",
            "\u001b[2K     \u001b[90m━━━━━━━━━━━━━━━━━━━━━━━━━━━━━━━━━━━━━━\u001b[0m \u001b[32m104.5/104.5 KB\u001b[0m \u001b[31m11.9 MB/s\u001b[0m eta \u001b[36m0:00:00\u001b[0m\n",
            "\u001b[?25hInstalling collected packages: pyahocorasick, anyascii, textsearch, contractions\n",
            "Successfully installed anyascii-0.3.1 contractions-0.1.73 pyahocorasick-2.0.0 textsearch-0.0.24\n"
          ]
        }
      ],
      "source": [
        "pip install contractions"
      ]
    },
    {
      "cell_type": "code",
      "execution_count": null,
      "metadata": {
        "colab": {
          "base_uri": "https://localhost:8080/"
        },
        "id": "8bgjip_c-72h",
        "outputId": "5850e33c-8ca1-4a1d-c303-31f219f48b24"
      },
      "outputs": [
        {
          "name": "stdout",
          "output_type": "stream",
          "text": [
            "Looking in indexes: https://pypi.org/simple, https://us-python.pkg.dev/colab-wheels/public/simple/\n",
            "Requirement already satisfied: nltk in /usr/local/lib/python3.8/dist-packages (3.7)\n",
            "Requirement already satisfied: joblib in /usr/local/lib/python3.8/dist-packages (from nltk) (1.2.0)\n",
            "Requirement already satisfied: regex>=2021.8.3 in /usr/local/lib/python3.8/dist-packages (from nltk) (2022.6.2)\n",
            "Requirement already satisfied: tqdm in /usr/local/lib/python3.8/dist-packages (from nltk) (4.64.1)\n",
            "Requirement already satisfied: click in /usr/local/lib/python3.8/dist-packages (from nltk) (7.1.2)\n"
          ]
        }
      ],
      "source": [
        "pip install nltk"
      ]
    },
    {
      "cell_type": "code",
      "execution_count": null,
      "metadata": {
        "colab": {
          "base_uri": "https://localhost:8080/"
        },
        "id": "MagetBdeUQE-",
        "outputId": "57948e1f-8c8c-48d1-afc1-9a100e0a8fa3"
      },
      "outputs": [
        {
          "name": "stderr",
          "output_type": "stream",
          "text": [
            "[nltk_data] Downloading package punkt to /root/nltk_data...\n",
            "[nltk_data]   Unzipping tokenizers/punkt.zip.\n",
            "[nltk_data] Downloading package stopwords to /root/nltk_data...\n",
            "[nltk_data]   Unzipping corpora/stopwords.zip.\n"
          ]
        },
        {
          "data": {
            "text/plain": [
              "True"
            ]
          },
          "execution_count": 4,
          "metadata": {},
          "output_type": "execute_result"
        }
      ],
      "source": [
        "import nltk\n",
        "import pandas as pd\n",
        "import ast\n",
        "from IPython.display import display\n",
        "nltk.download('punkt')\n",
        "nltk.download('stopwords')"
      ]
    },
    {
      "cell_type": "code",
      "execution_count": null,
      "metadata": {
        "id": "e42JTWpHl2WR"
      },
      "outputs": [],
      "source": [
        "url = 'https://raw.githubusercontent.com/saadiahmadx/IW23/main/TweetBLM.csv'\n",
        "df = pd.read_csv(url)\n",
        "updated_df = df"
      ]
    },
    {
      "cell_type": "markdown",
      "metadata": {
        "id": "6ddexRstfygw"
      },
      "source": [
        "info. gathering + basic dataset cleaning "
      ]
    },
    {
      "cell_type": "code",
      "execution_count": null,
      "metadata": {
        "colab": {
          "base_uri": "https://localhost:8080/"
        },
        "id": "MZIp_HKJJJWG",
        "outputId": "92369d80-258d-4db8-dd03-992750ba7545"
      },
      "outputs": [
        {
          "name": "stdout",
          "output_type": "stream",
          "text": [
            "n = 9165 \n",
            "\n",
            "0    0.663502\n",
            "1    0.336498\n",
            "Name: hate label, dtype: float64 (normalized) \n",
            "\n",
            "Twitter for iPhone     0.338791\n",
            "Twitter for Android    0.311722\n",
            "Twitter Web App        0.274722\n",
            "Twitter for iPad       0.046169\n",
            "TweetDeck              0.004802\n",
            "                         ...   \n",
            "SYSTHUB                0.000109\n",
            "WordPress.com          0.000109\n",
            "Biden Cabinet App      0.000109\n",
            "Echofon                0.000109\n",
            "dlvr.it                0.000109\n",
            "Name: source, Length: 79, dtype: float64 (normalized) \n",
            "\n",
            "(2019-06-17 15:05:00, 2020-08-10 11:00:00]              0.231424\n",
            "(2009-02-11 03:50:00, 2010-04-06 23:45:00]              0.115330\n",
            "(2018-04-23 19:10:00, 2019-06-17 15:05:00]              0.092526\n",
            "(2011-05-31 19:40:00, 2012-07-24 15:35:00]              0.089689\n",
            "(2016-01-05 03:20:00, 2017-02-27 23:15:00]              0.083797\n",
            "(2017-02-27 23:15:00, 2018-04-23 19:10:00]              0.081397\n",
            "(2013-09-17 11:30:00, 2014-11-11 07:25:00]              0.075505\n",
            "(2012-07-24 15:35:00, 2013-09-17 11:30:00]              0.069067\n",
            "(2010-04-06 23:45:00, 2011-05-31 19:40:00]              0.066558\n",
            "(2014-11-11 07:25:00, 2016-01-05 03:20:00]              0.064266\n",
            "(2007-12-19 07:55:00, 2009-02-11 03:50:00]              0.026732\n",
            "(2006-10-20 11:05:20.399999999, 2007-12-19 07:55:00]    0.003382\n",
            "Name: user_created, dtype: float64 (normalized) \n",
            "\n",
            "['BlackLivesMatter']                                                                      0.531094\n",
            "['BLM']                                                                                   0.080950\n",
            "['MeToo', 'BLM']                                                                          0.028597\n",
            "['HBDMaheshBabu', 'TwitterBestFandom']                                                    0.022999\n",
            "['PortlandPolice']                                                                        0.016039\n",
            "                                                                                            ...   \n",
            "['abolishthecarceralstate', 'today', 'Bronx', 'Brooklyn', 'Manhattan', 'StatenIsland']    0.000151\n",
            "['BLM', 'WhitePrivilege', 'WWG1GWA']                                                      0.000151\n",
            "['PoliceBrutality', 'blm']                                                                0.000151\n",
            "['Earworm']                                                                               0.000151\n",
            "['austinprotests', 'livestream', 'backtheblue']                                           0.000151\n",
            "Name: hashtags, Length: 825, dtype: float64 (normalized) \n",
            "\n"
          ]
        }
      ],
      "source": [
        "print ('n =', df['hate label'].count(), '\\n')\n",
        "print(df['hate label'].value_counts(normalize=True), '(normalized) \\n')\n",
        "print(df['source'].value_counts(normalize=True), '(normalized) \\n')\n",
        "\n",
        "#convert user_created dates to numeric\n",
        "updated_df['user_created'] = pd.to_datetime(df['user_created'], errors='coerce', dayfirst=True)\n",
        "\n",
        "#collection period, 1mo before, 6mo, 1yr, 5yr\n",
        "custom_bins = ['2020-08-10 11:00:00', '2020-05-26 00:00:00', '2020-04-26 00:00:00', '2019-11-26 00:00:00', '2019-05-26 00:00:00', '2015-05-26 00:00:00']\n",
        "custom_bins = pd.to_datetime(custom_bins.reverse())\n",
        "print(updated_df['user_created'].value_counts(normalize=True, bins=12), '(normalized) \\n')\n",
        "\n",
        "print(updated_df['hashtags'].value_counts(normalize=True), '(normalized) \\n')\n",
        "# def convert_hashtag_string(s):\n",
        "#   t = ast.literal_eval(s)\n",
        "#   t = [n.strip() for n in t]\n",
        "#   return t\n",
        "# all_hashtags = []\n",
        "# for index, row in df['hashtags'].iteritems():\n",
        "#   print(row)\n",
        "#   if (row):\n",
        "#     h = convert_hashtag_string(str(row).replace('\\'', '\"'))\n",
        "#     all_hashtags = all_hashtags + h\n",
        "# df_hashtag = pd.Series(all_hashtags)\n",
        "# print(df_hashtag.value_counts(normalize=True))"
      ]
    },
    {
      "cell_type": "markdown",
      "metadata": {
        "id": "stfGs8jmf646"
      },
      "source": [
        "tweet preprocessing"
      ]
    },
    {
      "cell_type": "code",
      "execution_count": null,
      "metadata": {
        "colab": {
          "base_uri": "https://localhost:8080/"
        },
        "id": "iJ7yRvYAf6KO",
        "outputId": "cbb46b0c-82e0-4768-a079-13d5213e3969"
      },
      "outputs": [
        {
          "name": "stdout",
          "output_type": "stream",
          "text": [
            " Original Tweet:\n",
            " RT @AgainWoodsy: 🍏🍏 Don't like mentally retarded & weird @JoeBiden #BlackLivesMatter activists screaming like big girls in a shopping store. https://t.co/KlhxJoSoLu \n",
            "\n",
            " Processed Tweet:\n",
            " ['like', 'mentally', 'retarded', 'weird', 'activists', 'screaming', 'like', 'big', 'girls', 'shopping', 'store'] \n",
            " Processed Tweet (light):\n",
            " 🍏🍏 don't like mentally retarded & weird activists screaming like big girls in a shopping store. \n",
            "\n",
            "Media Link: https://t.co/KlhxJoSoLu \n",
            "Retweet: ['AgainWoodsy'] \n",
            "Mentions: ['AgainWoodsy', 'JoeBiden'] \n",
            "Hashtags: ['BlackLivesMatter']\n"
          ]
        }
      ],
      "source": [
        "import re, string, unicodedata\n",
        "import contractions\n",
        "import nltk\n",
        "import inflect\n",
        "from nltk import word_tokenize, sent_tokenize\n",
        "from nltk.corpus import stopwords\n",
        "from nltk.stem import LancasterStemmer, WordNetLemmatizer\n",
        "from nltk.util import ngrams\n",
        "\n",
        "text='RT @AgainWoodsy: 🍏🍏 Don\\'t like mentally retarded & weird @JoeBiden #BlackLivesMatter activists screaming like big girls in a shopping store. https://t.co/KlhxJoSoLu'\n",
        "\n",
        "def get_media_url(tweet):\n",
        "  media_link = 'https://t.co/' + re.findall(\"https://t.co/([a-zA-Z0-9_]{1,50})\", tweet)[0]\n",
        "  return media_link\n",
        "\n",
        "def get_retweet(tweet):\n",
        "  return re.findall(\"RT @([a-zA-Z0-9_]{1,50})\", tweet)\n",
        "\n",
        "def get_mentions(tweet):\n",
        "  return re.findall(\"@([a-zA-Z0-9_]{1,50})\", tweet)\n",
        "\n",
        "def get_hashtags(tweet):\n",
        "  return re.findall(\"#([a-zA-Z0-9_]{1,50})\", tweet)\n",
        "\n",
        "def remove_url(text):\n",
        "  return re.sub(r\"https?:[^\\s]+\", \"\", text)\n",
        "\n",
        "def remove_contractions(text):\n",
        "  return contractions.fix(text)\n",
        "\n",
        "def remove_non_ascii(words):\n",
        "    new_words = []\n",
        "    for word in words:\n",
        "        new_word = unicodedata.normalize('NFKD', word).encode('ascii', 'ignore').decode('utf-8', 'ignore')\n",
        "        new_words.append(new_word)\n",
        "    return new_words\n",
        "\n",
        "def remove_punctuation(words):\n",
        "    new_words = []\n",
        "    for word in words:\n",
        "        new_word = re.sub(r'[^\\w\\s]', '', word)\n",
        "        if new_word != '':\n",
        "            new_words.append(new_word)\n",
        "    return new_words\n",
        "\n",
        "def replace_numbers(words):\n",
        "    p = inflect.engine()\n",
        "    new_words = []\n",
        "    for word in words:\n",
        "        if word.isdigit():\n",
        "            new_word = p.number_to_words(word)\n",
        "            new_words.append(new_word)\n",
        "        else:\n",
        "            new_words.append(word)\n",
        "    return new_words\n",
        "\n",
        "def remove_stopwords(words):\n",
        "    new_words = []\n",
        "    for word in words:\n",
        "        if word not in stopwords.words('english'):\n",
        "            new_words.append(word)\n",
        "    return new_words\n",
        "\n",
        "def normalize(words):\n",
        "    words = remove_non_ascii(words)\n",
        "    words = remove_punctuation(words)\n",
        "    words = replace_numbers(words)\n",
        "    words = remove_stopwords(words)\n",
        "    return words\n",
        "\n",
        "def process_tweet(tweet):\n",
        "  p_tweet = tweet\n",
        "  p_tweet = remove_url(p_tweet)\n",
        "  p_tweet = remove_contractions(p_tweet)\n",
        "  retweet = get_retweet(p_tweet)\n",
        "  if (retweet):\n",
        "    p_tweet = p_tweet.replace('RT @' + retweet[0] + ': ', '')\n",
        "  p_tweet = p_tweet.lower()\n",
        "  mentions = get_mentions(p_tweet)\n",
        "  if (mentions):\n",
        "    for i in range(len(mentions)):\n",
        "      p_tweet = p_tweet.replace(' @' + mentions[i], '')\n",
        "  hashtags = get_hashtags(p_tweet)\n",
        "  if (hashtags):\n",
        "    for i in range(len(hashtags)):\n",
        "      p_tweet = p_tweet.replace(' #' + hashtags[i], '')\n",
        "  \n",
        "  words = nltk.word_tokenize(p_tweet)\n",
        "  #print('\\nwords:', words)\n",
        "\n",
        "  words = normalize(words)\n",
        "  return words\n",
        "\n",
        "def process_tweet_light(tweet):\n",
        "  p_tweet = tweet\n",
        "  p_tweet = remove_url(p_tweet)\n",
        "  retweet = get_retweet(p_tweet)\n",
        "  if (retweet):\n",
        "    p_tweet = p_tweet.replace('RT @' + retweet[0] + ': ', '')\n",
        "  p_tweet = p_tweet.lower()\n",
        "  mentions = get_mentions(p_tweet)\n",
        "  if (mentions):\n",
        "    for i in range(len(mentions)):\n",
        "      p_tweet = p_tweet.replace(' @' + mentions[i], '')\n",
        "  hashtags = get_hashtags(p_tweet)\n",
        "  if (hashtags):\n",
        "    for i in range(len(hashtags)):\n",
        "      p_tweet = p_tweet.replace(' #' + hashtags[i], '')\n",
        "\n",
        "  # words = nltk.word_tokenize(p_tweet)\n",
        "  # words = remove_non_ascii(words)\n",
        "  return p_tweet\n",
        "\n",
        "print(' Original Tweet:\\n', text, '\\n\\n', 'Processed Tweet:\\n', process_tweet(text), '\\n', 'Processed Tweet (light):\\n', process_tweet_light(text))\n",
        "print('\\nMedia Link:', get_media_url(text), '\\nRetweet:', get_retweet(text), '\\nMentions:', get_mentions(text), '\\nHashtags:', get_hashtags(text))"
      ]
    },
    {
      "cell_type": "code",
      "execution_count": null,
      "metadata": {
        "id": "SCo_Fzew-6jh"
      },
      "outputs": [],
      "source": [
        "all_mentions = []\n",
        "all_hashtags = []\n",
        "all_unigrams = []\n",
        "all_bigrams = []\n",
        "updated_df.drop(['hashtags', 'source', 'user_created', 'user_friends', 'user_favourites', 'is_retweet'], axis=1, inplace=True)\n",
        "updated_df_light = updated_df\n",
        "for index, row in df['text'].iteritems():\n",
        "  all_mentions += get_mentions(row.lower())\n",
        "  all_hashtags += get_hashtags(row.lower())\n",
        "  processed = process_tweet(row)\n",
        "  all_unigrams += processed\n",
        "  all_bigrams += list(ngrams(processed, 2))\n",
        "  updated_df.at[index, 'text'] = processed\n",
        "  updated_df_light.at[index, 'text'] = process_tweet_light(row)\n"
      ]
    },
    {
      "cell_type": "code",
      "execution_count": null,
      "metadata": {
        "colab": {
          "base_uri": "https://localhost:8080/",
          "height": 423
        },
        "id": "si29KSOnVExE",
        "outputId": "cd0610a1-3ac4-46ce-86bf-c663ebc36381"
      },
      "outputs": [
        {
          "data": {
            "text/html": [
              "\n",
              "  <div id=\"df-6a2dd452-45b8-480a-90ed-2e27701caaef\">\n",
              "    <div class=\"colab-df-container\">\n",
              "      <div>\n",
              "<style scoped>\n",
              "    .dataframe tbody tr th:only-of-type {\n",
              "        vertical-align: middle;\n",
              "    }\n",
              "\n",
              "    .dataframe tbody tr th {\n",
              "        vertical-align: top;\n",
              "    }\n",
              "\n",
              "    .dataframe thead th {\n",
              "        text-align: right;\n",
              "    }\n",
              "</style>\n",
              "<table border=\"1\" class=\"dataframe\">\n",
              "  <thead>\n",
              "    <tr style=\"text-align: right;\">\n",
              "      <th></th>\n",
              "      <th>text</th>\n",
              "      <th>hate label</th>\n",
              "    </tr>\n",
              "  </thead>\n",
              "  <tbody>\n",
              "    <tr>\n",
              "      <th>0</th>\n",
              "      <td>now should know that and that if they don't ta...</td>\n",
              "      <td>0</td>\n",
              "    </tr>\n",
              "    <tr>\n",
              "      <th>1</th>\n",
              "      <td>tonight we interview and you can tune in from ...</td>\n",
              "      <td>0</td>\n",
              "    </tr>\n",
              "    <tr>\n",
              "      <th>2</th>\n",
              "      <td>some officers advance close to the crowd, atte...</td>\n",
              "      <td>0</td>\n",
              "    </tr>\n",
              "    <tr>\n",
              "      <th>3</th>\n",
              "      <td>he’s not in the wwe hof because of his skin co...</td>\n",
              "      <td>0</td>\n",
              "    </tr>\n",
              "    <tr>\n",
              "      <th>4</th>\n",
              "      <td>@shaunking ...going through it now fighting fo...</td>\n",
              "      <td>0</td>\n",
              "    </tr>\n",
              "    <tr>\n",
              "      <th>...</th>\n",
              "      <td>...</td>\n",
              "      <td>...</td>\n",
              "    </tr>\n",
              "    <tr>\n",
              "      <th>9160</th>\n",
              "      <td>watch “segregated by design” by on  -- watch t...</td>\n",
              "      <td>1</td>\n",
              "    </tr>\n",
              "    <tr>\n",
              "      <th>9161</th>\n",
              "      <td>#dawnbutler to be fair, she’s always known tha...</td>\n",
              "      <td>1</td>\n",
              "    </tr>\n",
              "    <tr>\n",
              "      <th>9162</th>\n",
              "      <td>#hislifemattered have any of you heard offer c...</td>\n",
              "      <td>1</td>\n",
              "    </tr>\n",
              "    <tr>\n",
              "      <th>9163</th>\n",
              "      <td>like this whole niranga situation makes me ret...</td>\n",
              "      <td>1</td>\n",
              "    </tr>\n",
              "    <tr>\n",
              "      <th>9164</th>\n",
              "      <td>these people suck. violent thugs good at bitch...</td>\n",
              "      <td>1</td>\n",
              "    </tr>\n",
              "  </tbody>\n",
              "</table>\n",
              "<p>9165 rows × 2 columns</p>\n",
              "</div>\n",
              "      <button class=\"colab-df-convert\" onclick=\"convertToInteractive('df-6a2dd452-45b8-480a-90ed-2e27701caaef')\"\n",
              "              title=\"Convert this dataframe to an interactive table.\"\n",
              "              style=\"display:none;\">\n",
              "        \n",
              "  <svg xmlns=\"http://www.w3.org/2000/svg\" height=\"24px\"viewBox=\"0 0 24 24\"\n",
              "       width=\"24px\">\n",
              "    <path d=\"M0 0h24v24H0V0z\" fill=\"none\"/>\n",
              "    <path d=\"M18.56 5.44l.94 2.06.94-2.06 2.06-.94-2.06-.94-.94-2.06-.94 2.06-2.06.94zm-11 1L8.5 8.5l.94-2.06 2.06-.94-2.06-.94L8.5 2.5l-.94 2.06-2.06.94zm10 10l.94 2.06.94-2.06 2.06-.94-2.06-.94-.94-2.06-.94 2.06-2.06.94z\"/><path d=\"M17.41 7.96l-1.37-1.37c-.4-.4-.92-.59-1.43-.59-.52 0-1.04.2-1.43.59L10.3 9.45l-7.72 7.72c-.78.78-.78 2.05 0 2.83L4 21.41c.39.39.9.59 1.41.59.51 0 1.02-.2 1.41-.59l7.78-7.78 2.81-2.81c.8-.78.8-2.07 0-2.86zM5.41 20L4 18.59l7.72-7.72 1.47 1.35L5.41 20z\"/>\n",
              "  </svg>\n",
              "      </button>\n",
              "      \n",
              "  <style>\n",
              "    .colab-df-container {\n",
              "      display:flex;\n",
              "      flex-wrap:wrap;\n",
              "      gap: 12px;\n",
              "    }\n",
              "\n",
              "    .colab-df-convert {\n",
              "      background-color: #E8F0FE;\n",
              "      border: none;\n",
              "      border-radius: 50%;\n",
              "      cursor: pointer;\n",
              "      display: none;\n",
              "      fill: #1967D2;\n",
              "      height: 32px;\n",
              "      padding: 0 0 0 0;\n",
              "      width: 32px;\n",
              "    }\n",
              "\n",
              "    .colab-df-convert:hover {\n",
              "      background-color: #E2EBFA;\n",
              "      box-shadow: 0px 1px 2px rgba(60, 64, 67, 0.3), 0px 1px 3px 1px rgba(60, 64, 67, 0.15);\n",
              "      fill: #174EA6;\n",
              "    }\n",
              "\n",
              "    [theme=dark] .colab-df-convert {\n",
              "      background-color: #3B4455;\n",
              "      fill: #D2E3FC;\n",
              "    }\n",
              "\n",
              "    [theme=dark] .colab-df-convert:hover {\n",
              "      background-color: #434B5C;\n",
              "      box-shadow: 0px 1px 3px 1px rgba(0, 0, 0, 0.15);\n",
              "      filter: drop-shadow(0px 1px 2px rgba(0, 0, 0, 0.3));\n",
              "      fill: #FFFFFF;\n",
              "    }\n",
              "  </style>\n",
              "\n",
              "      <script>\n",
              "        const buttonEl =\n",
              "          document.querySelector('#df-6a2dd452-45b8-480a-90ed-2e27701caaef button.colab-df-convert');\n",
              "        buttonEl.style.display =\n",
              "          google.colab.kernel.accessAllowed ? 'block' : 'none';\n",
              "\n",
              "        async function convertToInteractive(key) {\n",
              "          const element = document.querySelector('#df-6a2dd452-45b8-480a-90ed-2e27701caaef');\n",
              "          const dataTable =\n",
              "            await google.colab.kernel.invokeFunction('convertToInteractive',\n",
              "                                                     [key], {});\n",
              "          if (!dataTable) return;\n",
              "\n",
              "          const docLinkHtml = 'Like what you see? Visit the ' +\n",
              "            '<a target=\"_blank\" href=https://colab.research.google.com/notebooks/data_table.ipynb>data table notebook</a>'\n",
              "            + ' to learn more about interactive tables.';\n",
              "          element.innerHTML = '';\n",
              "          dataTable['output_type'] = 'display_data';\n",
              "          await google.colab.output.renderOutput(dataTable, element);\n",
              "          const docLink = document.createElement('div');\n",
              "          docLink.innerHTML = docLinkHtml;\n",
              "          element.appendChild(docLink);\n",
              "        }\n",
              "      </script>\n",
              "    </div>\n",
              "  </div>\n",
              "  "
            ],
            "text/plain": [
              "                                                   text  hate label\n",
              "0     now should know that and that if they don't ta...           0\n",
              "1     tonight we interview and you can tune in from ...           0\n",
              "2     some officers advance close to the crowd, atte...           0\n",
              "3     he’s not in the wwe hof because of his skin co...           0\n",
              "4     @shaunking ...going through it now fighting fo...           0\n",
              "...                                                 ...         ...\n",
              "9160  watch “segregated by design” by on  -- watch t...           1\n",
              "9161  #dawnbutler to be fair, she’s always known tha...           1\n",
              "9162  #hislifemattered have any of you heard offer c...           1\n",
              "9163  like this whole niranga situation makes me ret...           1\n",
              "9164  these people suck. violent thugs good at bitch...           1\n",
              "\n",
              "[9165 rows x 2 columns]"
            ]
          },
          "metadata": {},
          "output_type": "display_data"
        }
      ],
      "source": [
        "display(updated_df)"
      ]
    },
    {
      "cell_type": "code",
      "execution_count": null,
      "metadata": {
        "colab": {
          "base_uri": "https://localhost:8080/"
        },
        "id": "1DSW9n4gg0YB",
        "outputId": "024145f4-d074-4fa1-9fc1-eabd10182c58"
      },
      "outputs": [
        {
          "name": "stdout",
          "output_type": "stream",
          "text": [
            "Drive already mounted at drive; to attempt to forcibly remount, call drive.mount(\"drive\", force_remount=True).\n"
          ]
        }
      ],
      "source": [
        "from google.colab import drive\n",
        "drive.mount('drive')\n",
        "\n",
        "df.to_csv('/content/drive/My Drive/IW_COLAB/df.csv', encoding='utf-8', index=False)\n",
        "updated_df.to_csv('/content/drive/My Drive/IW_COLAB/updated_df.csv', encoding='utf-8', index=False)\n",
        "updated_df_light.to_csv('/content/drive/My Drive/IW_COLAB/updated_df_light.csv', encoding='utf-8', index=False)"
      ]
    },
    {
      "cell_type": "markdown",
      "metadata": {
        "id": "xSQPyV2SVE1a"
      },
      "source": [
        "# Stats"
      ]
    },
    {
      "cell_type": "code",
      "execution_count": null,
      "metadata": {
        "colab": {
          "base_uri": "https://localhost:8080/"
        },
        "id": "rdLPZ_v6n0E_",
        "outputId": "4a38b273-02b8-4d8f-fe76-ff3389051b73"
      },
      "outputs": [
        {
          "name": "stdout",
          "output_type": "stream",
          "text": [
            "Hashtags:\n",
            "\n",
            " blacklivesmatter    0.228274\n",
            "blm                 0.141146\n",
            "antifa              0.014360\n",
            "portland            0.009970\n",
            "portlandprotests    0.009301\n",
            "                      ...   \n",
            "heaux               0.000074\n",
            "stra                0.000074\n",
            "anklagejetzt        0.000074\n",
            "justiceformbobda    0.000074\n",
            "lord                0.000074\n",
            "Length: 3274, dtype: float64 (normalized)\n",
            "\n",
            "Mentions:\n",
            "\n",
            " realdonaldtrump    0.016663\n",
            "dawnbutlerbrent    0.012922\n",
            "mrandyngo          0.006574\n",
            "joebiden           0.006348\n",
            "youtube            0.005214\n",
            "                     ...   \n",
            "heartafire777      0.000113\n",
            "ayecesar_          0.000113\n",
            "epochtimes         0.000113\n",
            "news_ntd           0.000113\n",
            "kepler186f_in      0.000113\n",
            "Length: 5693, dtype: float64 (normalized)\n",
            "\n",
            "Unigrams:\n",
            "\n",
            " black               0.013832\n",
            "blacklivesmatter    0.010665\n",
            "people              0.009582\n",
            "amp                 0.007669\n",
            "police              0.007220\n",
            "                      ...   \n",
            "maryland            0.000013\n",
            "renta               0.000013\n",
            "westminster         0.000013\n",
            "youstand            0.000013\n",
            "bitching            0.000013\n",
            "Length: 14761, dtype: float64 (normalized)\n",
            "\n",
            "Bigrams:\n",
            "\n",
            " (black, lives)               0.003948\n",
            "(lives, matter)              0.003798\n",
            "(black, people)              0.001741\n",
            "(let, us)                    0.001171\n",
            "(ding, ding)                 0.001051\n",
            "                               ...   \n",
            "(another, clash)             0.000015\n",
            "(clash, protesters)          0.000015\n",
            "(protesters, militarised)    0.000015\n",
            "(militarised, federal)       0.000015\n",
            "(marxists, suck)             0.000015\n",
            "Length: 50506, dtype: float64 (normalized)\n",
            "\n"
          ]
        }
      ],
      "source": [
        "df_hashtag = pd.Series(all_hashtags)\n",
        "df_mentions = pd.Series(all_mentions)\n",
        "df_unigrams = pd.Series(all_unigrams)\n",
        "df_bigrams = pd.Series(all_bigrams)\n",
        "print('Hashtags:\\n\\n', df_hashtag.value_counts(normalize=True), '(normalized)\\n')\n",
        "print('Mentions:\\n\\n', df_mentions.value_counts(normalize=True), '(normalized)\\n')\n",
        "print('Unigrams:\\n\\n', df_unigrams.value_counts(normalize=True), '(normalized)\\n')\n",
        "print('Bigrams:\\n\\n', df_bigrams.value_counts(normalize=True), '(normalized)\\n')"
      ]
    },
    {
      "cell_type": "code",
      "execution_count": null,
      "metadata": {
        "colab": {
          "base_uri": "https://localhost:8080/",
          "height": 336
        },
        "id": "B6E5RFDt4aQH",
        "outputId": "382e1f63-2a16-44ea-ec62-d8ddad6d9ae4"
      },
      "outputs": [
        {
          "data": {
            "image/png": "[encoded data removed]",
            "text/plain": [
              "<Figure size 720x360 with 1 Axes>"
            ]
          },
          "metadata": {},
          "output_type": "display_data"
        }
      ],
      "source": [
        "import matplotlib.pyplot as plt\n",
        " \n",
        "data = {'black, lives':0.39, 'lives, matter':0.3798, 'black, people':0.1741,\n",
        "        'let, us':0.1171}\n",
        "courses = list(data.keys())\n",
        "values = list(data.values())\n",
        "fig = plt.figure(figsize = (10, 5))\n",
        "plt.bar(courses, values, color ='maroon',\n",
        "        width = 0.2)\n",
        " \n",
        "plt.xlabel(\"\")\n",
        "plt.ylabel(\"%\")\n",
        "plt.title(\"Bigrams Frequency\")\n",
        "plt.show()"
      ]
    },
    {
      "cell_type": "code",
      "execution_count": null,
      "metadata": {
        "colab": {
          "base_uri": "https://localhost:8080/",
          "height": 336
        },
        "id": "s_SNgs8Q5vsm",
        "outputId": "b496b140-b330-4ac8-e42d-50a8145695f2"
      },
      "outputs": [
        {
          "data": {
            "image/png": "[encoded data removed]",
            "text/plain": [
              "<Figure size 720x360 with 1 Axes>"
            ]
          },
          "metadata": {},
          "output_type": "display_data"
        }
      ],
      "source": [
        "data = {'black':               1.3832,\n",
        "'blacklivesmatter':    1.0665,\n",
        "'people':              0.9582,\n",
        "'amp':                 0.7669,\n",
        "'police':              0.7220}\n",
        "courses = list(data.keys())\n",
        "values = list(data.values())\n",
        "fig = plt.figure(figsize = (10, 5))\n",
        "plt.bar(courses, values, color ='maroon',\n",
        "        width = 0.2)\n",
        " \n",
        "plt.xlabel(\"\")\n",
        "plt.ylabel(\"%\")\n",
        "plt.title(\"Unigrams Frequency\")\n",
        "plt.show()"
      ]
    },
    {
      "cell_type": "code",
      "execution_count": null,
      "metadata": {
        "colab": {
          "base_uri": "https://localhost:8080/",
          "height": 336
        },
        "id": "gHOJoIay6R9e",
        "outputId": "e689e743-df14-4988-8abb-88d4532492ef"
      },
      "outputs": [
        {
          "data": {
            "image/png": "[encoded data removed]",
            "text/plain": [
              "<Figure size 720x360 with 1 Axes>"
            ]
          },
          "metadata": {},
          "output_type": "display_data"
        }
      ],
      "source": [
        "data = {'realdonaldtrump':    0.016663*100,\n",
        "'dawnbutlerbrent':    0.012922*100,\n",
        "'mrandyngo':          0.006574*100,\n",
        "'joebiden':           0.006348*100,\n",
        "'youtube':            0.005214*100}\n",
        "courses = list(data.keys())\n",
        "values = list(data.values())\n",
        "fig = plt.figure(figsize = (10, 5))\n",
        "plt.bar(courses, values, color ='green',\n",
        "        width = 0.2)\n",
        " \n",
        "plt.xlabel(\"\")\n",
        "plt.ylabel(\"%\")\n",
        "plt.title(\"Mentions Frequency\")\n",
        "plt.show()"
      ]
    },
    {
      "cell_type": "code",
      "execution_count": null,
      "metadata": {
        "colab": {
          "base_uri": "https://localhost:8080/",
          "height": 336
        },
        "id": "mzZPe-MN6pr7",
        "outputId": "f1b3bc16-99b3-476e-ad73-feb8bbbba661"
      },
      "outputs": [
        {
          "data": {
            "image/png": "[encoded data removed]",
            "text/plain": [
              "<Figure size 720x360 with 1 Axes>"
            ]
          },
          "metadata": {},
          "output_type": "display_data"
        }
      ],
      "source": [
        "data = {'blacklivesmatter':    0.228274*100,\n",
        "'blm':                 0.141146*100,\n",
        "'antifa':             0.014360*100,\n",
        "'portland':            0.009970*100,\n",
        "'portlandprotests':    0.009301*100}\n",
        "courses = list(data.keys())\n",
        "values = list(data.values())\n",
        "fig = plt.figure(figsize = (10, 5))\n",
        "plt.bar(courses, values, color ='blue',\n",
        "        width = 0.2)\n",
        " \n",
        "plt.xlabel(\"\")\n",
        "plt.ylabel(\"%\")\n",
        "plt.title(\"Hashtags Frequency\")\n",
        "plt.show()"
      ]
    },
    {
      "cell_type": "code",
      "execution_count": null,
      "metadata": {
        "colab": {
          "base_uri": "https://localhost:8080/",
          "height": 319
        },
        "id": "0m986s-F7Crn",
        "outputId": "07762dae-decd-4069-9078-2330f01e66c6"
      },
      "outputs": [
        {
          "data": {
            "text/plain": [
              "([<matplotlib.patches.Wedge at 0x7f1c851a4640>,\n",
              "  <matplotlib.patches.Wedge at 0x7f1c8526b760>],\n",
              " [Text(-0.5409884283210689, 0.9577742533722129, 'non-hate'),\n",
              "  Text(0.5409885179943636, -0.9577742027212166, 'hate')])"
            ]
          },
          "execution_count": 10,
          "metadata": {},
          "output_type": "execute_result"
        },
        {
          "data": {
            "image/png": "[encoded data removed]",
            "text/plain": [
              "<Figure size 432x288 with 1 Axes>"
            ]
          },
          "metadata": {},
          "output_type": "display_data"
        }
      ],
      "source": [
        "labels = 'non-hate','hate'\n",
        "sizes = [0.663, 0.336]\n",
        "\n",
        "fig, ax = plt.subplots()\n",
        "ax.pie(sizes, labels=labels)"
      ]
    },
    {
      "cell_type": "markdown",
      "metadata": {
        "id": "IetvuWed2P3r"
      },
      "source": [
        "# BERT Model\n",
        "\n",
        "\n",
        "1.   Convert to BERT Tokenized Embeddings\n",
        "2.   Dataset class with 80:10:10 train/test/val split\n",
        "3.   BertClassifier for Non-hate/Hate classification\n",
        "4.   Training loop with Adam optimizer, cross-entropy loss\n",
        "5.   Evaluate model on test data\n",
        "\n",
        "\n"
      ]
    },
    {
      "cell_type": "code",
      "execution_count": 1,
      "metadata": {
        "id": "9Mp2soeZimez"
      },
      "outputs": [],
      "source": [
        "# from google.colab import drive\n",
        "# drive.mount('drive')\n",
        "\n",
        "import pandas as pd\n",
        "df=pd.read_csv('/content/drive/My Drive/IW_COLAB/df.csv')\n",
        "updated_df=pd.read_csv('/content/drive/My Drive/IW_COLAB/updated_df.csv')\n",
        "updated_df_light=pd.read_csv('/content/drive/My Drive/IW_COLAB/updated_df_light.csv')"
      ]
    },
    {
      "cell_type": "code",
      "execution_count": 2,
      "metadata": {
        "colab": {
          "base_uri": "https://localhost:8080/"
        },
        "id": "Tjq290vSTNXR",
        "outputId": "dd35d3c7-5f60-43fd-b0e4-7d59920ebb80"
      },
      "outputs": [
        {
          "output_type": "stream",
          "name": "stdout",
          "text": [
            "Looking in indexes: https://pypi.org/simple, https://us-python.pkg.dev/colab-wheels/public/simple/\n",
            "Collecting transformers\n",
            "  Downloading transformers-4.27.1-py3-none-any.whl (6.7 MB)\n",
            "\u001b[2K     \u001b[90m━━━━━━━━━━━━━━━━━━━━━━━━━━━━━━━━━━━━━━━━\u001b[0m \u001b[32m6.7/6.7 MB\u001b[0m \u001b[31m35.9 MB/s\u001b[0m eta \u001b[36m0:00:00\u001b[0m\n",
            "\u001b[?25hRequirement already satisfied: pyyaml>=5.1 in /usr/local/lib/python3.9/dist-packages (from transformers) (6.0)\n",
            "Requirement already satisfied: filelock in /usr/local/lib/python3.9/dist-packages (from transformers) (3.9.0)\n",
            "Requirement already satisfied: packaging>=20.0 in /usr/local/lib/python3.9/dist-packages (from transformers) (23.0)\n",
            "Requirement already satisfied: requests in /usr/local/lib/python3.9/dist-packages (from transformers) (2.25.1)\n",
            "Requirement already satisfied: regex!=2019.12.17 in /usr/local/lib/python3.9/dist-packages (from transformers) (2022.6.2)\n",
            "Collecting huggingface-hub<1.0,>=0.11.0\n",
            "  Downloading huggingface_hub-0.13.2-py3-none-any.whl (199 kB)\n",
            "\u001b[2K     \u001b[90m━━━━━━━━━━━━━━━━━━━━━━━━━━━━━━━━━━━━━━\u001b[0m \u001b[32m199.2/199.2 KB\u001b[0m \u001b[31m21.6 MB/s\u001b[0m eta \u001b[36m0:00:00\u001b[0m\n",
            "\u001b[?25hRequirement already satisfied: tqdm>=4.27 in /usr/local/lib/python3.9/dist-packages (from transformers) (4.65.0)\n",
            "Collecting tokenizers!=0.11.3,<0.14,>=0.11.1\n",
            "  Downloading tokenizers-0.13.2-cp39-cp39-manylinux_2_17_x86_64.manylinux2014_x86_64.whl (7.6 MB)\n",
            "\u001b[2K     \u001b[90m━━━━━━━━━━━━━━━━━━━━━━━━━━━━━━━━━━━━━━━━\u001b[0m \u001b[32m7.6/7.6 MB\u001b[0m \u001b[31m36.4 MB/s\u001b[0m eta \u001b[36m0:00:00\u001b[0m\n",
            "\u001b[?25hRequirement already satisfied: numpy>=1.17 in /usr/local/lib/python3.9/dist-packages (from transformers) (1.22.4)\n",
            "Requirement already satisfied: typing-extensions>=3.7.4.3 in /usr/local/lib/python3.9/dist-packages (from huggingface-hub<1.0,>=0.11.0->transformers) (4.5.0)\n",
            "Requirement already satisfied: idna<3,>=2.5 in /usr/local/lib/python3.9/dist-packages (from requests->transformers) (2.10)\n",
            "Requirement already satisfied: urllib3<1.27,>=1.21.1 in /usr/local/lib/python3.9/dist-packages (from requests->transformers) (1.26.15)\n",
            "Requirement already satisfied: certifi>=2017.4.17 in /usr/local/lib/python3.9/dist-packages (from requests->transformers) (2022.12.7)\n",
            "Requirement already satisfied: chardet<5,>=3.0.2 in /usr/local/lib/python3.9/dist-packages (from requests->transformers) (4.0.0)\n",
            "Installing collected packages: tokenizers, huggingface-hub, transformers\n",
            "Successfully installed huggingface-hub-0.13.2 tokenizers-0.13.2 transformers-4.27.1\n"
          ]
        }
      ],
      "source": [
        "pip install transformers"
      ]
    },
    {
      "cell_type": "code",
      "execution_count": 3,
      "metadata": {
        "id": "qOtnJ0fi2ZjN"
      },
      "outputs": [],
      "source": [
        "df_bert = updated_df\n",
        "df_bert_raw = df #raw tweets\n",
        "df_bert_light = updated_df_light #light preprocessing (remove RT, #, @ ONLY)\n",
        "                                \n",
        "from nltk.tokenize.treebank import TreebankWordDetokenizer\n",
        "#detokenize original word tokens for BertTokenizer lol\n",
        "df_bert['hate label'] = df_bert['hate label'].astype(str)\n",
        "for index, row in df['text'].iteritems():\n",
        "  df_bert.at[index, 'text'] = TreebankWordDetokenizer().detokenize(row)\n",
        "  if df_bert.at[index, 'hate label'] == 0:\n",
        "    df_bert.at[index, 'hate label'] = 'non-hate'\n",
        "  else: \n",
        "    df_bert.at[index, 'hate label'] = 'hate'\n"
      ]
    },
    {
      "cell_type": "code",
      "execution_count": 4,
      "metadata": {
        "colab": {
          "base_uri": "https://localhost:8080/",
          "height": 197,
          "referenced_widgets": [
            "b165062eb4f14dc7adef97ff2b03c8d3",
            "c269dcf50a944785872f0c239cdc644c",
            "becef551f2434130ba929942b6c8e721",
            "7a1b0af25fe242eb9042a55d2b819fb7",
            "dd5dad288abf4802a7b7c084b7c98eca",
            "2b21e960cd284687a93a3b9adb142f0f",
            "3ca29f5e78e647b096fd95f2ad013d97",
            "b5f4a3b02da44c89989502de5984b8b4",
            "6c1e35c8307c40c6a53a04400b6f29e8",
            "73c1d5e2685a43ebb4625d2b5a12369c",
            "3384d49efe9744c3974d452851c29e19",
            "4386c3800264426e8854c8fbeeb82998",
            "04b01e7f85c34890956d27818004f0f3",
            "5157a2bf49074b29b108875a4bb64ec9",
            "add0755cdfd748e5b8b09c71a519700e",
            "4bb18d2fbbfc46dfba23bd9a78558a4c",
            "395f00881bf748e0bb8f78d0972f996c",
            "90af32c7f5204dc2a972a12b3a9d6413",
            "9355eb0b58f64623bbdb35ed78069601",
            "0c03a8d2b7f54f25ba732261a83d23c2",
            "939c505a32ad41429a4a10fb0a2af745",
            "fc25bfc4cbbf4e35b9030b6796534373",
            "31005aa655ff429f87f1744d582e9c22",
            "51a185e7d2e147ad8e67d44a0b21fed6",
            "ad509b094a1749eea24eda9642483902",
            "89003d8ef4ab4519905f6860ea556085",
            "aa88c0fd446141a7acaf5d128ab347c7",
            "bcf74d4fd3324e139b611af88136719d",
            "ad90e49459dc49fd925db1efd574ed3e",
            "d7770585af2f41eab39f96c3425839fc",
            "0ee28e95096d48b3979595b92ffaa7e5",
            "00b546d1cab1437789fc9dd8cfc915e7",
            "55f55ce6fdd84bf3a6bc04cae9be13fd"
          ]
        },
        "id": "3uIsA9GWbiOJ",
        "outputId": "d03a38f6-a68e-4550-e0da-29251d7f067a"
      },
      "outputs": [
        {
          "output_type": "display_data",
          "data": {
            "text/plain": [
              "Downloading (…)solve/main/vocab.txt:   0%|          | 0.00/213k [00:00<?, ?B/s]"
            ],
            "application/vnd.jupyter.widget-view+json": {
              "version_major": 2,
              "version_minor": 0,
              "model_id": "b165062eb4f14dc7adef97ff2b03c8d3"
            }
          },
          "metadata": {}
        },
        {
          "output_type": "display_data",
          "data": {
            "text/plain": [
              "Downloading (…)okenizer_config.json:   0%|          | 0.00/29.0 [00:00<?, ?B/s]"
            ],
            "application/vnd.jupyter.widget-view+json": {
              "version_major": 2,
              "version_minor": 0,
              "model_id": "4386c3800264426e8854c8fbeeb82998"
            }
          },
          "metadata": {}
        },
        {
          "output_type": "display_data",
          "data": {
            "text/plain": [
              "Downloading (…)lve/main/config.json:   0%|          | 0.00/570 [00:00<?, ?B/s]"
            ],
            "application/vnd.jupyter.widget-view+json": {
              "version_major": 2,
              "version_minor": 0,
              "model_id": "31005aa655ff429f87f1744d582e9c22"
            }
          },
          "metadata": {}
        }
      ],
      "source": [
        "import torch\n",
        "import numpy as np\n",
        "from transformers import BertTokenizer\n",
        "\n",
        "tokenizer = BertTokenizer.from_pretrained('bert-base-cased')\n",
        "labels = {'non-hate':0, 'hate':1}\n",
        "\n",
        "class Dataset(torch.utils.data.Dataset):\n",
        "\n",
        "    def __init__(self, df_bert):\n",
        "\n",
        "        self.labels = [labels[label] for label in df_bert['hate label']]\n",
        "        #self.labels = [df_bert['hate label']]\n",
        "        self.texts = [tokenizer(text, \n",
        "                               padding='max_length', max_length = 512, truncation=True,\n",
        "                                return_tensors=\"pt\") for text in df_bert['text']]\n",
        "\n",
        "    def classes(self):\n",
        "        return self.labels\n",
        "\n",
        "    def __len__(self):\n",
        "        return len(self.labels)\n",
        "\n",
        "    def get_batch_labels(self, idx):\n",
        "        # Fetch a batch of labels\n",
        "        return np.array(self.labels[idx])\n",
        "\n",
        "    def get_batch_texts(self, idx):\n",
        "        # Fetch a batch of inputs\n",
        "        return self.texts[idx]\n",
        "\n",
        "    def __getitem__(self, idx):\n",
        "\n",
        "        batch_texts = self.get_batch_texts(idx)\n",
        "        batch_y = self.get_batch_labels(idx)\n",
        "\n",
        "        return batch_texts, batch_y\n"
      ]
    },
    {
      "cell_type": "code",
      "execution_count": 5,
      "metadata": {
        "colab": {
          "base_uri": "https://localhost:8080/"
        },
        "id": "blbDFFwAc0qz",
        "outputId": "4e0d210d-3a02-4ecf-c68c-c6cba49fd66c"
      },
      "outputs": [
        {
          "output_type": "stream",
          "name": "stdout",
          "text": [
            "7332 916 917\n"
          ]
        }
      ],
      "source": [
        "# training/validation/test set => 80:10:10\n",
        "np.random.seed(112)\n",
        "df_train, df_val, df_test = np.split(df_bert.sample(frac=1, random_state=42), \n",
        "                                     [int(.8*len(df_bert)), int(.9*len(df_bert))])\n",
        "\n",
        "print(len(df_train),len(df_val), len(df_test))"
      ]
    },
    {
      "cell_type": "code",
      "execution_count": 6,
      "metadata": {
        "id": "FTwQ0sDpdXRT"
      },
      "outputs": [],
      "source": [
        "from torch import nn\n",
        "from transformers import BertModel\n",
        "\n",
        "class BertClassifier(nn.Module):\n",
        "\n",
        "    def __init__(self, dropout=0.5):\n",
        "\n",
        "        super(BertClassifier, self).__init__()\n",
        "\n",
        "        self.bert = BertModel.from_pretrained('bert-base-cased')\n",
        "        self.dropout = nn.Dropout(dropout)\n",
        "        self.linear = nn.Linear(768, 2)\n",
        "        self.relu = nn.ReLU()\n",
        "\n",
        "    def forward(self, input_id, mask):\n",
        "\n",
        "        _, pooled_output = self.bert(input_ids= input_id, attention_mask=mask,return_dict=False)\n",
        "        dropout_output = self.dropout(pooled_output)\n",
        "        linear_output = self.linear(dropout_output)\n",
        "        final_layer = self.relu(linear_output)\n",
        "\n",
        "        return final_layer"
      ]
    },
    {
      "cell_type": "code",
      "execution_count": 8,
      "metadata": {
        "colab": {
          "base_uri": "https://localhost:8080/"
        },
        "id": "HIjFBiClwxah",
        "outputId": "b83bc740-58e7-4821-a14c-a02d67874fc8"
      },
      "outputs": [
        {
          "output_type": "stream",
          "name": "stderr",
          "text": [
            "Some weights of the model checkpoint at bert-base-cased were not used when initializing BertModel: ['cls.predictions.transform.LayerNorm.bias', 'cls.predictions.transform.LayerNorm.weight', 'cls.predictions.transform.dense.bias', 'cls.predictions.transform.dense.weight', 'cls.predictions.bias', 'cls.predictions.decoder.weight', 'cls.seq_relationship.bias', 'cls.seq_relationship.weight']\n",
            "- This IS expected if you are initializing BertModel from the checkpoint of a model trained on another task or with another architecture (e.g. initializing a BertForSequenceClassification model from a BertForPreTraining model).\n",
            "- This IS NOT expected if you are initializing BertModel from the checkpoint of a model that you expect to be exactly identical (initializing a BertForSequenceClassification model from a BertForSequenceClassification model).\n"
          ]
        },
        {
          "output_type": "stream",
          "name": "stdout",
          "text": [
            "No saved model checkpoint loaded, starting from scratch...\n"
          ]
        },
        {
          "output_type": "stream",
          "name": "stderr",
          "text": [
            "100%|██████████| 3666/3666 [13:24<00:00,  4.56it/s]\n"
          ]
        },
        {
          "output_type": "stream",
          "name": "stdout",
          "text": [
            "Epochs: 1 | Train Loss:  0.017                 | Train Accuracy:  0.982                 | Val Loss:  0.000                 | Val Accuracy:  1.000\n"
          ]
        },
        {
          "output_type": "stream",
          "name": "stderr",
          "text": [
            "100%|██████████| 3666/3666 [13:23<00:00,  4.56it/s]\n"
          ]
        },
        {
          "output_type": "stream",
          "name": "stdout",
          "text": [
            "Epochs: 2 | Train Loss:  0.000                 | Train Accuracy:  1.000                 | Val Loss:  0.000                 | Val Accuracy:  1.000\n"
          ]
        },
        {
          "output_type": "stream",
          "name": "stderr",
          "text": [
            "100%|██████████| 3666/3666 [13:22<00:00,  4.57it/s]\n"
          ]
        },
        {
          "output_type": "stream",
          "name": "stdout",
          "text": [
            "Epochs: 3 | Train Loss:  0.000                 | Train Accuracy:  1.000                 | Val Loss:  0.000                 | Val Accuracy:  1.000\n"
          ]
        },
        {
          "output_type": "stream",
          "name": "stderr",
          "text": [
            "100%|██████████| 3666/3666 [13:22<00:00,  4.57it/s]\n"
          ]
        },
        {
          "output_type": "stream",
          "name": "stdout",
          "text": [
            "Epochs: 4 | Train Loss:  0.000                 | Train Accuracy:  1.000                 | Val Loss:  0.000                 | Val Accuracy:  1.000\n"
          ]
        },
        {
          "output_type": "stream",
          "name": "stderr",
          "text": [
            "100%|██████████| 3666/3666 [13:21<00:00,  4.57it/s]\n"
          ]
        },
        {
          "output_type": "stream",
          "name": "stdout",
          "text": [
            "Epochs: 5 | Train Loss:  0.000                 | Train Accuracy:  1.000                 | Val Loss:  0.000                 | Val Accuracy:  1.000\n"
          ]
        }
      ],
      "source": [
        "from torch.optim import Adam\n",
        "from tqdm import tqdm\n",
        "\n",
        "#1 - processed tweet 2 - light processed 3 - raw\n",
        "PATH = '/content/drive/My Drive/IW_COLAB/models/BLM_BERT_1.pth'\n",
        "def save(model, optimizer, epoch):\n",
        "    torch.save({\n",
        "            'epoch': epoch,\n",
        "            'model_state_dict': model.state_dict(),\n",
        "            'optimizer_state_dict': optimizer.state_dict(),\n",
        "            }, PATH)\n",
        "\n",
        "def train(model, train_data, val_data, learning_rate, epochs):\n",
        "\n",
        "    train, val = Dataset(train_data), Dataset(val_data)\n",
        "\n",
        "    train_dataloader = torch.utils.data.DataLoader(train, batch_size=2, shuffle=True)\n",
        "    val_dataloader = torch.utils.data.DataLoader(val, batch_size=2)\n",
        "\n",
        "    use_cuda = torch.cuda.is_available()\n",
        "    device = torch.device('cuda' if use_cuda else 'cpu')\n",
        "\n",
        "    criterion = nn.CrossEntropyLoss()\n",
        "    optimizer = Adam(model.parameters(), lr= learning_rate)\n",
        "\n",
        "    try:\n",
        "      checkpoint = torch.load(PATH)\n",
        "      model.load_state_dict(checkpoint['model_state_dict'])\n",
        "      optimizer.load_state_dict(checkpoint['optimizer_state_dict'])\n",
        "      epoch_num = checkpoint['epoch']\n",
        "    except FileNotFoundError:\n",
        "      print(\"No saved model checkpoint loaded, starting from scratch...\")\n",
        "\n",
        "    if use_cuda:\n",
        "\n",
        "            model = model.cuda()\n",
        "            criterion = criterion.cuda()\n",
        "\n",
        "    for epoch_num in range(epochs):\n",
        "\n",
        "            total_acc_train = 0\n",
        "            total_loss_train = 0\n",
        "\n",
        "            for train_input, train_label in tqdm(train_dataloader):\n",
        "\n",
        "                train_label = train_label.to(device)\n",
        "                mask = train_input['attention_mask'].to(device)\n",
        "                input_id = train_input['input_ids'].squeeze(1).to(device)\n",
        "\n",
        "                output = model(input_id, mask)\n",
        "                \n",
        "                batch_loss = criterion(output, train_label.long())\n",
        "                total_loss_train += batch_loss.item()\n",
        "                \n",
        "                acc = (output.argmax(dim=1) == train_label).sum().item()\n",
        "                total_acc_train += acc\n",
        "\n",
        "                model.zero_grad()\n",
        "                batch_loss.backward()\n",
        "                optimizer.step()\n",
        "            \n",
        "            total_acc_val = 0\n",
        "            total_loss_val = 0\n",
        "\n",
        "            with torch.no_grad():\n",
        "\n",
        "                for val_input, val_label in val_dataloader:\n",
        "\n",
        "                    val_label = val_label.to(device)\n",
        "                    mask = val_input['attention_mask'].to(device)\n",
        "                    input_id = val_input['input_ids'].squeeze(1).to(device)\n",
        "\n",
        "                    output = model(input_id, mask)\n",
        "\n",
        "                    batch_loss = criterion(output, val_label.long())\n",
        "                    total_loss_val += batch_loss.item()\n",
        "                    \n",
        "                    acc = (output.argmax(dim=1) == val_label).sum().item()\n",
        "                    total_acc_val += acc\n",
        "            \n",
        "            print(\n",
        "                f'Epochs: {epoch_num + 1} | Train Loss: {total_loss_train / len(train_data): .3f} \\\n",
        "                | Train Accuracy: {total_acc_train / len(train_data): .3f} \\\n",
        "                | Val Loss: {total_loss_val / len(val_data): .3f} \\\n",
        "                | Val Accuracy: {total_acc_val / len(val_data): .3f}')\n",
        "            \n",
        "            save(model, optimizer, epochs)\n",
        "                  \n",
        "EPOCHS = 5\n",
        "model = BertClassifier()\n",
        "LR = 1e-6\n",
        "              \n",
        "train(model, df_train, df_val, LR, EPOCHS)"
      ]
    },
    {
      "cell_type": "code",
      "execution_count": 9,
      "metadata": {
        "id": "oIB3RGDYyhie",
        "colab": {
          "base_uri": "https://localhost:8080/"
        },
        "outputId": "291c94d1-e48c-46a6-845d-161d39e689e3"
      },
      "outputs": [
        {
          "output_type": "stream",
          "name": "stdout",
          "text": [
            "Test Accuracy:  1.000\n"
          ]
        }
      ],
      "source": [
        "def evaluate(model, test_data):\n",
        "\n",
        "    test = Dataset(test_data)\n",
        "\n",
        "    test_dataloader = torch.utils.data.DataLoader(test, batch_size=2)\n",
        "\n",
        "    use_cuda = torch.cuda.is_available()\n",
        "    device = torch.device(\"cuda\" if use_cuda else \"cpu\")\n",
        "\n",
        "    if use_cuda:\n",
        "\n",
        "        model = model.cuda()\n",
        "\n",
        "    total_acc_test = 0\n",
        "    with torch.no_grad():\n",
        "\n",
        "        for test_input, test_label in test_dataloader:\n",
        "\n",
        "              test_label = test_label.to(device)\n",
        "              mask = test_input['attention_mask'].to(device)\n",
        "              input_id = test_input['input_ids'].squeeze(1).to(device)\n",
        "\n",
        "              output = model(input_id, mask)\n",
        "\n",
        "              acc = (output.argmax(dim=1) == test_label).sum().item()\n",
        "              total_acc_test += acc\n",
        "    \n",
        "    print(f'Test Accuracy: {total_acc_test / len(test_data): .3f}')\n",
        "    \n",
        "evaluate(model, df_test)"
      ]
    }
  ],
  "metadata": {
    "colab": {
      "provenance": [],
      "mount_file_id": "1F-y-mTQrQvWDBwWSC7QyNRKMCj8jJY2g",
      "authorship_tag": "ABX9TyN5tsPPg9vPUDLvs5hE4ZwO",
      "include_colab_link": true
    },
    "kernelspec": {
      "display_name": "Python 3",
      "name": "python3"
    },
    "language_info": {
      "name": "python"
    },
    "widgets": {
      "application/vnd.jupyter.widget-state+json": {
        "b165062eb4f14dc7adef97ff2b03c8d3": {
          "model_module": "@jupyter-widgets/controls",
          "model_name": "HBoxModel",
          "model_module_version": "1.5.0",
          "state": {
            "_dom_classes": [],
            "_model_module": "@jupyter-widgets/controls",
            "_model_module_version": "1.5.0",
            "_model_name": "HBoxModel",
            "_view_count": null,
            "_view_module": "@jupyter-widgets/controls",
            "_view_module_version": "1.5.0",
            "_view_name": "HBoxView",
            "box_style": "",
            "children": [
              "IPY_MODEL_c269dcf50a944785872f0c239cdc644c",
              "IPY_MODEL_becef551f2434130ba929942b6c8e721",
              "IPY_MODEL_7a1b0af25fe242eb9042a55d2b819fb7"
            ],
            "layout": "IPY_MODEL_dd5dad288abf4802a7b7c084b7c98eca"
          }
        },
        "c269dcf50a944785872f0c239cdc644c": {
          "model_module": "@jupyter-widgets/controls",
          "model_name": "HTMLModel",
          "model_module_version": "1.5.0",
          "state": {
            "_dom_classes": [],
            "_model_module": "@jupyter-widgets/controls",
            "_model_module_version": "1.5.0",
            "_model_name": "HTMLModel",
            "_view_count": null,
            "_view_module": "@jupyter-widgets/controls",
            "_view_module_version": "1.5.0",
            "_view_name": "HTMLView",
            "description": "",
            "description_tooltip": null,
            "layout": "IPY_MODEL_2b21e960cd284687a93a3b9adb142f0f",
            "placeholder": "​",
            "style": "IPY_MODEL_3ca29f5e78e647b096fd95f2ad013d97",
            "value": "Downloading (…)solve/main/vocab.txt: 100%"
          }
        },
        "becef551f2434130ba929942b6c8e721": {
          "model_module": "@jupyter-widgets/controls",
          "model_name": "FloatProgressModel",
          "model_module_version": "1.5.0",
          "state": {
            "_dom_classes": [],
            "_model_module": "@jupyter-widgets/controls",
            "_model_module_version": "1.5.0",
            "_model_name": "FloatProgressModel",
            "_view_count": null,
            "_view_module": "@jupyter-widgets/controls",
            "_view_module_version": "1.5.0",
            "_view_name": "ProgressView",
            "bar_style": "success",
            "description": "",
            "description_tooltip": null,
            "layout": "IPY_MODEL_b5f4a3b02da44c89989502de5984b8b4",
            "max": 213450,
            "min": 0,
            "orientation": "horizontal",
            "style": "IPY_MODEL_6c1e35c8307c40c6a53a04400b6f29e8",
            "value": 213450
          }
        },
        "7a1b0af25fe242eb9042a55d2b819fb7": {
          "model_module": "@jupyter-widgets/controls",
          "model_name": "HTMLModel",
          "model_module_version": "1.5.0",
          "state": {
            "_dom_classes": [],
            "_model_module": "@jupyter-widgets/controls",
            "_model_module_version": "1.5.0",
            "_model_name": "HTMLModel",
            "_view_count": null,
            "_view_module": "@jupyter-widgets/controls",
            "_view_module_version": "1.5.0",
            "_view_name": "HTMLView",
            "description": "",
            "description_tooltip": null,
            "layout": "IPY_MODEL_73c1d5e2685a43ebb4625d2b5a12369c",
            "placeholder": "​",
            "style": "IPY_MODEL_3384d49efe9744c3974d452851c29e19",
            "value": " 213k/213k [00:00&lt;00:00, 1.15MB/s]"
          }
        },
        "dd5dad288abf4802a7b7c084b7c98eca": {
          "model_module": "@jupyter-widgets/base",
          "model_name": "LayoutModel",
          "model_module_version": "1.2.0",
          "state": {
            "_model_module": "@jupyter-widgets/base",
            "_model_module_version": "1.2.0",
            "_model_name": "LayoutModel",
            "_view_count": null,
            "_view_module": "@jupyter-widgets/base",
            "_view_module_version": "1.2.0",
            "_view_name": "LayoutView",
            "align_content": null,
            "align_items": null,
            "align_self": null,
            "border": null,
            "bottom": null,
            "display": null,
            "flex": null,
            "flex_flow": null,
            "grid_area": null,
            "grid_auto_columns": null,
            "grid_auto_flow": null,
            "grid_auto_rows": null,
            "grid_column": null,
            "grid_gap": null,
            "grid_row": null,
            "grid_template_areas": null,
            "grid_template_columns": null,
            "grid_template_rows": null,
            "height": null,
            "justify_content": null,
            "justify_items": null,
            "left": null,
            "margin": null,
            "max_height": null,
            "max_width": null,
            "min_height": null,
            "min_width": null,
            "object_fit": null,
            "object_position": null,
            "order": null,
            "overflow": null,
            "overflow_x": null,
            "overflow_y": null,
            "padding": null,
            "right": null,
            "top": null,
            "visibility": null,
            "width": null
          }
        },
        "2b21e960cd284687a93a3b9adb142f0f": {
          "model_module": "@jupyter-widgets/base",
          "model_name": "LayoutModel",
          "model_module_version": "1.2.0",
          "state": {
            "_model_module": "@jupyter-widgets/base",
            "_model_module_version": "1.2.0",
            "_model_name": "LayoutModel",
            "_view_count": null,
            "_view_module": "@jupyter-widgets/base",
            "_view_module_version": "1.2.0",
            "_view_name": "LayoutView",
            "align_content": null,
            "align_items": null,
            "align_self": null,
            "border": null,
            "bottom": null,
            "display": null,
            "flex": null,
            "flex_flow": null,
            "grid_area": null,
            "grid_auto_columns": null,
            "grid_auto_flow": null,
            "grid_auto_rows": null,
            "grid_column": null,
            "grid_gap": null,
            "grid_row": null,
            "grid_template_areas": null,
            "grid_template_columns": null,
            "grid_template_rows": null,
            "height": null,
            "justify_content": null,
            "justify_items": null,
            "left": null,
            "margin": null,
            "max_height": null,
            "max_width": null,
            "min_height": null,
            "min_width": null,
            "object_fit": null,
            "object_position": null,
            "order": null,
            "overflow": null,
            "overflow_x": null,
            "overflow_y": null,
            "padding": null,
            "right": null,
            "top": null,
            "visibility": null,
            "width": null
          }
        },
        "3ca29f5e78e647b096fd95f2ad013d97": {
          "model_module": "@jupyter-widgets/controls",
          "model_name": "DescriptionStyleModel",
          "model_module_version": "1.5.0",
          "state": {
            "_model_module": "@jupyter-widgets/controls",
            "_model_module_version": "1.5.0",
            "_model_name": "DescriptionStyleModel",
            "_view_count": null,
            "_view_module": "@jupyter-widgets/base",
            "_view_module_version": "1.2.0",
            "_view_name": "StyleView",
            "description_width": ""
          }
        },
        "b5f4a3b02da44c89989502de5984b8b4": {
          "model_module": "@jupyter-widgets/base",
          "model_name": "LayoutModel",
          "model_module_version": "1.2.0",
          "state": {
            "_model_module": "@jupyter-widgets/base",
            "_model_module_version": "1.2.0",
            "_model_name": "LayoutModel",
            "_view_count": null,
            "_view_module": "@jupyter-widgets/base",
            "_view_module_version": "1.2.0",
            "_view_name": "LayoutView",
            "align_content": null,
            "align_items": null,
            "align_self": null,
            "border": null,
            "bottom": null,
            "display": null,
            "flex": null,
            "flex_flow": null,
            "grid_area": null,
            "grid_auto_columns": null,
            "grid_auto_flow": null,
            "grid_auto_rows": null,
            "grid_column": null,
            "grid_gap": null,
            "grid_row": null,
            "grid_template_areas": null,
            "grid_template_columns": null,
            "grid_template_rows": null,
            "height": null,
            "justify_content": null,
            "justify_items": null,
            "left": null,
            "margin": null,
            "max_height": null,
            "max_width": null,
            "min_height": null,
            "min_width": null,
            "object_fit": null,
            "object_position": null,
            "order": null,
            "overflow": null,
            "overflow_x": null,
            "overflow_y": null,
            "padding": null,
            "right": null,
            "top": null,
            "visibility": null,
            "width": null
          }
        },
        "6c1e35c8307c40c6a53a04400b6f29e8": {
          "model_module": "@jupyter-widgets/controls",
          "model_name": "ProgressStyleModel",
          "model_module_version": "1.5.0",
          "state": {
            "_model_module": "@jupyter-widgets/controls",
            "_model_module_version": "1.5.0",
            "_model_name": "ProgressStyleModel",
            "_view_count": null,
            "_view_module": "@jupyter-widgets/base",
            "_view_module_version": "1.2.0",
            "_view_name": "StyleView",
            "bar_color": null,
            "description_width": ""
          }
        },
        "73c1d5e2685a43ebb4625d2b5a12369c": {
          "model_module": "@jupyter-widgets/base",
          "model_name": "LayoutModel",
          "model_module_version": "1.2.0",
          "state": {
            "_model_module": "@jupyter-widgets/base",
            "_model_module_version": "1.2.0",
            "_model_name": "LayoutModel",
            "_view_count": null,
            "_view_module": "@jupyter-widgets/base",
            "_view_module_version": "1.2.0",
            "_view_name": "LayoutView",
            "align_content": null,
            "align_items": null,
            "align_self": null,
            "border": null,
            "bottom": null,
            "display": null,
            "flex": null,
            "flex_flow": null,
            "grid_area": null,
            "grid_auto_columns": null,
            "grid_auto_flow": null,
            "grid_auto_rows": null,
            "grid_column": null,
            "grid_gap": null,
            "grid_row": null,
            "grid_template_areas": null,
            "grid_template_columns": null,
            "grid_template_rows": null,
            "height": null,
            "justify_content": null,
            "justify_items": null,
            "left": null,
            "margin": null,
            "max_height": null,
            "max_width": null,
            "min_height": null,
            "min_width": null,
            "object_fit": null,
            "object_position": null,
            "order": null,
            "overflow": null,
            "overflow_x": null,
            "overflow_y": null,
            "padding": null,
            "right": null,
            "top": null,
            "visibility": null,
            "width": null
          }
        },
        "3384d49efe9744c3974d452851c29e19": {
          "model_module": "@jupyter-widgets/controls",
          "model_name": "DescriptionStyleModel",
          "model_module_version": "1.5.0",
          "state": {
            "_model_module": "@jupyter-widgets/controls",
            "_model_module_version": "1.5.0",
            "_model_name": "DescriptionStyleModel",
            "_view_count": null,
            "_view_module": "@jupyter-widgets/base",
            "_view_module_version": "1.2.0",
            "_view_name": "StyleView",
            "description_width": ""
          }
        },
        "4386c3800264426e8854c8fbeeb82998": {
          "model_module": "@jupyter-widgets/controls",
          "model_name": "HBoxModel",
          "model_module_version": "1.5.0",
          "state": {
            "_dom_classes": [],
            "_model_module": "@jupyter-widgets/controls",
            "_model_module_version": "1.5.0",
            "_model_name": "HBoxModel",
            "_view_count": null,
            "_view_module": "@jupyter-widgets/controls",
            "_view_module_version": "1.5.0",
            "_view_name": "HBoxView",
            "box_style": "",
            "children": [
              "IPY_MODEL_04b01e7f85c34890956d27818004f0f3",
              "IPY_MODEL_5157a2bf49074b29b108875a4bb64ec9",
              "IPY_MODEL_add0755cdfd748e5b8b09c71a519700e"
            ],
            "layout": "IPY_MODEL_4bb18d2fbbfc46dfba23bd9a78558a4c"
          }
        },
        "04b01e7f85c34890956d27818004f0f3": {
          "model_module": "@jupyter-widgets/controls",
          "model_name": "HTMLModel",
          "model_module_version": "1.5.0",
          "state": {
            "_dom_classes": [],
            "_model_module": "@jupyter-widgets/controls",
            "_model_module_version": "1.5.0",
            "_model_name": "HTMLModel",
            "_view_count": null,
            "_view_module": "@jupyter-widgets/controls",
            "_view_module_version": "1.5.0",
            "_view_name": "HTMLView",
            "description": "",
            "description_tooltip": null,
            "layout": "IPY_MODEL_395f00881bf748e0bb8f78d0972f996c",
            "placeholder": "​",
            "style": "IPY_MODEL_90af32c7f5204dc2a972a12b3a9d6413",
            "value": "Downloading (…)okenizer_config.json: 100%"
          }
        },
        "5157a2bf49074b29b108875a4bb64ec9": {
          "model_module": "@jupyter-widgets/controls",
          "model_name": "FloatProgressModel",
          "model_module_version": "1.5.0",
          "state": {
            "_dom_classes": [],
            "_model_module": "@jupyter-widgets/controls",
            "_model_module_version": "1.5.0",
            "_model_name": "FloatProgressModel",
            "_view_count": null,
            "_view_module": "@jupyter-widgets/controls",
            "_view_module_version": "1.5.0",
            "_view_name": "ProgressView",
            "bar_style": "success",
            "description": "",
            "description_tooltip": null,
            "layout": "IPY_MODEL_9355eb0b58f64623bbdb35ed78069601",
            "max": 29,
            "min": 0,
            "orientation": "horizontal",
            "style": "IPY_MODEL_0c03a8d2b7f54f25ba732261a83d23c2",
            "value": 29
          }
        },
        "add0755cdfd748e5b8b09c71a519700e": {
          "model_module": "@jupyter-widgets/controls",
          "model_name": "HTMLModel",
          "model_module_version": "1.5.0",
          "state": {
            "_dom_classes": [],
            "_model_module": "@jupyter-widgets/controls",
            "_model_module_version": "1.5.0",
            "_model_name": "HTMLModel",
            "_view_count": null,
            "_view_module": "@jupyter-widgets/controls",
            "_view_module_version": "1.5.0",
            "_view_name": "HTMLView",
            "description": "",
            "description_tooltip": null,
            "layout": "IPY_MODEL_939c505a32ad41429a4a10fb0a2af745",
            "placeholder": "​",
            "style": "IPY_MODEL_fc25bfc4cbbf4e35b9030b6796534373",
            "value": " 29.0/29.0 [00:00&lt;00:00, 588B/s]"
          }
        },
        "4bb18d2fbbfc46dfba23bd9a78558a4c": {
          "model_module": "@jupyter-widgets/base",
          "model_name": "LayoutModel",
          "model_module_version": "1.2.0",
          "state": {
            "_model_module": "@jupyter-widgets/base",
            "_model_module_version": "1.2.0",
            "_model_name": "LayoutModel",
            "_view_count": null,
            "_view_module": "@jupyter-widgets/base",
            "_view_module_version": "1.2.0",
            "_view_name": "LayoutView",
            "align_content": null,
            "align_items": null,
            "align_self": null,
            "border": null,
            "bottom": null,
            "display": null,
            "flex": null,
            "flex_flow": null,
            "grid_area": null,
            "grid_auto_columns": null,
            "grid_auto_flow": null,
            "grid_auto_rows": null,
            "grid_column": null,
            "grid_gap": null,
            "grid_row": null,
            "grid_template_areas": null,
            "grid_template_columns": null,
            "grid_template_rows": null,
            "height": null,
            "justify_content": null,
            "justify_items": null,
            "left": null,
            "margin": null,
            "max_height": null,
            "max_width": null,
            "min_height": null,
            "min_width": null,
            "object_fit": null,
            "object_position": null,
            "order": null,
            "overflow": null,
            "overflow_x": null,
            "overflow_y": null,
            "padding": null,
            "right": null,
            "top": null,
            "visibility": null,
            "width": null
          }
        },
        "395f00881bf748e0bb8f78d0972f996c": {
          "model_module": "@jupyter-widgets/base",
          "model_name": "LayoutModel",
          "model_module_version": "1.2.0",
          "state": {
            "_model_module": "@jupyter-widgets/base",
            "_model_module_version": "1.2.0",
            "_model_name": "LayoutModel",
            "_view_count": null,
            "_view_module": "@jupyter-widgets/base",
            "_view_module_version": "1.2.0",
            "_view_name": "LayoutView",
            "align_content": null,
            "align_items": null,
            "align_self": null,
            "border": null,
            "bottom": null,
            "display": null,
            "flex": null,
            "flex_flow": null,
            "grid_area": null,
            "grid_auto_columns": null,
            "grid_auto_flow": null,
            "grid_auto_rows": null,
            "grid_column": null,
            "grid_gap": null,
            "grid_row": null,
            "grid_template_areas": null,
            "grid_template_columns": null,
            "grid_template_rows": null,
            "height": null,
            "justify_content": null,
            "justify_items": null,
            "left": null,
            "margin": null,
            "max_height": null,
            "max_width": null,
            "min_height": null,
            "min_width": null,
            "object_fit": null,
            "object_position": null,
            "order": null,
            "overflow": null,
            "overflow_x": null,
            "overflow_y": null,
            "padding": null,
            "right": null,
            "top": null,
            "visibility": null,
            "width": null
          }
        },
        "90af32c7f5204dc2a972a12b3a9d6413": {
          "model_module": "@jupyter-widgets/controls",
          "model_name": "DescriptionStyleModel",
          "model_module_version": "1.5.0",
          "state": {
            "_model_module": "@jupyter-widgets/controls",
            "_model_module_version": "1.5.0",
            "_model_name": "DescriptionStyleModel",
            "_view_count": null,
            "_view_module": "@jupyter-widgets/base",
            "_view_module_version": "1.2.0",
            "_view_name": "StyleView",
            "description_width": ""
          }
        },
        "9355eb0b58f64623bbdb35ed78069601": {
          "model_module": "@jupyter-widgets/base",
          "model_name": "LayoutModel",
          "model_module_version": "1.2.0",
          "state": {
            "_model_module": "@jupyter-widgets/base",
            "_model_module_version": "1.2.0",
            "_model_name": "LayoutModel",
            "_view_count": null,
            "_view_module": "@jupyter-widgets/base",
            "_view_module_version": "1.2.0",
            "_view_name": "LayoutView",
            "align_content": null,
            "align_items": null,
            "align_self": null,
            "border": null,
            "bottom": null,
            "display": null,
            "flex": null,
            "flex_flow": null,
            "grid_area": null,
            "grid_auto_columns": null,
            "grid_auto_flow": null,
            "grid_auto_rows": null,
            "grid_column": null,
            "grid_gap": null,
            "grid_row": null,
            "grid_template_areas": null,
            "grid_template_columns": null,
            "grid_template_rows": null,
            "height": null,
            "justify_content": null,
            "justify_items": null,
            "left": null,
            "margin": null,
            "max_height": null,
            "max_width": null,
            "min_height": null,
            "min_width": null,
            "object_fit": null,
            "object_position": null,
            "order": null,
            "overflow": null,
            "overflow_x": null,
            "overflow_y": null,
            "padding": null,
            "right": null,
            "top": null,
            "visibility": null,
            "width": null
          }
        },
        "0c03a8d2b7f54f25ba732261a83d23c2": {
          "model_module": "@jupyter-widgets/controls",
          "model_name": "ProgressStyleModel",
          "model_module_version": "1.5.0",
          "state": {
            "_model_module": "@jupyter-widgets/controls",
            "_model_module_version": "1.5.0",
            "_model_name": "ProgressStyleModel",
            "_view_count": null,
            "_view_module": "@jupyter-widgets/base",
            "_view_module_version": "1.2.0",
            "_view_name": "StyleView",
            "bar_color": null,
            "description_width": ""
          }
        },
        "939c505a32ad41429a4a10fb0a2af745": {
          "model_module": "@jupyter-widgets/base",
          "model_name": "LayoutModel",
          "model_module_version": "1.2.0",
          "state": {
            "_model_module": "@jupyter-widgets/base",
            "_model_module_version": "1.2.0",
            "_model_name": "LayoutModel",
            "_view_count": null,
            "_view_module": "@jupyter-widgets/base",
            "_view_module_version": "1.2.0",
            "_view_name": "LayoutView",
            "align_content": null,
            "align_items": null,
            "align_self": null,
            "border": null,
            "bottom": null,
            "display": null,
            "flex": null,
            "flex_flow": null,
            "grid_area": null,
            "grid_auto_columns": null,
            "grid_auto_flow": null,
            "grid_auto_rows": null,
            "grid_column": null,
            "grid_gap": null,
            "grid_row": null,
            "grid_template_areas": null,
            "grid_template_columns": null,
            "grid_template_rows": null,
            "height": null,
            "justify_content": null,
            "justify_items": null,
            "left": null,
            "margin": null,
            "max_height": null,
            "max_width": null,
            "min_height": null,
            "min_width": null,
            "object_fit": null,
            "object_position": null,
            "order": null,
            "overflow": null,
            "overflow_x": null,
            "overflow_y": null,
            "padding": null,
            "right": null,
            "top": null,
            "visibility": null,
            "width": null
          }
        },
        "fc25bfc4cbbf4e35b9030b6796534373": {
          "model_module": "@jupyter-widgets/controls",
          "model_name": "DescriptionStyleModel",
          "model_module_version": "1.5.0",
          "state": {
            "_model_module": "@jupyter-widgets/controls",
            "_model_module_version": "1.5.0",
            "_model_name": "DescriptionStyleModel",
            "_view_count": null,
            "_view_module": "@jupyter-widgets/base",
            "_view_module_version": "1.2.0",
            "_view_name": "StyleView",
            "description_width": ""
          }
        },
        "31005aa655ff429f87f1744d582e9c22": {
          "model_module": "@jupyter-widgets/controls",
          "model_name": "HBoxModel",
          "model_module_version": "1.5.0",
          "state": {
            "_dom_classes": [],
            "_model_module": "@jupyter-widgets/controls",
            "_model_module_version": "1.5.0",
            "_model_name": "HBoxModel",
            "_view_count": null,
            "_view_module": "@jupyter-widgets/controls",
            "_view_module_version": "1.5.0",
            "_view_name": "HBoxView",
            "box_style": "",
            "children": [
              "IPY_MODEL_51a185e7d2e147ad8e67d44a0b21fed6",
              "IPY_MODEL_ad509b094a1749eea24eda9642483902",
              "IPY_MODEL_89003d8ef4ab4519905f6860ea556085"
            ],
            "layout": "IPY_MODEL_aa88c0fd446141a7acaf5d128ab347c7"
          }
        },
        "51a185e7d2e147ad8e67d44a0b21fed6": {
          "model_module": "@jupyter-widgets/controls",
          "model_name": "HTMLModel",
          "model_module_version": "1.5.0",
          "state": {
            "_dom_classes": [],
            "_model_module": "@jupyter-widgets/controls",
            "_model_module_version": "1.5.0",
            "_model_name": "HTMLModel",
            "_view_count": null,
            "_view_module": "@jupyter-widgets/controls",
            "_view_module_version": "1.5.0",
            "_view_name": "HTMLView",
            "description": "",
            "description_tooltip": null,
            "layout": "IPY_MODEL_bcf74d4fd3324e139b611af88136719d",
            "placeholder": "​",
            "style": "IPY_MODEL_ad90e49459dc49fd925db1efd574ed3e",
            "value": "Downloading (…)lve/main/config.json: 100%"
          }
        },
        "ad509b094a1749eea24eda9642483902": {
          "model_module": "@jupyter-widgets/controls",
          "model_name": "FloatProgressModel",
          "model_module_version": "1.5.0",
          "state": {
            "_dom_classes": [],
            "_model_module": "@jupyter-widgets/controls",
            "_model_module_version": "1.5.0",
            "_model_name": "FloatProgressModel",
            "_view_count": null,
            "_view_module": "@jupyter-widgets/controls",
            "_view_module_version": "1.5.0",
            "_view_name": "ProgressView",
            "bar_style": "success",
            "description": "",
            "description_tooltip": null,
            "layout": "IPY_MODEL_d7770585af2f41eab39f96c3425839fc",
            "max": 570,
            "min": 0,
            "orientation": "horizontal",
            "style": "IPY_MODEL_0ee28e95096d48b3979595b92ffaa7e5",
            "value": 570
          }
        },
        "89003d8ef4ab4519905f6860ea556085": {
          "model_module": "@jupyter-widgets/controls",
          "model_name": "HTMLModel",
          "model_module_version": "1.5.0",
          "state": {
            "_dom_classes": [],
            "_model_module": "@jupyter-widgets/controls",
            "_model_module_version": "1.5.0",
            "_model_name": "HTMLModel",
            "_view_count": null,
            "_view_module": "@jupyter-widgets/controls",
            "_view_module_version": "1.5.0",
            "_view_name": "HTMLView",
            "description": "",
            "description_tooltip": null,
            "layout": "IPY_MODEL_00b546d1cab1437789fc9dd8cfc915e7",
            "placeholder": "​",
            "style": "IPY_MODEL_55f55ce6fdd84bf3a6bc04cae9be13fd",
            "value": " 570/570 [00:00&lt;00:00, 9.04kB/s]"
          }
        },
        "aa88c0fd446141a7acaf5d128ab347c7": {
          "model_module": "@jupyter-widgets/base",
          "model_name": "LayoutModel",
          "model_module_version": "1.2.0",
          "state": {
            "_model_module": "@jupyter-widgets/base",
            "_model_module_version": "1.2.0",
            "_model_name": "LayoutModel",
            "_view_count": null,
            "_view_module": "@jupyter-widgets/base",
            "_view_module_version": "1.2.0",
            "_view_name": "LayoutView",
            "align_content": null,
            "align_items": null,
            "align_self": null,
            "border": null,
            "bottom": null,
            "display": null,
            "flex": null,
            "flex_flow": null,
            "grid_area": null,
            "grid_auto_columns": null,
            "grid_auto_flow": null,
            "grid_auto_rows": null,
            "grid_column": null,
            "grid_gap": null,
            "grid_row": null,
            "grid_template_areas": null,
            "grid_template_columns": null,
            "grid_template_rows": null,
            "height": null,
            "justify_content": null,
            "justify_items": null,
            "left": null,
            "margin": null,
            "max_height": null,
            "max_width": null,
            "min_height": null,
            "min_width": null,
            "object_fit": null,
            "object_position": null,
            "order": null,
            "overflow": null,
            "overflow_x": null,
            "overflow_y": null,
            "padding": null,
            "right": null,
            "top": null,
            "visibility": null,
            "width": null
          }
        },
        "bcf74d4fd3324e139b611af88136719d": {
          "model_module": "@jupyter-widgets/base",
          "model_name": "LayoutModel",
          "model_module_version": "1.2.0",
          "state": {
            "_model_module": "@jupyter-widgets/base",
            "_model_module_version": "1.2.0",
            "_model_name": "LayoutModel",
            "_view_count": null,
            "_view_module": "@jupyter-widgets/base",
            "_view_module_version": "1.2.0",
            "_view_name": "LayoutView",
            "align_content": null,
            "align_items": null,
            "align_self": null,
            "border": null,
            "bottom": null,
            "display": null,
            "flex": null,
            "flex_flow": null,
            "grid_area": null,
            "grid_auto_columns": null,
            "grid_auto_flow": null,
            "grid_auto_rows": null,
            "grid_column": null,
            "grid_gap": null,
            "grid_row": null,
            "grid_template_areas": null,
            "grid_template_columns": null,
            "grid_template_rows": null,
            "height": null,
            "justify_content": null,
            "justify_items": null,
            "left": null,
            "margin": null,
            "max_height": null,
            "max_width": null,
            "min_height": null,
            "min_width": null,
            "object_fit": null,
            "object_position": null,
            "order": null,
            "overflow": null,
            "overflow_x": null,
            "overflow_y": null,
            "padding": null,
            "right": null,
            "top": null,
            "visibility": null,
            "width": null
          }
        },
        "ad90e49459dc49fd925db1efd574ed3e": {
          "model_module": "@jupyter-widgets/controls",
          "model_name": "DescriptionStyleModel",
          "model_module_version": "1.5.0",
          "state": {
            "_model_module": "@jupyter-widgets/controls",
            "_model_module_version": "1.5.0",
            "_model_name": "DescriptionStyleModel",
            "_view_count": null,
            "_view_module": "@jupyter-widgets/base",
            "_view_module_version": "1.2.0",
            "_view_name": "StyleView",
            "description_width": ""
          }
        },
        "d7770585af2f41eab39f96c3425839fc": {
          "model_module": "@jupyter-widgets/base",
          "model_name": "LayoutModel",
          "model_module_version": "1.2.0",
          "state": {
            "_model_module": "@jupyter-widgets/base",
            "_model_module_version": "1.2.0",
            "_model_name": "LayoutModel",
            "_view_count": null,
            "_view_module": "@jupyter-widgets/base",
            "_view_module_version": "1.2.0",
            "_view_name": "LayoutView",
            "align_content": null,
            "align_items": null,
            "align_self": null,
            "border": null,
            "bottom": null,
            "display": null,
            "flex": null,
            "flex_flow": null,
            "grid_area": null,
            "grid_auto_columns": null,
            "grid_auto_flow": null,
            "grid_auto_rows": null,
            "grid_column": null,
            "grid_gap": null,
            "grid_row": null,
            "grid_template_areas": null,
            "grid_template_columns": null,
            "grid_template_rows": null,
            "height": null,
            "justify_content": null,
            "justify_items": null,
            "left": null,
            "margin": null,
            "max_height": null,
            "max_width": null,
            "min_height": null,
            "min_width": null,
            "object_fit": null,
            "object_position": null,
            "order": null,
            "overflow": null,
            "overflow_x": null,
            "overflow_y": null,
            "padding": null,
            "right": null,
            "top": null,
            "visibility": null,
            "width": null
          }
        },
        "0ee28e95096d48b3979595b92ffaa7e5": {
          "model_module": "@jupyter-widgets/controls",
          "model_name": "ProgressStyleModel",
          "model_module_version": "1.5.0",
          "state": {
            "_model_module": "@jupyter-widgets/controls",
            "_model_module_version": "1.5.0",
            "_model_name": "ProgressStyleModel",
            "_view_count": null,
            "_view_module": "@jupyter-widgets/base",
            "_view_module_version": "1.2.0",
            "_view_name": "StyleView",
            "bar_color": null,
            "description_width": ""
          }
        },
        "00b546d1cab1437789fc9dd8cfc915e7": {
          "model_module": "@jupyter-widgets/base",
          "model_name": "LayoutModel",
          "model_module_version": "1.2.0",
          "state": {
            "_model_module": "@jupyter-widgets/base",
            "_model_module_version": "1.2.0",
            "_model_name": "LayoutModel",
            "_view_count": null,
            "_view_module": "@jupyter-widgets/base",
            "_view_module_version": "1.2.0",
            "_view_name": "LayoutView",
            "align_content": null,
            "align_items": null,
            "align_self": null,
            "border": null,
            "bottom": null,
            "display": null,
            "flex": null,
            "flex_flow": null,
            "grid_area": null,
            "grid_auto_columns": null,
            "grid_auto_flow": null,
            "grid_auto_rows": null,
            "grid_column": null,
            "grid_gap": null,
            "grid_row": null,
            "grid_template_areas": null,
            "grid_template_columns": null,
            "grid_template_rows": null,
            "height": null,
            "justify_content": null,
            "justify_items": null,
            "left": null,
            "margin": null,
            "max_height": null,
            "max_width": null,
            "min_height": null,
            "min_width": null,
            "object_fit": null,
            "object_position": null,
            "order": null,
            "overflow": null,
            "overflow_x": null,
            "overflow_y": null,
            "padding": null,
            "right": null,
            "top": null,
            "visibility": null,
            "width": null
          }
        },
        "55f55ce6fdd84bf3a6bc04cae9be13fd": {
          "model_module": "@jupyter-widgets/controls",
          "model_name": "DescriptionStyleModel",
          "model_module_version": "1.5.0",
          "state": {
            "_model_module": "@jupyter-widgets/controls",
            "_model_module_version": "1.5.0",
            "_model_name": "DescriptionStyleModel",
            "_view_count": null,
            "_view_module": "@jupyter-widgets/base",
            "_view_module_version": "1.2.0",
            "_view_name": "StyleView",
            "description_width": ""
          }
        }
      }
    },
    "accelerator": "GPU",
    "gpuClass": "standard"
  },
  "nbformat": 4,
  "nbformat_minor": 0
}