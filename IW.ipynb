{
  "nbformat": 4,
  "nbformat_minor": 0,
  "metadata": {
    "colab": {
      "provenance": [],
      "mount_file_id": "1F-y-mTQrQvWDBwWSC7QyNRKMCj8jJY2g",
      "authorship_tag": "ABX9TyO1XTF6ooWqmLP7dosU6ihb"
    },
    "kernelspec": {
      "name": "python3",
      "display_name": "Python 3"
    },
    "language_info": {
      "name": "python"
    }
  },
  "cells": [
    {
      "cell_type": "markdown",
      "source": [
        "# Brainstorm\n",
        "\n"
      ],
      "metadata": {
        "id": "0i2upx58l0wS"
      }
    },
    {
      "cell_type": "markdown",
      "source": [
        "Constitution Ideas:\n",
        "* target-only (has mention; control)\n",
        "* hateful keyword\n",
        "*  -->\n",
        "\n",
        "google trends: \"black lives matter\":\n",
        "* May 3 - Dec 26, 2020 (1% to 1%)\n",
        "* May 17 - Aug 22 (spike onset to decay; has longer tail)\n",
        "\n",
        "google trends: \"looting\":\n",
        "* May 17 - June 20 (spike onset to decay; no tail)\n",
        "\n",
        "google trends: \"blue lives matter\":\n",
        "* May 17 - July 11 (spike onset to decay; long tail)\n",
        "\n",
        "Annotation Strategy:\n",
        "1. Select tweets by oversampling tweets with BLM or \"hate\" keywords\n",
        "2. 2 annnotators read texts, sample 50 tweets, go over and discuss with me, revisit 50 tweets for changes, go over, done\n",
        "3. annotators annotate 3k tweets\n",
        "4. Note inter-rater score and Cohen's Kappa score\n",
        "5. Select data classified the same by BOTH annotators"
      ],
      "metadata": {
        "id": "NOXPMlp-Gqtd"
      }
    },
    {
      "cell_type": "markdown",
      "source": [
        "\n",
        "# Add and clean dataset"
      ],
      "metadata": {
        "id": "c95JcqzxQKGN"
      }
    },
    {
      "cell_type": "markdown",
      "source": [
        "**Dataset info:**\n",
        "* 9165 tweets\n",
        "* data collection period: 05/27 to 7/26 (2 months)\n",
        "* excluded users <150 followers (reduce bot spam tweets)\n",
        "* hate-speech specific tweets targeted via hashtags: BLM, ChangeTheSystem, AtlantaProtest, JusticeForGeorgeFloyd, BlueLivesMatter\n",
        "\n",
        "**Annotation criteria**\n",
        "* mention of hateful text\n",
        "* mention of non-hateful text\n",
        "* 5 undergrad/grad annotators, 100% agreement of at least 2/3 annotators selects tweet for final annotation, if agreement of last 2 annotators then final labeled, otherwise remove tweet from consideration\n",
        "\n"
      ],
      "metadata": {
        "id": "yL5IafhpSoss"
      }
    },
    {
      "cell_type": "code",
      "source": [
        "pip install contractions"
      ],
      "metadata": {
        "colab": {
          "base_uri": "https://localhost:8080/"
        },
        "id": "pLECiKNK8B0d",
        "outputId": "aef419e8-0d1b-49d5-c1ae-11c78b484197"
      },
      "execution_count": 20,
      "outputs": [
        {
          "output_type": "stream",
          "name": "stdout",
          "text": [
            "Looking in indexes: https://pypi.org/simple, https://us-python.pkg.dev/colab-wheels/public/simple/\n",
            "Requirement already satisfied: contractions in /usr/local/lib/python3.8/dist-packages (0.1.73)\n",
            "Requirement already satisfied: textsearch>=0.0.21 in /usr/local/lib/python3.8/dist-packages (from contractions) (0.0.24)\n",
            "Requirement already satisfied: anyascii in /usr/local/lib/python3.8/dist-packages (from textsearch>=0.0.21->contractions) (0.3.1)\n",
            "Requirement already satisfied: pyahocorasick in /usr/local/lib/python3.8/dist-packages (from textsearch>=0.0.21->contractions) (2.0.0)\n"
          ]
        }
      ]
    },
    {
      "cell_type": "code",
      "source": [
        "pip install nltk"
      ],
      "metadata": {
        "colab": {
          "base_uri": "https://localhost:8080/"
        },
        "id": "8bgjip_c-72h",
        "outputId": "46926c0a-30a9-4247-a88d-c98aea827d95"
      },
      "execution_count": 21,
      "outputs": [
        {
          "output_type": "stream",
          "name": "stdout",
          "text": [
            "Looking in indexes: https://pypi.org/simple, https://us-python.pkg.dev/colab-wheels/public/simple/\n",
            "Requirement already satisfied: nltk in /usr/local/lib/python3.8/dist-packages (3.7)\n",
            "Requirement already satisfied: regex>=2021.8.3 in /usr/local/lib/python3.8/dist-packages (from nltk) (2022.6.2)\n",
            "Requirement already satisfied: joblib in /usr/local/lib/python3.8/dist-packages (from nltk) (1.2.0)\n",
            "Requirement already satisfied: tqdm in /usr/local/lib/python3.8/dist-packages (from nltk) (4.64.1)\n",
            "Requirement already satisfied: click in /usr/local/lib/python3.8/dist-packages (from nltk) (8.1.3)\n"
          ]
        }
      ]
    },
    {
      "cell_type": "code",
      "source": [
        "import nltk\n",
        "import pandas as pd\n",
        "import ast\n",
        "from IPython.display import display\n",
        "nltk.download('punkt')\n",
        "nltk.download('stopwords')"
      ],
      "metadata": {
        "colab": {
          "base_uri": "https://localhost:8080/"
        },
        "id": "MagetBdeUQE-",
        "outputId": "b9f85f12-c1c3-428e-e380-13ed0e503086"
      },
      "execution_count": 22,
      "outputs": [
        {
          "output_type": "stream",
          "name": "stderr",
          "text": [
            "[nltk_data] Downloading package punkt to /root/nltk_data...\n",
            "[nltk_data]   Package punkt is already up-to-date!\n",
            "[nltk_data] Downloading package stopwords to /root/nltk_data...\n",
            "[nltk_data]   Package stopwords is already up-to-date!\n"
          ]
        },
        {
          "output_type": "execute_result",
          "data": {
            "text/plain": [
              "True"
            ]
          },
          "metadata": {},
          "execution_count": 22
        }
      ]
    },
    {
      "cell_type": "code",
      "source": [
        "url = 'https://raw.githubusercontent.com/saadiahmadx/IW23/main/TweetBLM.csv'\n",
        "df = pd.read_csv(url)\n",
        "updated_df = df"
      ],
      "metadata": {
        "id": "e42JTWpHl2WR"
      },
      "execution_count": 23,
      "outputs": []
    },
    {
      "cell_type": "markdown",
      "source": [
        "info. gathering + basic dataset cleaning "
      ],
      "metadata": {
        "id": "6ddexRstfygw"
      }
    },
    {
      "cell_type": "code",
      "source": [
        "print ('n =', df['hate label'].count(), '\\n')\n",
        "print(df['hate label'].value_counts(normalize=True), '(normalized) \\n')\n",
        "print(df['source'].value_counts(normalize=True), '(normalized) \\n')\n",
        "\n",
        "#convert user_created dates to numeric\n",
        "updated_df['user_created'] = pd.to_datetime(df['user_created'], errors='coerce', dayfirst=True)\n",
        "\n",
        "#collection period, 1mo before, 6mo, 1yr, 5yr\n",
        "custom_bins = ['2020-08-10 11:00:00', '2020-05-26 00:00:00', '2020-04-26 00:00:00', '2019-11-26 00:00:00', '2019-05-26 00:00:00', '2015-05-26 00:00:00']\n",
        "custom_bins = pd.to_datetime(custom_bins.reverse())\n",
        "print(updated_df['user_created'].value_counts(normalize=True, bins=12), '(normalized) \\n')\n",
        "\n",
        "print(updated_df['hashtags'].value_counts(normalize=True), '(normalized) \\n')\n",
        "# def convert_hashtag_string(s):\n",
        "#   t = ast.literal_eval(s)\n",
        "#   t = [n.strip() for n in t]\n",
        "#   return t\n",
        "# all_hashtags = []\n",
        "# for index, row in df['hashtags'].iteritems():\n",
        "#   print(row)\n",
        "#   if (row):\n",
        "#     h = convert_hashtag_string(str(row).replace('\\'', '\"'))\n",
        "#     all_hashtags = all_hashtags + h\n",
        "# df_hashtag = pd.Series(all_hashtags)\n",
        "# print(df_hashtag.value_counts(normalize=True))"
      ],
      "metadata": {
        "colab": {
          "base_uri": "https://localhost:8080/"
        },
        "id": "MZIp_HKJJJWG",
        "outputId": "9639a6d4-e0b6-496b-8263-df4ef8d1041b"
      },
      "execution_count": 24,
      "outputs": [
        {
          "output_type": "stream",
          "name": "stdout",
          "text": [
            "n = 9165 \n",
            "\n",
            "0    0.663502\n",
            "1    0.336498\n",
            "Name: hate label, dtype: float64 (normalized) \n",
            "\n",
            "Twitter for iPhone     0.338791\n",
            "Twitter for Android    0.311722\n",
            "Twitter Web App        0.274722\n",
            "Twitter for iPad       0.046169\n",
            "TweetDeck              0.004802\n",
            "                         ...   \n",
            "SYSTHUB                0.000109\n",
            "WordPress.com          0.000109\n",
            "Biden Cabinet App      0.000109\n",
            "Echofon                0.000109\n",
            "dlvr.it                0.000109\n",
            "Name: source, Length: 79, dtype: float64 (normalized) \n",
            "\n",
            "(2019-06-17 15:05:00, 2020-08-10 11:00:00]              0.231424\n",
            "(2009-02-11 03:50:00, 2010-04-06 23:45:00]              0.115330\n",
            "(2018-04-23 19:10:00, 2019-06-17 15:05:00]              0.092526\n",
            "(2011-05-31 19:40:00, 2012-07-24 15:35:00]              0.089689\n",
            "(2016-01-05 03:20:00, 2017-02-27 23:15:00]              0.083797\n",
            "(2017-02-27 23:15:00, 2018-04-23 19:10:00]              0.081397\n",
            "(2013-09-17 11:30:00, 2014-11-11 07:25:00]              0.075505\n",
            "(2012-07-24 15:35:00, 2013-09-17 11:30:00]              0.069067\n",
            "(2010-04-06 23:45:00, 2011-05-31 19:40:00]              0.066558\n",
            "(2014-11-11 07:25:00, 2016-01-05 03:20:00]              0.064266\n",
            "(2007-12-19 07:55:00, 2009-02-11 03:50:00]              0.026732\n",
            "(2006-10-20 11:05:20.399999999, 2007-12-19 07:55:00]    0.003382\n",
            "Name: user_created, dtype: float64 (normalized) \n",
            "\n",
            "['BlackLivesMatter']                                                                      0.531094\n",
            "['BLM']                                                                                   0.080950\n",
            "['MeToo', 'BLM']                                                                          0.028597\n",
            "['HBDMaheshBabu', 'TwitterBestFandom']                                                    0.022999\n",
            "['PortlandPolice']                                                                        0.016039\n",
            "                                                                                            ...   \n",
            "['abolishthecarceralstate', 'today', 'Bronx', 'Brooklyn', 'Manhattan', 'StatenIsland']    0.000151\n",
            "['BLM', 'WhitePrivilege', 'WWG1GWA']                                                      0.000151\n",
            "['PoliceBrutality', 'blm']                                                                0.000151\n",
            "['Earworm']                                                                               0.000151\n",
            "['austinprotests', 'livestream', 'backtheblue']                                           0.000151\n",
            "Name: hashtags, Length: 825, dtype: float64 (normalized) \n",
            "\n"
          ]
        }
      ]
    },
    {
      "cell_type": "markdown",
      "source": [
        "tweet preprocessing"
      ],
      "metadata": {
        "id": "stfGs8jmf646"
      }
    },
    {
      "cell_type": "code",
      "source": [
        "import re, string, unicodedata\n",
        "import contractions\n",
        "import nltk\n",
        "import inflect\n",
        "from nltk import word_tokenize, sent_tokenize\n",
        "from nltk.corpus import stopwords\n",
        "from nltk.stem import LancasterStemmer, WordNetLemmatizer\n",
        "from nltk.util import ngrams\n",
        "\n",
        "text='RT @AgainWoodsy: 🍏🍏 Don\\'t like mentally retarded & weird @JoeBiden #BlackLivesMatter activists screaming like big girls in a shopping store. https://t.co/KlhxJoSoLu'\n",
        "\n",
        "def get_media_url(tweet):\n",
        "  media_link = 'https://t.co/' + re.findall(\"https://t.co/([a-zA-Z0-9_]{1,50})\", tweet)[0]\n",
        "  return media_link\n",
        "\n",
        "def get_retweet(tweet):\n",
        "  return re.findall(\"RT @([a-zA-Z0-9_]{1,50})\", tweet)\n",
        "\n",
        "def get_mentions(tweet):\n",
        "  return re.findall(\"@([a-zA-Z0-9_]{1,50})\", tweet)\n",
        "\n",
        "def get_hashtags(tweet):\n",
        "  return re.findall(\"#([a-zA-Z0-9_]{1,50})\", tweet)\n",
        "\n",
        "def remove_url(text):\n",
        "  return re.sub(r\"https?:[^\\s]+\", \"\", text)\n",
        "\n",
        "def remove_contractions(text):\n",
        "  return contractions.fix(text)\n",
        "\n",
        "def remove_non_ascii(words):\n",
        "    new_words = []\n",
        "    for word in words:\n",
        "        new_word = unicodedata.normalize('NFKD', word).encode('ascii', 'ignore').decode('utf-8', 'ignore')\n",
        "        new_words.append(new_word)\n",
        "    return new_words\n",
        "\n",
        "def remove_punctuation(words):\n",
        "    new_words = []\n",
        "    for word in words:\n",
        "        new_word = re.sub(r'[^\\w\\s]', '', word)\n",
        "        if new_word != '':\n",
        "            new_words.append(new_word)\n",
        "    return new_words\n",
        "\n",
        "def replace_numbers(words):\n",
        "    p = inflect.engine()\n",
        "    new_words = []\n",
        "    for word in words:\n",
        "        if word.isdigit():\n",
        "            new_word = p.number_to_words(word)\n",
        "            new_words.append(new_word)\n",
        "        else:\n",
        "            new_words.append(word)\n",
        "    return new_words\n",
        "\n",
        "def remove_stopwords(words):\n",
        "    new_words = []\n",
        "    for word in words:\n",
        "        if word not in stopwords.words('english'):\n",
        "            new_words.append(word)\n",
        "    return new_words\n",
        "\n",
        "def normalize(words):\n",
        "    words = remove_non_ascii(words)\n",
        "    words = remove_punctuation(words)\n",
        "    words = replace_numbers(words)\n",
        "    words = remove_stopwords(words)\n",
        "    return words\n",
        "\n",
        "def process_tweet(tweet):\n",
        "  p_tweet = tweet\n",
        "  p_tweet = remove_url(p_tweet)\n",
        "  p_tweet = remove_contractions(p_tweet)\n",
        "  retweet = get_retweet(p_tweet)\n",
        "  if (retweet):\n",
        "    p_tweet = p_tweet.replace('RT @' + retweet[0] + ': ', '')\n",
        "  p_tweet = p_tweet.lower()\n",
        "  mentions = get_mentions(p_tweet)\n",
        "  if (mentions):\n",
        "    for i in range(len(mentions)):\n",
        "      p_tweet = p_tweet.replace(' @' + mentions[i], '')\n",
        "  hashtags = get_hashtags(p_tweet)\n",
        "  if (hashtags):\n",
        "    for i in range(len(hashtags)):\n",
        "      p_tweet = p_tweet.replace(' #' + hashtags[i], '')\n",
        "  \n",
        "  words = nltk.word_tokenize(p_tweet)\n",
        "  #print('\\nwords:', words)\n",
        "\n",
        "  words = normalize(words)\n",
        "  return words\n",
        "\n",
        "print(' Original Tweet:\\n', text, '\\n\\n', 'Processed Tweet:\\n', process_tweet(text))\n",
        "print('\\nMedia Link:', get_media_url(text), '\\nRetweet:', get_retweet(text), '\\nMentions:', get_mentions(text), '\\nHashtags:', get_hashtags(text))"
      ],
      "metadata": {
        "colab": {
          "base_uri": "https://localhost:8080/"
        },
        "id": "iJ7yRvYAf6KO",
        "outputId": "2f2bca50-97ae-4772-bdc1-25f2023b31f2"
      },
      "execution_count": 25,
      "outputs": [
        {
          "output_type": "stream",
          "name": "stdout",
          "text": [
            " Original Tweet:\n",
            " RT @AgainWoodsy: 🍏🍏 Don't like mentally retarded & weird @JoeBiden #BlackLivesMatter activists screaming like big girls in a shopping store. https://t.co/KlhxJoSoLu \n",
            "\n",
            " Processed Tweet:\n",
            " ['like', 'mentally', 'retarded', 'weird', 'activists', 'screaming', 'like', 'big', 'girls', 'shopping', 'store']\n",
            "\n",
            "Media Link: https://t.co/KlhxJoSoLu \n",
            "Retweet: ['AgainWoodsy'] \n",
            "Mentions: ['AgainWoodsy', 'JoeBiden'] \n",
            "Hashtags: ['BlackLivesMatter']\n"
          ]
        }
      ]
    },
    {
      "cell_type": "code",
      "source": [
        "all_mentions = []\n",
        "all_hashtags = []\n",
        "all_unigrams = []\n",
        "all_bigrams = []\n",
        "for index, row in df['text'].iteritems():\n",
        "  all_mentions += get_mentions(row.lower())\n",
        "  all_hashtags += get_hashtags(row.lower())\n",
        "  processed = process_tweet(row)\n",
        "  all_unigrams += processed\n",
        "  all_bigrams += list(ngrams(processed, 2))\n",
        "  updated_df.at[index, 'text'] = processed\n",
        "updated_df.drop(['hashtags', 'source', 'user_created', 'user_friends', 'user_favourites', 'is_retweet'], axis=1, inplace=True)"
      ],
      "metadata": {
        "id": "SCo_Fzew-6jh"
      },
      "execution_count": 26,
      "outputs": []
    },
    {
      "cell_type": "code",
      "source": [
        "display(updated_df)"
      ],
      "metadata": {
        "colab": {
          "base_uri": "https://localhost:8080/",
          "height": 423
        },
        "id": "si29KSOnVExE",
        "outputId": "6368a776-7daf-417a-8716-6d9c0c3d7fe4"
      },
      "execution_count": 27,
      "outputs": [
        {
          "output_type": "display_data",
          "data": {
            "text/plain": [
              "                                                   text  hate label\n",
              "0                                  [know, take, others]           0\n",
              "1             [tonight, interview, tune, 8pm, preorder]           0\n",
              "2     [officers, advance, close, crowd, attempting, ...           0\n",
              "3     [wwe, hof, skin, color, former, wwe, wrestler,...           0\n",
              "4     [shaunking, going, fighting, life, rights, rea...           0\n",
              "...                                                 ...         ...\n",
              "9160          [watch, segregated, design, watch, video]           1\n",
              "9161    [dawnbutler, fair, always, known, men, uniform]           1\n",
              "9162  [hislifemattered, heard, offer, condolences, a...           1\n",
              "9163  [like, whole, niranga, situation, makes, retra...           1\n",
              "9164  [people, suck, violent, thugs, good, bitching,...           1\n",
              "\n",
              "[9165 rows x 2 columns]"
            ],
            "text/html": [
              "\n",
              "  <div id=\"df-79840356-ea2b-4670-820f-aa0490ed387d\">\n",
              "    <div class=\"colab-df-container\">\n",
              "      <div>\n",
              "<style scoped>\n",
              "    .dataframe tbody tr th:only-of-type {\n",
              "        vertical-align: middle;\n",
              "    }\n",
              "\n",
              "    .dataframe tbody tr th {\n",
              "        vertical-align: top;\n",
              "    }\n",
              "\n",
              "    .dataframe thead th {\n",
              "        text-align: right;\n",
              "    }\n",
              "</style>\n",
              "<table border=\"1\" class=\"dataframe\">\n",
              "  <thead>\n",
              "    <tr style=\"text-align: right;\">\n",
              "      <th></th>\n",
              "      <th>text</th>\n",
              "      <th>hate label</th>\n",
              "    </tr>\n",
              "  </thead>\n",
              "  <tbody>\n",
              "    <tr>\n",
              "      <th>0</th>\n",
              "      <td>[know, take, others]</td>\n",
              "      <td>0</td>\n",
              "    </tr>\n",
              "    <tr>\n",
              "      <th>1</th>\n",
              "      <td>[tonight, interview, tune, 8pm, preorder]</td>\n",
              "      <td>0</td>\n",
              "    </tr>\n",
              "    <tr>\n",
              "      <th>2</th>\n",
              "      <td>[officers, advance, close, crowd, attempting, ...</td>\n",
              "      <td>0</td>\n",
              "    </tr>\n",
              "    <tr>\n",
              "      <th>3</th>\n",
              "      <td>[wwe, hof, skin, color, former, wwe, wrestler,...</td>\n",
              "      <td>0</td>\n",
              "    </tr>\n",
              "    <tr>\n",
              "      <th>4</th>\n",
              "      <td>[shaunking, going, fighting, life, rights, rea...</td>\n",
              "      <td>0</td>\n",
              "    </tr>\n",
              "    <tr>\n",
              "      <th>...</th>\n",
              "      <td>...</td>\n",
              "      <td>...</td>\n",
              "    </tr>\n",
              "    <tr>\n",
              "      <th>9160</th>\n",
              "      <td>[watch, segregated, design, watch, video]</td>\n",
              "      <td>1</td>\n",
              "    </tr>\n",
              "    <tr>\n",
              "      <th>9161</th>\n",
              "      <td>[dawnbutler, fair, always, known, men, uniform]</td>\n",
              "      <td>1</td>\n",
              "    </tr>\n",
              "    <tr>\n",
              "      <th>9162</th>\n",
              "      <td>[hislifemattered, heard, offer, condolences, a...</td>\n",
              "      <td>1</td>\n",
              "    </tr>\n",
              "    <tr>\n",
              "      <th>9163</th>\n",
              "      <td>[like, whole, niranga, situation, makes, retra...</td>\n",
              "      <td>1</td>\n",
              "    </tr>\n",
              "    <tr>\n",
              "      <th>9164</th>\n",
              "      <td>[people, suck, violent, thugs, good, bitching,...</td>\n",
              "      <td>1</td>\n",
              "    </tr>\n",
              "  </tbody>\n",
              "</table>\n",
              "<p>9165 rows × 2 columns</p>\n",
              "</div>\n",
              "      <button class=\"colab-df-convert\" onclick=\"convertToInteractive('df-79840356-ea2b-4670-820f-aa0490ed387d')\"\n",
              "              title=\"Convert this dataframe to an interactive table.\"\n",
              "              style=\"display:none;\">\n",
              "        \n",
              "  <svg xmlns=\"http://www.w3.org/2000/svg\" height=\"24px\"viewBox=\"0 0 24 24\"\n",
              "       width=\"24px\">\n",
              "    <path d=\"M0 0h24v24H0V0z\" fill=\"none\"/>\n",
              "    <path d=\"M18.56 5.44l.94 2.06.94-2.06 2.06-.94-2.06-.94-.94-2.06-.94 2.06-2.06.94zm-11 1L8.5 8.5l.94-2.06 2.06-.94-2.06-.94L8.5 2.5l-.94 2.06-2.06.94zm10 10l.94 2.06.94-2.06 2.06-.94-2.06-.94-.94-2.06-.94 2.06-2.06.94z\"/><path d=\"M17.41 7.96l-1.37-1.37c-.4-.4-.92-.59-1.43-.59-.52 0-1.04.2-1.43.59L10.3 9.45l-7.72 7.72c-.78.78-.78 2.05 0 2.83L4 21.41c.39.39.9.59 1.41.59.51 0 1.02-.2 1.41-.59l7.78-7.78 2.81-2.81c.8-.78.8-2.07 0-2.86zM5.41 20L4 18.59l7.72-7.72 1.47 1.35L5.41 20z\"/>\n",
              "  </svg>\n",
              "      </button>\n",
              "      \n",
              "  <style>\n",
              "    .colab-df-container {\n",
              "      display:flex;\n",
              "      flex-wrap:wrap;\n",
              "      gap: 12px;\n",
              "    }\n",
              "\n",
              "    .colab-df-convert {\n",
              "      background-color: #E8F0FE;\n",
              "      border: none;\n",
              "      border-radius: 50%;\n",
              "      cursor: pointer;\n",
              "      display: none;\n",
              "      fill: #1967D2;\n",
              "      height: 32px;\n",
              "      padding: 0 0 0 0;\n",
              "      width: 32px;\n",
              "    }\n",
              "\n",
              "    .colab-df-convert:hover {\n",
              "      background-color: #E2EBFA;\n",
              "      box-shadow: 0px 1px 2px rgba(60, 64, 67, 0.3), 0px 1px 3px 1px rgba(60, 64, 67, 0.15);\n",
              "      fill: #174EA6;\n",
              "    }\n",
              "\n",
              "    [theme=dark] .colab-df-convert {\n",
              "      background-color: #3B4455;\n",
              "      fill: #D2E3FC;\n",
              "    }\n",
              "\n",
              "    [theme=dark] .colab-df-convert:hover {\n",
              "      background-color: #434B5C;\n",
              "      box-shadow: 0px 1px 3px 1px rgba(0, 0, 0, 0.15);\n",
              "      filter: drop-shadow(0px 1px 2px rgba(0, 0, 0, 0.3));\n",
              "      fill: #FFFFFF;\n",
              "    }\n",
              "  </style>\n",
              "\n",
              "      <script>\n",
              "        const buttonEl =\n",
              "          document.querySelector('#df-79840356-ea2b-4670-820f-aa0490ed387d button.colab-df-convert');\n",
              "        buttonEl.style.display =\n",
              "          google.colab.kernel.accessAllowed ? 'block' : 'none';\n",
              "\n",
              "        async function convertToInteractive(key) {\n",
              "          const element = document.querySelector('#df-79840356-ea2b-4670-820f-aa0490ed387d');\n",
              "          const dataTable =\n",
              "            await google.colab.kernel.invokeFunction('convertToInteractive',\n",
              "                                                     [key], {});\n",
              "          if (!dataTable) return;\n",
              "\n",
              "          const docLinkHtml = 'Like what you see? Visit the ' +\n",
              "            '<a target=\"_blank\" href=https://colab.research.google.com/notebooks/data_table.ipynb>data table notebook</a>'\n",
              "            + ' to learn more about interactive tables.';\n",
              "          element.innerHTML = '';\n",
              "          dataTable['output_type'] = 'display_data';\n",
              "          await google.colab.output.renderOutput(dataTable, element);\n",
              "          const docLink = document.createElement('div');\n",
              "          docLink.innerHTML = docLinkHtml;\n",
              "          element.appendChild(docLink);\n",
              "        }\n",
              "      </script>\n",
              "    </div>\n",
              "  </div>\n",
              "  "
            ]
          },
          "metadata": {}
        }
      ]
    },
    {
      "cell_type": "code",
      "source": [
        "df_hashtag = pd.Series(all_hashtags)\n",
        "df_mentions = pd.Series(all_mentions)\n",
        "df_unigrams = pd.Series(all_unigrams)\n",
        "df_bigrams = pd.Series(all_bigrams)\n",
        "print('Hashtags:\\n\\n', df_hashtag.value_counts(normalize=True), '(normalized)\\n')\n",
        "print('Mentions:\\n\\n', df_mentions.value_counts(normalize=True), '(normalized)\\n')\n",
        "print('Unigrams:\\n\\n', df_unigrams.value_counts(normalize=True), '(normalized)\\n')\n",
        "print('Bigrams:\\n\\n', df_bigrams.value_counts(normalize=True), '(normalized)\\n')"
      ],
      "metadata": {
        "colab": {
          "base_uri": "https://localhost:8080/"
        },
        "id": "rdLPZ_v6n0E_",
        "outputId": "4a38b273-02b8-4d8f-fe76-ff3389051b73"
      },
      "execution_count": 28,
      "outputs": [
        {
          "output_type": "stream",
          "name": "stdout",
          "text": [
            "Hashtags:\n",
            "\n",
            " blacklivesmatter    0.228274\n",
            "blm                 0.141146\n",
            "antifa              0.014360\n",
            "portland            0.009970\n",
            "portlandprotests    0.009301\n",
            "                      ...   \n",
            "heaux               0.000074\n",
            "stra                0.000074\n",
            "anklagejetzt        0.000074\n",
            "justiceformbobda    0.000074\n",
            "lord                0.000074\n",
            "Length: 3274, dtype: float64 (normalized)\n",
            "\n",
            "Mentions:\n",
            "\n",
            " realdonaldtrump    0.016663\n",
            "dawnbutlerbrent    0.012922\n",
            "mrandyngo          0.006574\n",
            "joebiden           0.006348\n",
            "youtube            0.005214\n",
            "                     ...   \n",
            "heartafire777      0.000113\n",
            "ayecesar_          0.000113\n",
            "epochtimes         0.000113\n",
            "news_ntd           0.000113\n",
            "kepler186f_in      0.000113\n",
            "Length: 5693, dtype: float64 (normalized)\n",
            "\n",
            "Unigrams:\n",
            "\n",
            " black               0.013832\n",
            "blacklivesmatter    0.010665\n",
            "people              0.009582\n",
            "amp                 0.007669\n",
            "police              0.007220\n",
            "                      ...   \n",
            "maryland            0.000013\n",
            "renta               0.000013\n",
            "westminster         0.000013\n",
            "youstand            0.000013\n",
            "bitching            0.000013\n",
            "Length: 14761, dtype: float64 (normalized)\n",
            "\n",
            "Bigrams:\n",
            "\n",
            " (black, lives)               0.003948\n",
            "(lives, matter)              0.003798\n",
            "(black, people)              0.001741\n",
            "(let, us)                    0.001171\n",
            "(ding, ding)                 0.001051\n",
            "                               ...   \n",
            "(another, clash)             0.000015\n",
            "(clash, protesters)          0.000015\n",
            "(protesters, militarised)    0.000015\n",
            "(militarised, federal)       0.000015\n",
            "(marxists, suck)             0.000015\n",
            "Length: 50506, dtype: float64 (normalized)\n",
            "\n"
          ]
        }
      ]
    },
    {
      "cell_type": "markdown",
      "source": [
        "# Model: Convert to BERT embeddings"
      ],
      "metadata": {
        "id": "IetvuWed2P3r"
      }
    },
    {
      "cell_type": "code",
      "source": [],
      "metadata": {
        "id": "qOtnJ0fi2ZjN"
      },
      "execution_count": null,
      "outputs": []
    }
  ]
}